{
 "cells": [
  {
   "cell_type": "markdown",
   "id": "prostate-arizona",
   "metadata": {
    "id": "bA5ajAmk7XH6"
   },
   "source": [
    "# Combining and Cleaning Data in Python\n",
    "\n",
    "In this tutorial, we have a dataset of restaurants in the great Los Angeles area that needs cleaning. In fact, we have two datasets that need to joined, then cleaned. The tasks we need to accomplish are: importing the data to dataframes, combining the dataframes, cleaning up the dataframes (stripping whitespace, removing unwanted periods, remapping categories for 'city' and 'type'), and removing duplicates. I will show you how to check for exact duplicates and near exact duplicates after joining and cleaning the data and then I will show you how to check for duplicates prior to joining the dataframes and then joining them after removing the duplicates. "
   ]
  },
  {
   "cell_type": "code",
   "execution_count": null,
   "id": "2e25fdd8-4d84-45bc-80f0-949917e00a17",
   "metadata": {},
   "outputs": [],
   "source": [
    "# Importing tutorial packages\n",
    "import pandas as pd\n",
    "import numpy as np\n",
    "import datetime as dt\n",
    "import matplotlib.pyplot as plt\n",
    "import recordlinkage\n",
    "import string\n",
    "\n",
    "# Importing tutorial datasets as DataFrames, replace the ... with your path to the file\n",
    "restaurants = pd.read_csv('.../restaurants_L2.csv', index_col = 'Unnamed: 0')\n",
    "restaurants_new = pd.read_csv('.../restaurants_L2_dirty.csv', index_col = 'Unnamed: 0')\n"
   ]
  },
  {
   "cell_type": "code",
   "execution_count": null,
   "id": "ebc4a7cf-bd20-4a24-ae2c-c00763eed014",
   "metadata": {},
   "outputs": [
    {
     "data": {
      "application/com.datacamp.data-table.v1+json": {
       "is_truncated": false,
       "table": {
        "data": [
         {
          "addr": " 435 s. la cienega blv . ",
          "city": "los angeles",
          "index": 0,
          "name": "arnie morton's of chicago",
          "phone": 3102461501,
          "type": "american"
         },
         {
          "addr": " 12224 ventura blvd. ",
          "city": "studio city",
          "index": 1,
          "name": "art's delicatessen",
          "phone": 8187621221,
          "type": "american"
         },
         {
          "addr": " 624 s. la brea ave. ",
          "city": "los angeles",
          "index": 2,
          "name": "campanile",
          "phone": 2139381447,
          "type": "american"
         },
         {
          "addr": " 8358 sunset blvd. west ",
          "city": "hollywood",
          "index": 3,
          "name": "fenix",
          "phone": 2138486677,
          "type": "american"
         },
         {
          "addr": " 9560 dayton way ",
          "city": "los angeles",
          "index": 4,
          "name": "grill on the alley",
          "phone": 3102760615,
          "type": "american"
         }
        ],
        "schema": {
         "fields": [
          {
           "name": "index",
           "type": "integer"
          },
          {
           "name": "name",
           "type": "string"
          },
          {
           "name": "addr",
           "type": "string"
          },
          {
           "name": "city",
           "type": "string"
          },
          {
           "name": "phone",
           "type": "integer"
          },
          {
           "name": "type",
           "type": "string"
          }
         ],
         "pandas_version": "0.20.0",
         "primaryKey": [
          "index"
         ]
        }
       },
       "total_rows": 5
      },
      "text/html": [
       "<div>\n",
       "<style scoped>\n",
       "    .dataframe tbody tr th:only-of-type {\n",
       "        vertical-align: middle;\n",
       "    }\n",
       "\n",
       "    .dataframe tbody tr th {\n",
       "        vertical-align: top;\n",
       "    }\n",
       "\n",
       "    .dataframe thead th {\n",
       "        text-align: right;\n",
       "    }\n",
       "</style>\n",
       "<table border=\"1\" class=\"dataframe\">\n",
       "  <thead>\n",
       "    <tr style=\"text-align: right;\">\n",
       "      <th></th>\n",
       "      <th>name</th>\n",
       "      <th>addr</th>\n",
       "      <th>city</th>\n",
       "      <th>phone</th>\n",
       "      <th>type</th>\n",
       "    </tr>\n",
       "  </thead>\n",
       "  <tbody>\n",
       "    <tr>\n",
       "      <th>0</th>\n",
       "      <td>arnie morton's of chicago</td>\n",
       "      <td>435 s. la cienega blv .</td>\n",
       "      <td>los angeles</td>\n",
       "      <td>3102461501</td>\n",
       "      <td>american</td>\n",
       "    </tr>\n",
       "    <tr>\n",
       "      <th>1</th>\n",
       "      <td>art's delicatessen</td>\n",
       "      <td>12224 ventura blvd.</td>\n",
       "      <td>studio city</td>\n",
       "      <td>8187621221</td>\n",
       "      <td>american</td>\n",
       "    </tr>\n",
       "    <tr>\n",
       "      <th>2</th>\n",
       "      <td>campanile</td>\n",
       "      <td>624 s. la brea ave.</td>\n",
       "      <td>los angeles</td>\n",
       "      <td>2139381447</td>\n",
       "      <td>american</td>\n",
       "    </tr>\n",
       "    <tr>\n",
       "      <th>3</th>\n",
       "      <td>fenix</td>\n",
       "      <td>8358 sunset blvd. west</td>\n",
       "      <td>hollywood</td>\n",
       "      <td>2138486677</td>\n",
       "      <td>american</td>\n",
       "    </tr>\n",
       "    <tr>\n",
       "      <th>4</th>\n",
       "      <td>grill on the alley</td>\n",
       "      <td>9560 dayton way</td>\n",
       "      <td>los angeles</td>\n",
       "      <td>3102760615</td>\n",
       "      <td>american</td>\n",
       "    </tr>\n",
       "  </tbody>\n",
       "</table>\n",
       "</div>"
      ],
      "text/plain": [
       "                        name                       addr         city  \\\n",
       "0  arnie morton's of chicago   435 s. la cienega blv .   los angeles   \n",
       "1         art's delicatessen       12224 ventura blvd.   studio city   \n",
       "2                  campanile       624 s. la brea ave.   los angeles   \n",
       "3                      fenix    8358 sunset blvd. west     hollywood   \n",
       "4         grill on the alley           9560 dayton way   los angeles   \n",
       "\n",
       "        phone      type  \n",
       "0  3102461501  american  \n",
       "1  8187621221  american  \n",
       "2  2139381447  american  \n",
       "3  2138486677  american  \n",
       "4  3102760615  american  "
      ]
     },
     "execution_count": 3,
     "metadata": {},
     "output_type": "execute_result"
    }
   ],
   "source": [
    "# Looking over the data\n",
    "restaurants.head()"
   ]
  },
  {
   "cell_type": "code",
   "execution_count": null,
   "id": "bbf814a9-a430-479f-ae6d-babf05c9c02a",
   "metadata": {},
   "outputs": [
    {
     "data": {
      "application/com.datacamp.data-table.v1+json": {
       "is_truncated": false,
       "table": {
        "data": [
         {
          "addr": "6333 w. third st.",
          "city": "la",
          "index": 0,
          "name": "kokomo",
          "phone": 2139330773,
          "type": "american"
         },
         {
          "addr": " 8358 sunset blvd. west ",
          "city": "hollywood",
          "index": 1,
          "name": "feenix",
          "phone": 2138486677,
          "type": "american"
         },
         {
          "addr": "510 s. arroyo pkwy .",
          "city": "pasadena",
          "index": 2,
          "name": "parkway",
          "phone": 8187951001,
          "type": "californian"
         },
         {
          "addr": "923 e. third st.",
          "city": "los angeles",
          "index": 3,
          "name": "r-23",
          "phone": 2136877178,
          "type": "japanese"
         },
         {
          "addr": "6333 w. third st.",
          "city": "la",
          "index": 4,
          "name": "gumbo",
          "phone": 2139330358,
          "type": "cajun/creole"
         }
        ],
        "schema": {
         "fields": [
          {
           "name": "index",
           "type": "integer"
          },
          {
           "name": "name",
           "type": "string"
          },
          {
           "name": "addr",
           "type": "string"
          },
          {
           "name": "city",
           "type": "string"
          },
          {
           "name": "phone",
           "type": "integer"
          },
          {
           "name": "type",
           "type": "string"
          }
         ],
         "pandas_version": "0.20.0",
         "primaryKey": [
          "index"
         ]
        }
       },
       "total_rows": 5
      },
      "text/html": [
       "<div>\n",
       "<style scoped>\n",
       "    .dataframe tbody tr th:only-of-type {\n",
       "        vertical-align: middle;\n",
       "    }\n",
       "\n",
       "    .dataframe tbody tr th {\n",
       "        vertical-align: top;\n",
       "    }\n",
       "\n",
       "    .dataframe thead th {\n",
       "        text-align: right;\n",
       "    }\n",
       "</style>\n",
       "<table border=\"1\" class=\"dataframe\">\n",
       "  <thead>\n",
       "    <tr style=\"text-align: right;\">\n",
       "      <th></th>\n",
       "      <th>name</th>\n",
       "      <th>addr</th>\n",
       "      <th>city</th>\n",
       "      <th>phone</th>\n",
       "      <th>type</th>\n",
       "    </tr>\n",
       "  </thead>\n",
       "  <tbody>\n",
       "    <tr>\n",
       "      <th>0</th>\n",
       "      <td>kokomo</td>\n",
       "      <td>6333 w. third st.</td>\n",
       "      <td>la</td>\n",
       "      <td>2139330773</td>\n",
       "      <td>american</td>\n",
       "    </tr>\n",
       "    <tr>\n",
       "      <th>1</th>\n",
       "      <td>feenix</td>\n",
       "      <td>8358 sunset blvd. west</td>\n",
       "      <td>hollywood</td>\n",
       "      <td>2138486677</td>\n",
       "      <td>american</td>\n",
       "    </tr>\n",
       "    <tr>\n",
       "      <th>2</th>\n",
       "      <td>parkway</td>\n",
       "      <td>510 s. arroyo pkwy .</td>\n",
       "      <td>pasadena</td>\n",
       "      <td>8187951001</td>\n",
       "      <td>californian</td>\n",
       "    </tr>\n",
       "    <tr>\n",
       "      <th>3</th>\n",
       "      <td>r-23</td>\n",
       "      <td>923 e. third st.</td>\n",
       "      <td>los angeles</td>\n",
       "      <td>2136877178</td>\n",
       "      <td>japanese</td>\n",
       "    </tr>\n",
       "    <tr>\n",
       "      <th>4</th>\n",
       "      <td>gumbo</td>\n",
       "      <td>6333 w. third st.</td>\n",
       "      <td>la</td>\n",
       "      <td>2139330358</td>\n",
       "      <td>cajun/creole</td>\n",
       "    </tr>\n",
       "  </tbody>\n",
       "</table>\n",
       "</div>"
      ],
      "text/plain": [
       "      name                      addr         city       phone          type\n",
       "0   kokomo         6333 w. third st.           la  2139330773      american\n",
       "1   feenix   8358 sunset blvd. west     hollywood  2138486677      american\n",
       "2  parkway      510 s. arroyo pkwy .     pasadena  8187951001   californian\n",
       "3     r-23          923 e. third st.  los angeles  2136877178      japanese\n",
       "4    gumbo         6333 w. third st.           la  2139330358  cajun/creole"
      ]
     },
     "execution_count": 4,
     "metadata": {},
     "output_type": "execute_result"
    }
   ],
   "source": [
    "restaurants_new.head()"
   ]
  },
  {
   "cell_type": "code",
   "execution_count": null,
   "id": "a3bec843-db67-4873-9a63-d93660896f99",
   "metadata": {},
   "outputs": [
    {
     "name": "stdout",
     "output_type": "stream",
     "text": [
      "<class 'pandas.core.frame.DataFrame'>\n",
      "Int64Index: 336 entries, 0 to 335\n",
      "Data columns (total 5 columns):\n",
      " #   Column  Non-Null Count  Dtype \n",
      "---  ------  --------------  ----- \n",
      " 0   name    336 non-null    object\n",
      " 1   addr    336 non-null    object\n",
      " 2   city    336 non-null    object\n",
      " 3   phone   336 non-null    int64 \n",
      " 4   type    336 non-null    object\n",
      "dtypes: int64(1), object(4)\n",
      "memory usage: 15.8+ KB\n"
     ]
    }
   ],
   "source": [
    "restaurants.info()"
   ]
  },
  {
   "cell_type": "code",
   "execution_count": null,
   "id": "c4e20097-0028-4300-a7e2-412925350dda",
   "metadata": {},
   "outputs": [
    {
     "name": "stdout",
     "output_type": "stream",
     "text": [
      "<class 'pandas.core.frame.DataFrame'>\n",
      "Int64Index: 82 entries, 0 to 81\n",
      "Data columns (total 5 columns):\n",
      " #   Column  Non-Null Count  Dtype \n",
      "---  ------  --------------  ----- \n",
      " 0   name    82 non-null     object\n",
      " 1   addr    82 non-null     object\n",
      " 2   city    82 non-null     object\n",
      " 3   phone   82 non-null     int64 \n",
      " 4   type    82 non-null     object\n",
      "dtypes: int64(1), object(4)\n",
      "memory usage: 3.8+ KB\n"
     ]
    }
   ],
   "source": [
    "restaurants_new.info()"
   ]
  },
  {
   "cell_type": "markdown",
   "id": "7d7763eb-5671-4cde-89a0-08c45c39ea2e",
   "metadata": {},
   "source": [
    "## Dataset Summaries\n",
    "\n",
    "The original 'restaurants' data contains 336 rows of data. The variables include 'name', 'addr' (address), 'city', 'phone', and 'type'. The data that needs to be joined from 'restaurants_new' has 82 rows and the same variables. At present, we will strip whitespace; title case 'name', 'address', and 'type'; check for consistencies in 'city', 'phone', and 'type'; change 'type' to a categorical variable; reformat the 'phone' variable, and finally, check for duplicates. You can find the datasets on my Github. Let's get to it!"
   ]
  },
  {
   "cell_type": "markdown",
   "id": "c95bc5b3-66e0-4603-a9b0-b3e030c3524c",
   "metadata": {},
   "source": [
    "## Joining Dataframes\n",
    "\n",
    "I will not get into all the specifics about joining data and I utilize the word join lightly, when in reality we are just merging two dataframes. Joins, if you are familar with SQL, take on numerous forms. The below code is going to combine our two datasets, but it will mess up the row index, so we will have to reset that as well.\n",
    "\n",
    "For more on Pandas joins, see this link <https://realpython.com/pandas-merge-join-and-concat/>. "
   ]
  },
  {
   "cell_type": "code",
   "execution_count": null,
   "id": "dfec3b01-ea0f-40af-8834-63b2371cd8e9",
   "metadata": {},
   "outputs": [
    {
     "name": "stdout",
     "output_type": "stream",
     "text": [
      "<class 'pandas.core.frame.DataFrame'>\n",
      "RangeIndex: 418 entries, 0 to 417\n",
      "Data columns (total 5 columns):\n",
      " #   Column  Non-Null Count  Dtype \n",
      "---  ------  --------------  ----- \n",
      " 0   name    418 non-null    object\n",
      " 1   addr    418 non-null    object\n",
      " 2   city    418 non-null    object\n",
      " 3   phone   418 non-null    int64 \n",
      " 4   type    418 non-null    object\n",
      "dtypes: int64(1), object(4)\n",
      "memory usage: 16.5+ KB\n"
     ]
    }
   ],
   "source": [
    "# Join the Data\n",
    "df = pd.concat([restaurants, restaurants_new], axis=0)\n",
    "df.reset_index(drop=True, inplace=True)\n",
    "df.info()"
   ]
  },
  {
   "cell_type": "markdown",
   "id": "eb7b174e-c1eb-4d14-9c74-131591623beb",
   "metadata": {},
   "source": [
    "Now that we have merged/joined/concatenated the two datasets, let's strip some whitespace."
   ]
  },
  {
   "cell_type": "code",
   "execution_count": null,
   "id": "89abebc3-86a0-4579-adf3-15cd40630758",
   "metadata": {},
   "outputs": [
    {
     "data": {
      "application/com.datacamp.data-table.v1+json": {
       "is_truncated": false,
       "table": {
        "data": [
         {
          "addr": "435 s. la cienega blv .",
          "city": "los angeles",
          "index": 0,
          "name": "arnie morton's of chicago",
          "phone": 3102461501,
          "type": "american"
         },
         {
          "addr": "12224 ventura blvd.",
          "city": "studio city",
          "index": 1,
          "name": "art's delicatessen",
          "phone": 8187621221,
          "type": "american"
         },
         {
          "addr": "624 s. la brea ave.",
          "city": "los angeles",
          "index": 2,
          "name": "campanile",
          "phone": 2139381447,
          "type": "american"
         },
         {
          "addr": "8358 sunset blvd. west",
          "city": "hollywood",
          "index": 3,
          "name": "fenix",
          "phone": 2138486677,
          "type": "american"
         },
         {
          "addr": "9560 dayton way",
          "city": "los angeles",
          "index": 4,
          "name": "grill on the alley",
          "phone": 3102760615,
          "type": "american"
         }
        ],
        "schema": {
         "fields": [
          {
           "name": "index",
           "type": "integer"
          },
          {
           "name": "name",
           "type": "string"
          },
          {
           "name": "addr",
           "type": "string"
          },
          {
           "name": "city",
           "type": "string"
          },
          {
           "name": "phone",
           "type": "integer"
          },
          {
           "name": "type",
           "type": "string"
          }
         ],
         "pandas_version": "0.20.0",
         "primaryKey": [
          "index"
         ]
        }
       },
       "total_rows": 5
      },
      "text/html": [
       "<div>\n",
       "<style scoped>\n",
       "    .dataframe tbody tr th:only-of-type {\n",
       "        vertical-align: middle;\n",
       "    }\n",
       "\n",
       "    .dataframe tbody tr th {\n",
       "        vertical-align: top;\n",
       "    }\n",
       "\n",
       "    .dataframe thead th {\n",
       "        text-align: right;\n",
       "    }\n",
       "</style>\n",
       "<table border=\"1\" class=\"dataframe\">\n",
       "  <thead>\n",
       "    <tr style=\"text-align: right;\">\n",
       "      <th></th>\n",
       "      <th>name</th>\n",
       "      <th>addr</th>\n",
       "      <th>city</th>\n",
       "      <th>phone</th>\n",
       "      <th>type</th>\n",
       "    </tr>\n",
       "  </thead>\n",
       "  <tbody>\n",
       "    <tr>\n",
       "      <th>0</th>\n",
       "      <td>arnie morton's of chicago</td>\n",
       "      <td>435 s. la cienega blv .</td>\n",
       "      <td>los angeles</td>\n",
       "      <td>3102461501</td>\n",
       "      <td>american</td>\n",
       "    </tr>\n",
       "    <tr>\n",
       "      <th>1</th>\n",
       "      <td>art's delicatessen</td>\n",
       "      <td>12224 ventura blvd.</td>\n",
       "      <td>studio city</td>\n",
       "      <td>8187621221</td>\n",
       "      <td>american</td>\n",
       "    </tr>\n",
       "    <tr>\n",
       "      <th>2</th>\n",
       "      <td>campanile</td>\n",
       "      <td>624 s. la brea ave.</td>\n",
       "      <td>los angeles</td>\n",
       "      <td>2139381447</td>\n",
       "      <td>american</td>\n",
       "    </tr>\n",
       "    <tr>\n",
       "      <th>3</th>\n",
       "      <td>fenix</td>\n",
       "      <td>8358 sunset blvd. west</td>\n",
       "      <td>hollywood</td>\n",
       "      <td>2138486677</td>\n",
       "      <td>american</td>\n",
       "    </tr>\n",
       "    <tr>\n",
       "      <th>4</th>\n",
       "      <td>grill on the alley</td>\n",
       "      <td>9560 dayton way</td>\n",
       "      <td>los angeles</td>\n",
       "      <td>3102760615</td>\n",
       "      <td>american</td>\n",
       "    </tr>\n",
       "  </tbody>\n",
       "</table>\n",
       "</div>"
      ],
      "text/plain": [
       "                        name                     addr         city  \\\n",
       "0  arnie morton's of chicago  435 s. la cienega blv .  los angeles   \n",
       "1         art's delicatessen      12224 ventura blvd.  studio city   \n",
       "2                  campanile      624 s. la brea ave.  los angeles   \n",
       "3                      fenix   8358 sunset blvd. west    hollywood   \n",
       "4         grill on the alley          9560 dayton way  los angeles   \n",
       "\n",
       "        phone      type  \n",
       "0  3102461501  american  \n",
       "1  8187621221  american  \n",
       "2  2139381447  american  \n",
       "3  2138486677  american  \n",
       "4  3102760615  american  "
      ]
     },
     "execution_count": 8,
     "metadata": {},
     "output_type": "execute_result"
    }
   ],
   "source": [
    "cols = df.select_dtypes('object').columns\n",
    "df[cols] = df[cols].apply(lambda x: x.str.strip())\n",
    "df.head()"
   ]
  },
  {
   "cell_type": "markdown",
   "id": "44aad276-357b-4ed4-a80d-c9e154b65677",
   "metadata": {},
   "source": [
    "Hopefully all the whitespace is gone. Let's move on to changing everything to title case. We can utilize the 'cols' we created above to make this as simple as possible. I have read numerous articles indicating that using lamda in code equates to poor coding, but as you can see in the above and below example, it makes certain tasks extremely easy. One issue that I ran into my original code (commented out) was anything after an apostrophe was capitalized with .title(). Truthfully, I had to reach out for help on this issue and received two ingenious ways to fix it."
   ]
  },
  {
   "cell_type": "code",
   "execution_count": null,
   "id": "67693db6-2ad9-4c16-9abd-2d4d7f35b9a6",
   "metadata": {},
   "outputs": [
    {
     "data": {
      "application/com.datacamp.data-table.v1+json": {
       "is_truncated": false,
       "table": {
        "data": [
         {
          "addr": "435 S. La Cienega Blv .",
          "city": "Los Angeles",
          "index": 0,
          "name": "Arnie Morton's Of Chicago",
          "phone": 3102461501,
          "type": "American"
         },
         {
          "addr": "12224 Ventura Blvd.",
          "city": "Studio City",
          "index": 1,
          "name": "Art's Delicatessen",
          "phone": 8187621221,
          "type": "American"
         },
         {
          "addr": "624 S. La Brea Ave.",
          "city": "Los Angeles",
          "index": 2,
          "name": "Campanile",
          "phone": 2139381447,
          "type": "American"
         },
         {
          "addr": "8358 Sunset Blvd. West",
          "city": "Hollywood",
          "index": 3,
          "name": "Fenix",
          "phone": 2138486677,
          "type": "American"
         },
         {
          "addr": "9560 Dayton Way",
          "city": "Los Angeles",
          "index": 4,
          "name": "Grill On The Alley",
          "phone": 3102760615,
          "type": "American"
         }
        ],
        "schema": {
         "fields": [
          {
           "name": "index",
           "type": "integer"
          },
          {
           "name": "name",
           "type": "string"
          },
          {
           "name": "addr",
           "type": "string"
          },
          {
           "name": "city",
           "type": "string"
          },
          {
           "name": "phone",
           "type": "integer"
          },
          {
           "name": "type",
           "type": "string"
          }
         ],
         "pandas_version": "0.20.0",
         "primaryKey": [
          "index"
         ]
        }
       },
       "total_rows": 5
      },
      "text/html": [
       "<div>\n",
       "<style scoped>\n",
       "    .dataframe tbody tr th:only-of-type {\n",
       "        vertical-align: middle;\n",
       "    }\n",
       "\n",
       "    .dataframe tbody tr th {\n",
       "        vertical-align: top;\n",
       "    }\n",
       "\n",
       "    .dataframe thead th {\n",
       "        text-align: right;\n",
       "    }\n",
       "</style>\n",
       "<table border=\"1\" class=\"dataframe\">\n",
       "  <thead>\n",
       "    <tr style=\"text-align: right;\">\n",
       "      <th></th>\n",
       "      <th>name</th>\n",
       "      <th>addr</th>\n",
       "      <th>city</th>\n",
       "      <th>phone</th>\n",
       "      <th>type</th>\n",
       "    </tr>\n",
       "  </thead>\n",
       "  <tbody>\n",
       "    <tr>\n",
       "      <th>0</th>\n",
       "      <td>Arnie Morton's Of Chicago</td>\n",
       "      <td>435 S. La Cienega Blv .</td>\n",
       "      <td>Los Angeles</td>\n",
       "      <td>3102461501</td>\n",
       "      <td>American</td>\n",
       "    </tr>\n",
       "    <tr>\n",
       "      <th>1</th>\n",
       "      <td>Art's Delicatessen</td>\n",
       "      <td>12224 Ventura Blvd.</td>\n",
       "      <td>Studio City</td>\n",
       "      <td>8187621221</td>\n",
       "      <td>American</td>\n",
       "    </tr>\n",
       "    <tr>\n",
       "      <th>2</th>\n",
       "      <td>Campanile</td>\n",
       "      <td>624 S. La Brea Ave.</td>\n",
       "      <td>Los Angeles</td>\n",
       "      <td>2139381447</td>\n",
       "      <td>American</td>\n",
       "    </tr>\n",
       "    <tr>\n",
       "      <th>3</th>\n",
       "      <td>Fenix</td>\n",
       "      <td>8358 Sunset Blvd. West</td>\n",
       "      <td>Hollywood</td>\n",
       "      <td>2138486677</td>\n",
       "      <td>American</td>\n",
       "    </tr>\n",
       "    <tr>\n",
       "      <th>4</th>\n",
       "      <td>Grill On The Alley</td>\n",
       "      <td>9560 Dayton Way</td>\n",
       "      <td>Los Angeles</td>\n",
       "      <td>3102760615</td>\n",
       "      <td>American</td>\n",
       "    </tr>\n",
       "  </tbody>\n",
       "</table>\n",
       "</div>"
      ],
      "text/plain": [
       "                        name                     addr         city  \\\n",
       "0  Arnie Morton's Of Chicago  435 S. La Cienega Blv .  Los Angeles   \n",
       "1         Art's Delicatessen      12224 Ventura Blvd.  Studio City   \n",
       "2                  Campanile      624 S. La Brea Ave.  Los Angeles   \n",
       "3                      Fenix   8358 Sunset Blvd. West    Hollywood   \n",
       "4         Grill On The Alley          9560 Dayton Way  Los Angeles   \n",
       "\n",
       "        phone      type  \n",
       "0  3102461501  American  \n",
       "1  8187621221  American  \n",
       "2  2139381447  American  \n",
       "3  2138486677  American  \n",
       "4  3102760615  American  "
      ]
     },
     "execution_count": 9,
     "metadata": {},
     "output_type": "execute_result"
    }
   ],
   "source": [
    "# Most efficient way is to prevent the problem.\n",
    "# import string\n",
    "# Three different basic Python classes and not one covered this ingenious method\n",
    "df[cols] = df[cols].applymap(string.capwords)\n",
    "\n",
    "# Original Way I started with a lambda\n",
    "# df[cols] = df[cols].apply(lambda x: x.str.title())\n",
    "# The following line was the fix\n",
    "#df['name'] = df['name'].replace(\"\\'S\", \"\\'s\", regex=True)\n",
    "\n",
    "df.head()"
   ]
  },
  {
   "cell_type": "code",
   "execution_count": null,
   "id": "3f47d09d-75cc-4e00-a164-5da459cf3103",
   "metadata": {},
   "outputs": [
    {
     "data": {
      "application/com.datacamp.data-table.v1+json": {
       "is_truncated": false,
       "table": {
        "data": [
         {
          "addr": "435 S La Cienega Blv",
          "city": "Los Angeles",
          "index": 0,
          "name": "Arnie Morton's Of Chicago",
          "phone": 3102461501,
          "type": "American"
         },
         {
          "addr": "12224 Ventura Blvd",
          "city": "Studio City",
          "index": 1,
          "name": "Art's Delicatessen",
          "phone": 8187621221,
          "type": "American"
         },
         {
          "addr": "624 S La Brea Ave",
          "city": "Los Angeles",
          "index": 2,
          "name": "Campanile",
          "phone": 2139381447,
          "type": "American"
         },
         {
          "addr": "8358 Sunset Blvd West",
          "city": "Hollywood",
          "index": 3,
          "name": "Fenix",
          "phone": 2138486677,
          "type": "American"
         },
         {
          "addr": "9560 Dayton Way",
          "city": "Los Angeles",
          "index": 4,
          "name": "Grill On The Alley",
          "phone": 3102760615,
          "type": "American"
         }
        ],
        "schema": {
         "fields": [
          {
           "name": "index",
           "type": "integer"
          },
          {
           "name": "name",
           "type": "string"
          },
          {
           "name": "addr",
           "type": "string"
          },
          {
           "name": "city",
           "type": "string"
          },
          {
           "name": "phone",
           "type": "integer"
          },
          {
           "name": "type",
           "type": "string"
          }
         ],
         "pandas_version": "0.20.0",
         "primaryKey": [
          "index"
         ]
        }
       },
       "total_rows": 5
      },
      "text/html": [
       "<div>\n",
       "<style scoped>\n",
       "    .dataframe tbody tr th:only-of-type {\n",
       "        vertical-align: middle;\n",
       "    }\n",
       "\n",
       "    .dataframe tbody tr th {\n",
       "        vertical-align: top;\n",
       "    }\n",
       "\n",
       "    .dataframe thead th {\n",
       "        text-align: right;\n",
       "    }\n",
       "</style>\n",
       "<table border=\"1\" class=\"dataframe\">\n",
       "  <thead>\n",
       "    <tr style=\"text-align: right;\">\n",
       "      <th></th>\n",
       "      <th>name</th>\n",
       "      <th>addr</th>\n",
       "      <th>city</th>\n",
       "      <th>phone</th>\n",
       "      <th>type</th>\n",
       "    </tr>\n",
       "  </thead>\n",
       "  <tbody>\n",
       "    <tr>\n",
       "      <th>0</th>\n",
       "      <td>Arnie Morton's Of Chicago</td>\n",
       "      <td>435 S La Cienega Blv</td>\n",
       "      <td>Los Angeles</td>\n",
       "      <td>3102461501</td>\n",
       "      <td>American</td>\n",
       "    </tr>\n",
       "    <tr>\n",
       "      <th>1</th>\n",
       "      <td>Art's Delicatessen</td>\n",
       "      <td>12224 Ventura Blvd</td>\n",
       "      <td>Studio City</td>\n",
       "      <td>8187621221</td>\n",
       "      <td>American</td>\n",
       "    </tr>\n",
       "    <tr>\n",
       "      <th>2</th>\n",
       "      <td>Campanile</td>\n",
       "      <td>624 S La Brea Ave</td>\n",
       "      <td>Los Angeles</td>\n",
       "      <td>2139381447</td>\n",
       "      <td>American</td>\n",
       "    </tr>\n",
       "    <tr>\n",
       "      <th>3</th>\n",
       "      <td>Fenix</td>\n",
       "      <td>8358 Sunset Blvd West</td>\n",
       "      <td>Hollywood</td>\n",
       "      <td>2138486677</td>\n",
       "      <td>American</td>\n",
       "    </tr>\n",
       "    <tr>\n",
       "      <th>4</th>\n",
       "      <td>Grill On The Alley</td>\n",
       "      <td>9560 Dayton Way</td>\n",
       "      <td>Los Angeles</td>\n",
       "      <td>3102760615</td>\n",
       "      <td>American</td>\n",
       "    </tr>\n",
       "  </tbody>\n",
       "</table>\n",
       "</div>"
      ],
      "text/plain": [
       "                        name                   addr         city       phone  \\\n",
       "0  Arnie Morton's Of Chicago   435 S La Cienega Blv  Los Angeles  3102461501   \n",
       "1         Art's Delicatessen     12224 Ventura Blvd  Studio City  8187621221   \n",
       "2                  Campanile      624 S La Brea Ave  Los Angeles  2139381447   \n",
       "3                      Fenix  8358 Sunset Blvd West    Hollywood  2138486677   \n",
       "4         Grill On The Alley        9560 Dayton Way  Los Angeles  3102760615   \n",
       "\n",
       "       type  \n",
       "0  American  \n",
       "1  American  \n",
       "2  American  \n",
       "3  American  \n",
       "4  American  "
      ]
     },
     "execution_count": 10,
     "metadata": {},
     "output_type": "execute_result"
    }
   ],
   "source": [
    "# Let's get rid of periods\n",
    "df[cols] = df[cols].apply(lambda x: x.str.replace('.' or ' .', ''))\n",
    "df[cols] = df[cols].apply(lambda x: x.str.strip())\n",
    "df.head()"
   ]
  },
  {
   "cell_type": "markdown",
   "id": "93029d80-02a8-4c6a-966d-68e6bc34061a",
   "metadata": {},
   "source": [
    "We could go in and fix all the instances with Boulevard is abbreviated with Blv instead of Blvd, S for south, and so on. But I will not go over that here. You can utilize the .replace() like I did with periods above. The next problem to tackle is to check if any values in 'city' and 'type' need to be condensed. This will be a multistep process for each column.\n",
    "\n",
    "Step 1: Get the unique values. I like to do it with `.value_counts()`.\n",
    "Step 2: Remap incorrect values to corrected values.\n",
    "Step 3: Recheck the unique values."
   ]
  },
  {
   "cell_type": "code",
   "execution_count": null,
   "id": "bc9f8904-3752-429c-a3a9-6cbb70899c49",
   "metadata": {},
   "outputs": [
    {
     "data": {
      "text/plain": [
       "New York             182\n",
       "San Francisco         55\n",
       "Los Angeles           51\n",
       "Atlanta               33\n",
       "Las Vegas             20\n",
       "La                    13\n",
       "Santa Monica          12\n",
       "Beverly Hills          7\n",
       "Pasadena               4\n",
       "West La                4\n",
       "Studio City            3\n",
       "Hollywood              3\n",
       "Venice                 3\n",
       "Encino                 2\n",
       "W Hollywood            2\n",
       "Westwood               2\n",
       "Westlake Village       2\n",
       "Northridge             1\n",
       "Redondo Beach          1\n",
       "Chinatown              1\n",
       "Mar Vista              1\n",
       "Rancho Park            1\n",
       "Marina Del Rey         1\n",
       "Toluca Lake            1\n",
       "Seal Beach             1\n",
       "Long Beach             1\n",
       "Culver City            1\n",
       "Pacific Palisades      1\n",
       "St Hermosa Beach       1\n",
       "Los Feliz              1\n",
       "Malibu                 1\n",
       "Century City           1\n",
       "Monterey Park          1\n",
       "St Boyle Hts           1\n",
       "Burbank                1\n",
       "Brooklyn               1\n",
       "Sherman Oaks           1\n",
       "Name: city, dtype: int64"
      ]
     },
     "execution_count": 11,
     "metadata": {},
     "output_type": "execute_result"
    }
   ],
   "source": [
    "# Step 1: 'city'\n",
    "df.city.value_counts()"
   ]
  },
  {
   "cell_type": "markdown",
   "id": "166fce00-4ee7-414a-b3dd-247b0b515797",
   "metadata": {},
   "source": [
    "La needs to be remapped to Los Angeles. I will also map West La to West Los Angeles and W Hollywood to West Hollywood."
   ]
  },
  {
   "cell_type": "code",
   "execution_count": null,
   "id": "9ee0d35f-6e6a-4521-ab28-4e339ab6d136",
   "metadata": {},
   "outputs": [
    {
     "data": {
      "text/plain": [
       "New York             182\n",
       "Los Angeles           64\n",
       "San Francisco         55\n",
       "Atlanta               33\n",
       "Las Vegas             20\n",
       "Santa Monica          12\n",
       "Beverly Hills          7\n",
       "West Los Angeles       4\n",
       "Pasadena               4\n",
       "Venice                 3\n",
       "Studio City            3\n",
       "Hollywood              3\n",
       "Westwood               2\n",
       "Encino                 2\n",
       "Westlake Village       2\n",
       "West Hollywood         2\n",
       "Toluca Lake            1\n",
       "Northridge             1\n",
       "Chinatown              1\n",
       "Mar Vista              1\n",
       "Rancho Park            1\n",
       "Marina Del Rey         1\n",
       "Redondo Beach          1\n",
       "Culver City            1\n",
       "Long Beach             1\n",
       "Pacific Palisades      1\n",
       "St Hermosa Beach       1\n",
       "Los Feliz              1\n",
       "Malibu                 1\n",
       "Century City           1\n",
       "Monterey Park          1\n",
       "St Boyle Hts           1\n",
       "Burbank                1\n",
       "Brooklyn               1\n",
       "Seal Beach             1\n",
       "Sherman Oaks           1\n",
       "Name: city, dtype: int64"
      ]
     },
     "execution_count": 12,
     "metadata": {},
     "output_type": "execute_result"
    }
   ],
   "source": [
    "df.city = df.city.replace(to_replace=['La'], value='Los Angeles')\n",
    "df.city = df.city.replace(to_replace=['West La'], value='West Los Angeles')\n",
    "df.city = df.city.replace(to_replace=['W Hollywood'], value='West Hollywood')\n",
    "df.city.value_counts()"
   ]
  },
  {
   "cell_type": "code",
   "execution_count": null,
   "id": "2b74f9da-bc38-436f-8333-37077bb23777",
   "metadata": {},
   "outputs": [
    {
     "data": {
      "text/plain": [
       "American            157\n",
       "Italian              85\n",
       "Asian                76\n",
       "Coffeebar            26\n",
       "Mexican              12\n",
       "Southern              8\n",
       "Steakhouses           6\n",
       "Californian           5\n",
       "Coffee Shops          5\n",
       "Diners                3\n",
       "Hamburgers            3\n",
       "Hot Dogs              3\n",
       "Delis                 3\n",
       "Seafood               2\n",
       "Noodle Shops          2\n",
       "Pacific New Wave      2\n",
       "Cajun/creole          1\n",
       "Chicken               1\n",
       "Continental           1\n",
       "Russian               1\n",
       "Chinese               1\n",
       "French ( New )        1\n",
       "American ( New )      1\n",
       "Fast Food             1\n",
       "Japanese              1\n",
       "Desserts              1\n",
       "Southern/soul         1\n",
       "Mexican/tex-mex       1\n",
       "Cajun                 1\n",
       "Health Food           1\n",
       "Pizza                 1\n",
       "Indonesian            1\n",
       "Eclectic              1\n",
       "Vietnamese            1\n",
       "Southwestern          1\n",
       "Middle Eastern        1\n",
       "Name: type, dtype: int64"
      ]
     },
     "execution_count": 13,
     "metadata": {},
     "output_type": "execute_result"
    }
   ],
   "source": [
    "df.type.value_counts()"
   ]
  },
  {
   "cell_type": "code",
   "execution_count": null,
   "id": "e01e9bd1-daba-44c7-81ee-ee5642c2b42a",
   "metadata": {},
   "outputs": [
    {
     "data": {
      "text/plain": [
       "American          169\n",
       "Italian            85\n",
       "Asian              84\n",
       "Coffee Shops       31\n",
       "Mexican            14\n",
       "Southern            9\n",
       "Steakhouses         6\n",
       "Californian         5\n",
       "Delis               3\n",
       "Seafood             2\n",
       "Cajun               2\n",
       "Desserts            1\n",
       "Fast Food           1\n",
       "Eclectic            1\n",
       "Health Food         1\n",
       "Pizza               1\n",
       "Middle Eastern      1\n",
       "French ( New )      1\n",
       "Russian             1\n",
       "Name: type, dtype: int64"
      ]
     },
     "execution_count": 14,
     "metadata": {},
     "output_type": "execute_result"
    }
   ],
   "source": [
    "# A little more work to be done\n",
    "df.type = df.type.replace(to_replace=['American ( New )', 'Hot Dogs', 'Hamburgers', 'Diners', 'Chicken', 'Continental'], value='American')\n",
    "df.type = df.type.replace(to_replace=['Indonesian', 'Japanese', 'Vietnamese', 'Chinese', 'Noodle Shops', 'Pacific New Wave'], value='Asian')\n",
    "df.type = df.type.replace(to_replace=['Cajun/creole'], value='Cajun')\n",
    "df.type = df.type.replace(to_replace=['Mexican/tex-mex', 'Southwestern'], value='Mexican')\n",
    "df.type = df.type.replace(to_replace=['Southern/soul'], value='Southern')\n",
    "df.type = df.type.replace(to_replace=['Coffeebar'], value='Coffee Shops')\n",
    "df.type.value_counts()"
   ]
  },
  {
   "cell_type": "markdown",
   "id": "66e2d8ba-ae45-41df-a32f-5a7667f84773",
   "metadata": {},
   "source": [
    "Now that we have a little more of a managable list in both 'city' and 'type', let's get to checking for duplicates. We will first check for exact matches. I do not expect there to be any, but let's try. Then we will check for matches based upon a couple columns. I'm going to utilized 'city' and 'type' since we just cleaned those up and the 'phone' column. I will then sort the results (if any) by phone."
   ]
  },
  {
   "cell_type": "code",
   "execution_count": null,
   "id": "0ba2fc19-b66a-4add-952e-c278cd1a423d",
   "metadata": {},
   "outputs": [
    {
     "data": {
      "application/com.datacamp.data-table.v1+json": {
       "is_truncated": false,
       "table": {
        "data": [],
        "schema": {
         "fields": [
          {
           "name": "index",
           "type": "integer"
          },
          {
           "name": "name",
           "type": "string"
          },
          {
           "name": "addr",
           "type": "string"
          },
          {
           "name": "city",
           "type": "string"
          },
          {
           "name": "phone",
           "type": "integer"
          },
          {
           "name": "type",
           "type": "string"
          }
         ],
         "pandas_version": "0.20.0",
         "primaryKey": [
          "index"
         ]
        }
       },
       "total_rows": 0
      },
      "text/html": [
       "<div>\n",
       "<style scoped>\n",
       "    .dataframe tbody tr th:only-of-type {\n",
       "        vertical-align: middle;\n",
       "    }\n",
       "\n",
       "    .dataframe tbody tr th {\n",
       "        vertical-align: top;\n",
       "    }\n",
       "\n",
       "    .dataframe thead th {\n",
       "        text-align: right;\n",
       "    }\n",
       "</style>\n",
       "<table border=\"1\" class=\"dataframe\">\n",
       "  <thead>\n",
       "    <tr style=\"text-align: right;\">\n",
       "      <th></th>\n",
       "      <th>name</th>\n",
       "      <th>addr</th>\n",
       "      <th>city</th>\n",
       "      <th>phone</th>\n",
       "      <th>type</th>\n",
       "    </tr>\n",
       "  </thead>\n",
       "  <tbody>\n",
       "  </tbody>\n",
       "</table>\n",
       "</div>"
      ],
      "text/plain": [
       "Empty DataFrame\n",
       "Columns: [name, addr, city, phone, type]\n",
       "Index: []"
      ]
     },
     "execution_count": 15,
     "metadata": {},
     "output_type": "execute_result"
    }
   ],
   "source": [
    "# Let's check for exact duplicates first\n",
    "duplicates = df.duplicated()\n",
    "df[duplicates]\n",
    "# Looks Empty"
   ]
  },
  {
   "cell_type": "code",
   "execution_count": null,
   "id": "29350301-7e88-407b-8075-3ffc03f242c0",
   "metadata": {},
   "outputs": [
    {
     "data": {
      "application/com.datacamp.data-table.v1+json": {
       "is_truncated": false,
       "table": {
        "data": [
         {
          "addr": "34 E 61st St",
          "city": "New York",
          "index": 14,
          "name": "Aureole",
          "phone": 2123191660,
          "type": "American"
         },
         {
          "addr": "34 E 61st St",
          "city": "New York",
          "index": 403,
          "name": "Aureola",
          "phone": 2123191660,
          "type": "American"
         },
         {
          "addr": "210 E 58th St",
          "city": "New York",
          "index": 18,
          "name": "Dawat",
          "phone": 2123557555,
          "type": "Asian"
         },
         {
          "addr": "210 E 58th St",
          "city": "New York",
          "index": 407,
          "name": "Dawatt",
          "phone": 2123557555,
          "type": "Asian"
         },
         {
          "addr": "2450 Broadway Between 90th And 91st Sts",
          "city": "New York",
          "index": 16,
          "name": "Carmine's",
          "phone": 2123622200,
          "type": "Italian"
         },
         {
          "addr": "2450 Broadway Between 90th And 91st Sts",
          "city": "New York",
          "index": 393,
          "name": "Carrmine's",
          "phone": 2123622200,
          "type": "Italian"
         },
         {
          "addr": "201 W 83rd St",
          "city": "New York",
          "index": 15,
          "name": "Cafe Lalo",
          "phone": 2124966031,
          "type": "Coffee Shops"
         },
         {
          "addr": "201 W 83rd St",
          "city": "New York",
          "index": 391,
          "name": "Cafe Lala",
          "phone": 2124966031,
          "type": "Coffee Shops"
         },
         {
          "addr": "21 W 52nd St",
          "city": "New York",
          "index": 343,
          "name": "21 Clubs",
          "phone": 2125827200,
          "type": "American"
         },
         {
          "addr": "21 W 52nd St",
          "city": "New York",
          "index": 13,
          "name": "21 Club",
          "phone": 2125827200,
          "type": "American"
         },
         {
          "addr": "12 E 12th St",
          "city": "New York",
          "index": 21,
          "name": "Gotham Bar & Grill",
          "phone": 2126204020,
          "type": "American"
         },
         {
          "addr": "12 E 12th St",
          "city": "New York",
          "index": 363,
          "name": "Gothamm Bar & Grill",
          "phone": 2126204020,
          "type": "American"
         },
         {
          "addr": "99 E 52nd St",
          "city": "New York",
          "index": 356,
          "name": "Fourr Seasons Grill Room",
          "phone": 2127549494,
          "type": "American"
         },
         {
          "addr": "99 E 52nd St",
          "city": "New York",
          "index": 20,
          "name": "Four Seasons Grill Room",
          "phone": 2127549494,
          "type": "American"
         },
         {
          "addr": "243 E 58th St",
          "city": "New York",
          "index": 383,
          "name": "Felicia",
          "phone": 2127581479,
          "type": "Italian"
         },
         {
          "addr": "243 E 58th St",
          "city": "New York",
          "index": 19,
          "name": "Felidia",
          "phone": 2127581479,
          "type": "Italian"
         },
         {
          "addr": "2 Harrison St Near Hudson St",
          "city": "New York",
          "index": 17,
          "name": "Chanterelle",
          "phone": 2129666960,
          "type": "American"
         },
         {
          "addr": "2 Harrison St Near Hudson St",
          "city": "New York",
          "index": 348,
          "name": "Chanterele",
          "phone": 2129666960,
          "type": "American"
         },
         {
          "addr": "617 S Olive St",
          "city": "Los Angeles",
          "index": 10,
          "name": "Rex Il Ristorante",
          "phone": 2136272300,
          "type": "Italian"
         },
         {
          "addr": "617 S Olive St",
          "city": "Los Angeles",
          "index": 411,
          "name": "Rex Il Ristoranti",
          "phone": 2136272300,
          "type": "Italian"
         },
         {
          "addr": "1001 N Alameda St",
          "city": "Los Angeles",
          "index": 386,
          "name": "Philipe's The Original",
          "phone": 2136283781,
          "type": "American"
         },
         {
          "addr": "1001 N Alameda St",
          "city": "Los Angeles",
          "index": 9,
          "name": "Philippe's The Original",
          "phone": 2136283781,
          "type": "American"
         },
         {
          "addr": "1972 N Hillhurst Ave",
          "city": "Los Angeles",
          "index": 401,
          "name": "Restaurant Katsui",
          "phone": 2136651891,
          "type": "Asian"
         },
         {
          "addr": "1972 N Hillhurst Ave",
          "city": "Los Angeles",
          "index": 5,
          "name": "Restaurant Katsu",
          "phone": 2136651891,
          "type": "Asian"
         },
         {
          "addr": "8358 Sunset Blvd West",
          "city": "Hollywood",
          "index": 3,
          "name": "Fenix",
          "phone": 2138486677,
          "type": "American"
         },
         {
          "addr": "8358 Sunset Blvd West",
          "city": "Hollywood",
          "index": 337,
          "name": "Feenix",
          "phone": 2138486677,
          "type": "American"
         },
         {
          "addr": "624 S La Brea Ave",
          "city": "Los Angeles",
          "index": 2,
          "name": "Campanile",
          "phone": 2139381447,
          "type": "American"
         },
         {
          "addr": "624 S La Brea Ave",
          "city": "Los Angeles",
          "index": 410,
          "name": "Campanil",
          "phone": 2139381447,
          "type": "American"
         },
         {
          "addr": "435 S La Cienega Blv",
          "city": "Los Angeles",
          "index": 376,
          "name": "Arni Morton's Of Chicago",
          "phone": 3102461501,
          "type": "American"
         },
         {
          "addr": "435 S La Cienega Blv",
          "city": "Los Angeles",
          "index": 0,
          "name": "Arnie Morton's Of Chicago",
          "phone": 3102461501,
          "type": "American"
         },
         {
          "addr": "3rd St",
          "city": "Los Angeles",
          "index": 6,
          "name": "Locanda Veneta",
          "phone": 3102741893,
          "type": "Italian"
         },
         {
          "addr": "3rd St",
          "city": "Los Angeles",
          "index": 409,
          "name": "Locanda Venetta",
          "phone": 3102741893,
          "type": "Italian"
         },
         {
          "addr": "9560 Dayton Way",
          "city": "Los Angeles",
          "index": 389,
          "name": "Grill On The Allie",
          "phone": 3102760615,
          "type": "American"
         },
         {
          "addr": "9560 Dayton Way",
          "city": "Los Angeles",
          "index": 4,
          "name": "Grill On The Alley",
          "phone": 3102760615,
          "type": "American"
         },
         {
          "addr": "9001 Santa Monica Blvd",
          "city": "Los Angeles",
          "index": 379,
          "name": "The Palms",
          "phone": 3105508811,
          "type": "American"
         },
         {
          "addr": "9001 Santa Monica Blvd",
          "city": "Los Angeles",
          "index": 8,
          "name": "The Palm",
          "phone": 3105508811,
          "type": "American"
         },
         {
          "addr": "129 N La Cienega Blvd",
          "city": "Beverly Hills",
          "index": 7,
          "name": "Matsuhisa",
          "phone": 3106599639,
          "type": "Asian"
         },
         {
          "addr": "129 N La Cienega Blvd",
          "city": "Beverly Hills",
          "index": 415,
          "name": "Matsuhissa",
          "phone": 3106599639,
          "type": "Asian"
         },
         {
          "addr": "3115 Pico Blvd",
          "city": "Santa Monica",
          "index": 357,
          "name": "Valentina",
          "phone": 3108294313,
          "type": "Italian"
         },
         {
          "addr": "3115 Pico Blvd",
          "city": "Santa Monica",
          "index": 11,
          "name": "Valentino",
          "phone": 3108294313,
          "type": "Italian"
         },
         {
          "addr": "67 N Raymond Ave",
          "city": "Los Angeles",
          "index": 362,
          "name": "Yujean Kang's Gourmet Chineese Cuisine",
          "phone": 8185850855,
          "type": "Asian"
         },
         {
          "addr": "67 N Raymond Ave",
          "city": "Los Angeles",
          "index": 12,
          "name": "Yujean Kang's Gourmet Chinese Cuisine",
          "phone": 8185850855,
          "type": "Asian"
         },
         {
          "addr": "12224 Ventura Blvd",
          "city": "Studio City",
          "index": 1,
          "name": "Art's Delicatessen",
          "phone": 8187621221,
          "type": "American"
         },
         {
          "addr": "12224 Ventura Blvd",
          "city": "Studio City",
          "index": 364,
          "name": "Art's Delicatess",
          "phone": 8187621221,
          "type": "American"
         }
        ],
        "schema": {
         "fields": [
          {
           "name": "index",
           "type": "integer"
          },
          {
           "name": "name",
           "type": "string"
          },
          {
           "name": "addr",
           "type": "string"
          },
          {
           "name": "city",
           "type": "string"
          },
          {
           "name": "phone",
           "type": "integer"
          },
          {
           "name": "type",
           "type": "string"
          }
         ],
         "pandas_version": "0.20.0",
         "primaryKey": [
          "index"
         ]
        }
       },
       "total_rows": 44
      },
      "text/html": [
       "<div>\n",
       "<style scoped>\n",
       "    .dataframe tbody tr th:only-of-type {\n",
       "        vertical-align: middle;\n",
       "    }\n",
       "\n",
       "    .dataframe tbody tr th {\n",
       "        vertical-align: top;\n",
       "    }\n",
       "\n",
       "    .dataframe thead th {\n",
       "        text-align: right;\n",
       "    }\n",
       "</style>\n",
       "<table border=\"1\" class=\"dataframe\">\n",
       "  <thead>\n",
       "    <tr style=\"text-align: right;\">\n",
       "      <th></th>\n",
       "      <th>name</th>\n",
       "      <th>addr</th>\n",
       "      <th>city</th>\n",
       "      <th>phone</th>\n",
       "      <th>type</th>\n",
       "    </tr>\n",
       "  </thead>\n",
       "  <tbody>\n",
       "    <tr>\n",
       "      <th>14</th>\n",
       "      <td>Aureole</td>\n",
       "      <td>34 E 61st St</td>\n",
       "      <td>New York</td>\n",
       "      <td>2123191660</td>\n",
       "      <td>American</td>\n",
       "    </tr>\n",
       "    <tr>\n",
       "      <th>403</th>\n",
       "      <td>Aureola</td>\n",
       "      <td>34 E 61st St</td>\n",
       "      <td>New York</td>\n",
       "      <td>2123191660</td>\n",
       "      <td>American</td>\n",
       "    </tr>\n",
       "    <tr>\n",
       "      <th>18</th>\n",
       "      <td>Dawat</td>\n",
       "      <td>210 E 58th St</td>\n",
       "      <td>New York</td>\n",
       "      <td>2123557555</td>\n",
       "      <td>Asian</td>\n",
       "    </tr>\n",
       "    <tr>\n",
       "      <th>407</th>\n",
       "      <td>Dawatt</td>\n",
       "      <td>210 E 58th St</td>\n",
       "      <td>New York</td>\n",
       "      <td>2123557555</td>\n",
       "      <td>Asian</td>\n",
       "    </tr>\n",
       "    <tr>\n",
       "      <th>16</th>\n",
       "      <td>Carmine's</td>\n",
       "      <td>2450 Broadway Between 90th And 91st Sts</td>\n",
       "      <td>New York</td>\n",
       "      <td>2123622200</td>\n",
       "      <td>Italian</td>\n",
       "    </tr>\n",
       "    <tr>\n",
       "      <th>393</th>\n",
       "      <td>Carrmine's</td>\n",
       "      <td>2450 Broadway Between 90th And 91st Sts</td>\n",
       "      <td>New York</td>\n",
       "      <td>2123622200</td>\n",
       "      <td>Italian</td>\n",
       "    </tr>\n",
       "    <tr>\n",
       "      <th>15</th>\n",
       "      <td>Cafe Lalo</td>\n",
       "      <td>201 W 83rd St</td>\n",
       "      <td>New York</td>\n",
       "      <td>2124966031</td>\n",
       "      <td>Coffee Shops</td>\n",
       "    </tr>\n",
       "    <tr>\n",
       "      <th>391</th>\n",
       "      <td>Cafe Lala</td>\n",
       "      <td>201 W 83rd St</td>\n",
       "      <td>New York</td>\n",
       "      <td>2124966031</td>\n",
       "      <td>Coffee Shops</td>\n",
       "    </tr>\n",
       "    <tr>\n",
       "      <th>343</th>\n",
       "      <td>21 Clubs</td>\n",
       "      <td>21 W 52nd St</td>\n",
       "      <td>New York</td>\n",
       "      <td>2125827200</td>\n",
       "      <td>American</td>\n",
       "    </tr>\n",
       "    <tr>\n",
       "      <th>13</th>\n",
       "      <td>21 Club</td>\n",
       "      <td>21 W 52nd St</td>\n",
       "      <td>New York</td>\n",
       "      <td>2125827200</td>\n",
       "      <td>American</td>\n",
       "    </tr>\n",
       "    <tr>\n",
       "      <th>21</th>\n",
       "      <td>Gotham Bar &amp; Grill</td>\n",
       "      <td>12 E 12th St</td>\n",
       "      <td>New York</td>\n",
       "      <td>2126204020</td>\n",
       "      <td>American</td>\n",
       "    </tr>\n",
       "    <tr>\n",
       "      <th>363</th>\n",
       "      <td>Gothamm Bar &amp; Grill</td>\n",
       "      <td>12 E 12th St</td>\n",
       "      <td>New York</td>\n",
       "      <td>2126204020</td>\n",
       "      <td>American</td>\n",
       "    </tr>\n",
       "    <tr>\n",
       "      <th>356</th>\n",
       "      <td>Fourr Seasons Grill Room</td>\n",
       "      <td>99 E 52nd St</td>\n",
       "      <td>New York</td>\n",
       "      <td>2127549494</td>\n",
       "      <td>American</td>\n",
       "    </tr>\n",
       "    <tr>\n",
       "      <th>20</th>\n",
       "      <td>Four Seasons Grill Room</td>\n",
       "      <td>99 E 52nd St</td>\n",
       "      <td>New York</td>\n",
       "      <td>2127549494</td>\n",
       "      <td>American</td>\n",
       "    </tr>\n",
       "    <tr>\n",
       "      <th>383</th>\n",
       "      <td>Felicia</td>\n",
       "      <td>243 E 58th St</td>\n",
       "      <td>New York</td>\n",
       "      <td>2127581479</td>\n",
       "      <td>Italian</td>\n",
       "    </tr>\n",
       "    <tr>\n",
       "      <th>19</th>\n",
       "      <td>Felidia</td>\n",
       "      <td>243 E 58th St</td>\n",
       "      <td>New York</td>\n",
       "      <td>2127581479</td>\n",
       "      <td>Italian</td>\n",
       "    </tr>\n",
       "    <tr>\n",
       "      <th>17</th>\n",
       "      <td>Chanterelle</td>\n",
       "      <td>2 Harrison St Near Hudson St</td>\n",
       "      <td>New York</td>\n",
       "      <td>2129666960</td>\n",
       "      <td>American</td>\n",
       "    </tr>\n",
       "    <tr>\n",
       "      <th>348</th>\n",
       "      <td>Chanterele</td>\n",
       "      <td>2 Harrison St Near Hudson St</td>\n",
       "      <td>New York</td>\n",
       "      <td>2129666960</td>\n",
       "      <td>American</td>\n",
       "    </tr>\n",
       "    <tr>\n",
       "      <th>10</th>\n",
       "      <td>Rex Il Ristorante</td>\n",
       "      <td>617 S Olive St</td>\n",
       "      <td>Los Angeles</td>\n",
       "      <td>2136272300</td>\n",
       "      <td>Italian</td>\n",
       "    </tr>\n",
       "    <tr>\n",
       "      <th>411</th>\n",
       "      <td>Rex Il Ristoranti</td>\n",
       "      <td>617 S Olive St</td>\n",
       "      <td>Los Angeles</td>\n",
       "      <td>2136272300</td>\n",
       "      <td>Italian</td>\n",
       "    </tr>\n",
       "    <tr>\n",
       "      <th>386</th>\n",
       "      <td>Philipe's The Original</td>\n",
       "      <td>1001 N Alameda St</td>\n",
       "      <td>Los Angeles</td>\n",
       "      <td>2136283781</td>\n",
       "      <td>American</td>\n",
       "    </tr>\n",
       "    <tr>\n",
       "      <th>9</th>\n",
       "      <td>Philippe's The Original</td>\n",
       "      <td>1001 N Alameda St</td>\n",
       "      <td>Los Angeles</td>\n",
       "      <td>2136283781</td>\n",
       "      <td>American</td>\n",
       "    </tr>\n",
       "    <tr>\n",
       "      <th>401</th>\n",
       "      <td>Restaurant Katsui</td>\n",
       "      <td>1972 N Hillhurst Ave</td>\n",
       "      <td>Los Angeles</td>\n",
       "      <td>2136651891</td>\n",
       "      <td>Asian</td>\n",
       "    </tr>\n",
       "    <tr>\n",
       "      <th>5</th>\n",
       "      <td>Restaurant Katsu</td>\n",
       "      <td>1972 N Hillhurst Ave</td>\n",
       "      <td>Los Angeles</td>\n",
       "      <td>2136651891</td>\n",
       "      <td>Asian</td>\n",
       "    </tr>\n",
       "    <tr>\n",
       "      <th>3</th>\n",
       "      <td>Fenix</td>\n",
       "      <td>8358 Sunset Blvd West</td>\n",
       "      <td>Hollywood</td>\n",
       "      <td>2138486677</td>\n",
       "      <td>American</td>\n",
       "    </tr>\n",
       "    <tr>\n",
       "      <th>337</th>\n",
       "      <td>Feenix</td>\n",
       "      <td>8358 Sunset Blvd West</td>\n",
       "      <td>Hollywood</td>\n",
       "      <td>2138486677</td>\n",
       "      <td>American</td>\n",
       "    </tr>\n",
       "    <tr>\n",
       "      <th>2</th>\n",
       "      <td>Campanile</td>\n",
       "      <td>624 S La Brea Ave</td>\n",
       "      <td>Los Angeles</td>\n",
       "      <td>2139381447</td>\n",
       "      <td>American</td>\n",
       "    </tr>\n",
       "    <tr>\n",
       "      <th>410</th>\n",
       "      <td>Campanil</td>\n",
       "      <td>624 S La Brea Ave</td>\n",
       "      <td>Los Angeles</td>\n",
       "      <td>2139381447</td>\n",
       "      <td>American</td>\n",
       "    </tr>\n",
       "    <tr>\n",
       "      <th>376</th>\n",
       "      <td>Arni Morton's Of Chicago</td>\n",
       "      <td>435 S La Cienega Blv</td>\n",
       "      <td>Los Angeles</td>\n",
       "      <td>3102461501</td>\n",
       "      <td>American</td>\n",
       "    </tr>\n",
       "    <tr>\n",
       "      <th>0</th>\n",
       "      <td>Arnie Morton's Of Chicago</td>\n",
       "      <td>435 S La Cienega Blv</td>\n",
       "      <td>Los Angeles</td>\n",
       "      <td>3102461501</td>\n",
       "      <td>American</td>\n",
       "    </tr>\n",
       "    <tr>\n",
       "      <th>6</th>\n",
       "      <td>Locanda Veneta</td>\n",
       "      <td>3rd St</td>\n",
       "      <td>Los Angeles</td>\n",
       "      <td>3102741893</td>\n",
       "      <td>Italian</td>\n",
       "    </tr>\n",
       "    <tr>\n",
       "      <th>409</th>\n",
       "      <td>Locanda Venetta</td>\n",
       "      <td>3rd St</td>\n",
       "      <td>Los Angeles</td>\n",
       "      <td>3102741893</td>\n",
       "      <td>Italian</td>\n",
       "    </tr>\n",
       "    <tr>\n",
       "      <th>389</th>\n",
       "      <td>Grill On The Allie</td>\n",
       "      <td>9560 Dayton Way</td>\n",
       "      <td>Los Angeles</td>\n",
       "      <td>3102760615</td>\n",
       "      <td>American</td>\n",
       "    </tr>\n",
       "    <tr>\n",
       "      <th>4</th>\n",
       "      <td>Grill On The Alley</td>\n",
       "      <td>9560 Dayton Way</td>\n",
       "      <td>Los Angeles</td>\n",
       "      <td>3102760615</td>\n",
       "      <td>American</td>\n",
       "    </tr>\n",
       "    <tr>\n",
       "      <th>379</th>\n",
       "      <td>The Palms</td>\n",
       "      <td>9001 Santa Monica Blvd</td>\n",
       "      <td>Los Angeles</td>\n",
       "      <td>3105508811</td>\n",
       "      <td>American</td>\n",
       "    </tr>\n",
       "    <tr>\n",
       "      <th>8</th>\n",
       "      <td>The Palm</td>\n",
       "      <td>9001 Santa Monica Blvd</td>\n",
       "      <td>Los Angeles</td>\n",
       "      <td>3105508811</td>\n",
       "      <td>American</td>\n",
       "    </tr>\n",
       "    <tr>\n",
       "      <th>7</th>\n",
       "      <td>Matsuhisa</td>\n",
       "      <td>129 N La Cienega Blvd</td>\n",
       "      <td>Beverly Hills</td>\n",
       "      <td>3106599639</td>\n",
       "      <td>Asian</td>\n",
       "    </tr>\n",
       "    <tr>\n",
       "      <th>415</th>\n",
       "      <td>Matsuhissa</td>\n",
       "      <td>129 N La Cienega Blvd</td>\n",
       "      <td>Beverly Hills</td>\n",
       "      <td>3106599639</td>\n",
       "      <td>Asian</td>\n",
       "    </tr>\n",
       "    <tr>\n",
       "      <th>357</th>\n",
       "      <td>Valentina</td>\n",
       "      <td>3115 Pico Blvd</td>\n",
       "      <td>Santa Monica</td>\n",
       "      <td>3108294313</td>\n",
       "      <td>Italian</td>\n",
       "    </tr>\n",
       "    <tr>\n",
       "      <th>11</th>\n",
       "      <td>Valentino</td>\n",
       "      <td>3115 Pico Blvd</td>\n",
       "      <td>Santa Monica</td>\n",
       "      <td>3108294313</td>\n",
       "      <td>Italian</td>\n",
       "    </tr>\n",
       "    <tr>\n",
       "      <th>362</th>\n",
       "      <td>Yujean Kang's Gourmet Chineese Cuisine</td>\n",
       "      <td>67 N Raymond Ave</td>\n",
       "      <td>Los Angeles</td>\n",
       "      <td>8185850855</td>\n",
       "      <td>Asian</td>\n",
       "    </tr>\n",
       "    <tr>\n",
       "      <th>12</th>\n",
       "      <td>Yujean Kang's Gourmet Chinese Cuisine</td>\n",
       "      <td>67 N Raymond Ave</td>\n",
       "      <td>Los Angeles</td>\n",
       "      <td>8185850855</td>\n",
       "      <td>Asian</td>\n",
       "    </tr>\n",
       "    <tr>\n",
       "      <th>1</th>\n",
       "      <td>Art's Delicatessen</td>\n",
       "      <td>12224 Ventura Blvd</td>\n",
       "      <td>Studio City</td>\n",
       "      <td>8187621221</td>\n",
       "      <td>American</td>\n",
       "    </tr>\n",
       "    <tr>\n",
       "      <th>364</th>\n",
       "      <td>Art's Delicatess</td>\n",
       "      <td>12224 Ventura Blvd</td>\n",
       "      <td>Studio City</td>\n",
       "      <td>8187621221</td>\n",
       "      <td>American</td>\n",
       "    </tr>\n",
       "  </tbody>\n",
       "</table>\n",
       "</div>"
      ],
      "text/plain": [
       "                                       name  \\\n",
       "14                                  Aureole   \n",
       "403                                 Aureola   \n",
       "18                                    Dawat   \n",
       "407                                  Dawatt   \n",
       "16                                Carmine's   \n",
       "393                              Carrmine's   \n",
       "15                                Cafe Lalo   \n",
       "391                               Cafe Lala   \n",
       "343                                21 Clubs   \n",
       "13                                  21 Club   \n",
       "21                       Gotham Bar & Grill   \n",
       "363                     Gothamm Bar & Grill   \n",
       "356                Fourr Seasons Grill Room   \n",
       "20                  Four Seasons Grill Room   \n",
       "383                                 Felicia   \n",
       "19                                  Felidia   \n",
       "17                              Chanterelle   \n",
       "348                              Chanterele   \n",
       "10                        Rex Il Ristorante   \n",
       "411                       Rex Il Ristoranti   \n",
       "386                  Philipe's The Original   \n",
       "9                   Philippe's The Original   \n",
       "401                       Restaurant Katsui   \n",
       "5                          Restaurant Katsu   \n",
       "3                                     Fenix   \n",
       "337                                  Feenix   \n",
       "2                                 Campanile   \n",
       "410                                Campanil   \n",
       "376                Arni Morton's Of Chicago   \n",
       "0                 Arnie Morton's Of Chicago   \n",
       "6                            Locanda Veneta   \n",
       "409                         Locanda Venetta   \n",
       "389                      Grill On The Allie   \n",
       "4                        Grill On The Alley   \n",
       "379                               The Palms   \n",
       "8                                  The Palm   \n",
       "7                                 Matsuhisa   \n",
       "415                              Matsuhissa   \n",
       "357                               Valentina   \n",
       "11                                Valentino   \n",
       "362  Yujean Kang's Gourmet Chineese Cuisine   \n",
       "12    Yujean Kang's Gourmet Chinese Cuisine   \n",
       "1                        Art's Delicatessen   \n",
       "364                        Art's Delicatess   \n",
       "\n",
       "                                        addr           city       phone  \\\n",
       "14                              34 E 61st St       New York  2123191660   \n",
       "403                             34 E 61st St       New York  2123191660   \n",
       "18                             210 E 58th St       New York  2123557555   \n",
       "407                            210 E 58th St       New York  2123557555   \n",
       "16   2450 Broadway Between 90th And 91st Sts       New York  2123622200   \n",
       "393  2450 Broadway Between 90th And 91st Sts       New York  2123622200   \n",
       "15                             201 W 83rd St       New York  2124966031   \n",
       "391                            201 W 83rd St       New York  2124966031   \n",
       "343                             21 W 52nd St       New York  2125827200   \n",
       "13                              21 W 52nd St       New York  2125827200   \n",
       "21                              12 E 12th St       New York  2126204020   \n",
       "363                             12 E 12th St       New York  2126204020   \n",
       "356                             99 E 52nd St       New York  2127549494   \n",
       "20                              99 E 52nd St       New York  2127549494   \n",
       "383                            243 E 58th St       New York  2127581479   \n",
       "19                             243 E 58th St       New York  2127581479   \n",
       "17              2 Harrison St Near Hudson St       New York  2129666960   \n",
       "348             2 Harrison St Near Hudson St       New York  2129666960   \n",
       "10                            617 S Olive St    Los Angeles  2136272300   \n",
       "411                           617 S Olive St    Los Angeles  2136272300   \n",
       "386                        1001 N Alameda St    Los Angeles  2136283781   \n",
       "9                          1001 N Alameda St    Los Angeles  2136283781   \n",
       "401                     1972 N Hillhurst Ave    Los Angeles  2136651891   \n",
       "5                       1972 N Hillhurst Ave    Los Angeles  2136651891   \n",
       "3                      8358 Sunset Blvd West      Hollywood  2138486677   \n",
       "337                    8358 Sunset Blvd West      Hollywood  2138486677   \n",
       "2                          624 S La Brea Ave    Los Angeles  2139381447   \n",
       "410                        624 S La Brea Ave    Los Angeles  2139381447   \n",
       "376                     435 S La Cienega Blv    Los Angeles  3102461501   \n",
       "0                       435 S La Cienega Blv    Los Angeles  3102461501   \n",
       "6                                     3rd St    Los Angeles  3102741893   \n",
       "409                                   3rd St    Los Angeles  3102741893   \n",
       "389                          9560 Dayton Way    Los Angeles  3102760615   \n",
       "4                            9560 Dayton Way    Los Angeles  3102760615   \n",
       "379                   9001 Santa Monica Blvd    Los Angeles  3105508811   \n",
       "8                     9001 Santa Monica Blvd    Los Angeles  3105508811   \n",
       "7                      129 N La Cienega Blvd  Beverly Hills  3106599639   \n",
       "415                    129 N La Cienega Blvd  Beverly Hills  3106599639   \n",
       "357                           3115 Pico Blvd   Santa Monica  3108294313   \n",
       "11                            3115 Pico Blvd   Santa Monica  3108294313   \n",
       "362                         67 N Raymond Ave    Los Angeles  8185850855   \n",
       "12                          67 N Raymond Ave    Los Angeles  8185850855   \n",
       "1                         12224 Ventura Blvd    Studio City  8187621221   \n",
       "364                       12224 Ventura Blvd    Studio City  8187621221   \n",
       "\n",
       "             type  \n",
       "14       American  \n",
       "403      American  \n",
       "18          Asian  \n",
       "407         Asian  \n",
       "16        Italian  \n",
       "393       Italian  \n",
       "15   Coffee Shops  \n",
       "391  Coffee Shops  \n",
       "343      American  \n",
       "13       American  \n",
       "21       American  \n",
       "363      American  \n",
       "356      American  \n",
       "20       American  \n",
       "383       Italian  \n",
       "19        Italian  \n",
       "17       American  \n",
       "348      American  \n",
       "10        Italian  \n",
       "411       Italian  \n",
       "386      American  \n",
       "9        American  \n",
       "401         Asian  \n",
       "5           Asian  \n",
       "3        American  \n",
       "337      American  \n",
       "2        American  \n",
       "410      American  \n",
       "376      American  \n",
       "0        American  \n",
       "6         Italian  \n",
       "409       Italian  \n",
       "389      American  \n",
       "4        American  \n",
       "379      American  \n",
       "8        American  \n",
       "7           Asian  \n",
       "415         Asian  \n",
       "357       Italian  \n",
       "11        Italian  \n",
       "362         Asian  \n",
       "12          Asian  \n",
       "1        American  \n",
       "364      American  "
      ]
     },
     "execution_count": 16,
     "metadata": {},
     "output_type": "execute_result"
    }
   ],
   "source": [
    "# Let's check for partial duplicates\n",
    "columns_check = ['city', 'phone', 'type']\n",
    "dup_2 = df.duplicated(subset = columns_check, keep = False)\n",
    "df[dup_2].sort_values(by='phone')"
   ]
  },
  {
   "cell_type": "markdown",
   "id": "fc193c8a-7cde-4bf1-b16d-f3f47a0221d5",
   "metadata": {},
   "source": [
    "We have at least 22 duplicates. My plan, although this would be time consuming and subject error in large datasets, is to drop by a chosen index. We will then have to reset the index. We will remove index ['403', '18', '393', '15', '343', '363', '356', '19', '348', '411', '386', '5', '337', '410', '376', '6', '389', '8', '415', '357', '362', '364']. I'm noticing a lot of high index numbers, I think the data set we joined had most of the errors. In a real scenario, we may want to reconsider that data source in the future."
   ]
  },
  {
   "cell_type": "code",
   "execution_count": null,
   "id": "99007373-b503-436c-8dbd-1e7153af9c61",
   "metadata": {},
   "outputs": [],
   "source": [
    "df.drop(df.index[[403,18,393,15,343,363,356,19,348,411,386,5,337,410,376,6,389,8,415,357,362,364]], inplace=True)"
   ]
  },
  {
   "cell_type": "code",
   "execution_count": null,
   "id": "39fe2f43-5e34-4deb-a976-2f4b6c31c486",
   "metadata": {},
   "outputs": [
    {
     "name": "stdout",
     "output_type": "stream",
     "text": [
      "<class 'pandas.core.frame.DataFrame'>\n",
      "Int64Index: 396 entries, 0 to 417\n",
      "Data columns (total 5 columns):\n",
      " #   Column  Non-Null Count  Dtype \n",
      "---  ------  --------------  ----- \n",
      " 0   name    396 non-null    object\n",
      " 1   addr    396 non-null    object\n",
      " 2   city    396 non-null    object\n",
      " 3   phone   396 non-null    int64 \n",
      " 4   type    396 non-null    object\n",
      "dtypes: int64(1), object(4)\n",
      "memory usage: 18.6+ KB\n"
     ]
    },
    {
     "data": {
      "application/com.datacamp.data-table.v1+json": {
       "is_truncated": false,
       "table": {
        "data": [],
        "schema": {
         "fields": [
          {
           "name": "index",
           "type": "integer"
          },
          {
           "name": "name",
           "type": "string"
          },
          {
           "name": "addr",
           "type": "string"
          },
          {
           "name": "city",
           "type": "string"
          },
          {
           "name": "phone",
           "type": "integer"
          },
          {
           "name": "type",
           "type": "string"
          }
         ],
         "pandas_version": "0.20.0",
         "primaryKey": [
          "index"
         ]
        }
       },
       "total_rows": 0
      },
      "text/html": [
       "<div>\n",
       "<style scoped>\n",
       "    .dataframe tbody tr th:only-of-type {\n",
       "        vertical-align: middle;\n",
       "    }\n",
       "\n",
       "    .dataframe tbody tr th {\n",
       "        vertical-align: top;\n",
       "    }\n",
       "\n",
       "    .dataframe thead th {\n",
       "        text-align: right;\n",
       "    }\n",
       "</style>\n",
       "<table border=\"1\" class=\"dataframe\">\n",
       "  <thead>\n",
       "    <tr style=\"text-align: right;\">\n",
       "      <th></th>\n",
       "      <th>name</th>\n",
       "      <th>addr</th>\n",
       "      <th>city</th>\n",
       "      <th>phone</th>\n",
       "      <th>type</th>\n",
       "    </tr>\n",
       "  </thead>\n",
       "  <tbody>\n",
       "  </tbody>\n",
       "</table>\n",
       "</div>"
      ],
      "text/plain": [
       "Empty DataFrame\n",
       "Columns: [name, addr, city, phone, type]\n",
       "Index: []"
      ]
     },
     "execution_count": 18,
     "metadata": {},
     "output_type": "execute_result"
    }
   ],
   "source": [
    "df.info()\n",
    "dup_3 = df.duplicated(subset = columns_check, keep = False)\n",
    "df[dup_3].sort_values(by='phone')"
   ]
  },
  {
   "cell_type": "code",
   "execution_count": null,
   "id": "1d15ae0c-9a86-406e-b0cb-8cd637a745ee",
   "metadata": {},
   "outputs": [
    {
     "name": "stdout",
     "output_type": "stream",
     "text": [
      "<class 'pandas.core.frame.DataFrame'>\n",
      "Int64Index: 396 entries, 0 to 417\n",
      "Data columns (total 5 columns):\n",
      " #   Column  Non-Null Count  Dtype \n",
      "---  ------  --------------  ----- \n",
      " 0   name    396 non-null    object\n",
      " 1   addr    396 non-null    object\n",
      " 2   city    396 non-null    object\n",
      " 3   phone   396 non-null    int64 \n",
      " 4   type    396 non-null    object\n",
      "dtypes: int64(1), object(4)\n",
      "memory usage: 34.7+ KB\n"
     ]
    }
   ],
   "source": [
    "df.reset_index()\n",
    "df.info()"
   ]
  },
  {
   "cell_type": "markdown",
   "id": "04d7be73-0352-4590-a7ff-c8aa5858fb5f",
   "metadata": {},
   "source": [
    "## Example Two\n",
    "\n",
    "The next few lines of code will merge the data frames after comparing and potentially eliminating possible matches. This will require cleaning as done above after the merge. In the code below, you will see 'indexer.block('city')'. This functions like an SQL join where you specify the primary key and foreign key. In this instance, there are no primary keys or foreign keys, so you can select the column that likely has the best matches. Truthfully, 'phone' would be a better choice as we saw when searching for duplicates in the previous example. Further down in the code, you will see 'compare_cl.exact()' and 'compare_cl.string()'. When utilizing .exact() you are telling the comparison it wants, well exact matches. This works well with integers, decimals (with rounding) gets a little tricky. The .string() you specify a threshold. This tells the comparison what percentage of the string should match. I selected 80%. The lower the threshold, the more matches. The output will look similar to a correlation matrix; however, for each comparison column you specify, the result will be a 0 or 1. To be considered a duplicate, you obviously want more 1s. "
   ]
  },
  {
   "cell_type": "code",
   "execution_count": null,
   "id": "bc4df3b8-11f2-4eaf-9071-9e4d0b14c96f",
   "metadata": {},
   "outputs": [
    {
     "data": {
      "application/com.datacamp.data-table.v1+json": {
       "is_truncated": false,
       "table": {
        "data": [
         {
          "addr": 0,
          "city": 1,
          "level_0": 0,
          "level_1": 3,
          "name": 0
         },
         {
          "addr": 0,
          "city": 1,
          "level_0": 0,
          "level_1": 26,
          "name": 0
         },
         {
          "addr": 1,
          "city": 1,
          "level_0": 0,
          "level_1": 40,
          "name": 1
         },
         {
          "addr": 0,
          "city": 1,
          "level_0": 0,
          "level_1": 43,
          "name": 0
         },
         {
          "addr": 0,
          "city": 1,
          "level_0": 0,
          "level_1": 50,
          "name": 0
         },
         {
          "addr": 0,
          "city": 1,
          "level_0": 0,
          "level_1": 53,
          "name": 0
         },
         {
          "addr": 0,
          "city": 1,
          "level_0": 0,
          "level_1": 60,
          "name": 0
         },
         {
          "addr": 0,
          "city": 1,
          "level_0": 0,
          "level_1": 65,
          "name": 0
         },
         {
          "addr": 0,
          "city": 1,
          "level_0": 0,
          "level_1": 73,
          "name": 0
         },
         {
          "addr": 0,
          "city": 1,
          "level_0": 0,
          "level_1": 74,
          "name": 0
         },
         {
          "addr": 0,
          "city": 1,
          "level_0": 0,
          "level_1": 75,
          "name": 0
         },
         {
          "addr": 0,
          "city": 1,
          "level_0": 2,
          "level_1": 3,
          "name": 0
         },
         {
          "addr": 0,
          "city": 1,
          "level_0": 2,
          "level_1": 26,
          "name": 0
         },
         {
          "addr": 0,
          "city": 1,
          "level_0": 2,
          "level_1": 40,
          "name": 0
         },
         {
          "addr": 0,
          "city": 1,
          "level_0": 2,
          "level_1": 43,
          "name": 0
         },
         {
          "addr": 0,
          "city": 1,
          "level_0": 2,
          "level_1": 50,
          "name": 0
         },
         {
          "addr": 0,
          "city": 1,
          "level_0": 2,
          "level_1": 53,
          "name": 0
         },
         {
          "addr": 0,
          "city": 1,
          "level_0": 2,
          "level_1": 60,
          "name": 0
         },
         {
          "addr": 0,
          "city": 1,
          "level_0": 2,
          "level_1": 65,
          "name": 0
         },
         {
          "addr": 0,
          "city": 1,
          "level_0": 2,
          "level_1": 73,
          "name": 0
         },
         {
          "addr": 1,
          "city": 1,
          "level_0": 2,
          "level_1": 74,
          "name": 1
         },
         {
          "addr": 0,
          "city": 1,
          "level_0": 2,
          "level_1": 75,
          "name": 0
         },
         {
          "addr": 0,
          "city": 1,
          "level_0": 4,
          "level_1": 3,
          "name": 0
         },
         {
          "addr": 0,
          "city": 1,
          "level_0": 4,
          "level_1": 26,
          "name": 0
         },
         {
          "addr": 0,
          "city": 1,
          "level_0": 4,
          "level_1": 40,
          "name": 0
         },
         {
          "addr": 0,
          "city": 1,
          "level_0": 4,
          "level_1": 43,
          "name": 0
         },
         {
          "addr": 0,
          "city": 1,
          "level_0": 4,
          "level_1": 50,
          "name": 0
         },
         {
          "addr": 1,
          "city": 1,
          "level_0": 4,
          "level_1": 53,
          "name": 1
         },
         {
          "addr": 0,
          "city": 1,
          "level_0": 4,
          "level_1": 60,
          "name": 0
         },
         {
          "addr": 0,
          "city": 1,
          "level_0": 4,
          "level_1": 65,
          "name": 0
         },
         {
          "addr": 0,
          "city": 1,
          "level_0": 4,
          "level_1": 73,
          "name": 0
         },
         {
          "addr": 0,
          "city": 1,
          "level_0": 4,
          "level_1": 74,
          "name": 0
         },
         {
          "addr": 0,
          "city": 1,
          "level_0": 4,
          "level_1": 75,
          "name": 0
         },
         {
          "addr": 0,
          "city": 1,
          "level_0": 5,
          "level_1": 3,
          "name": 0
         },
         {
          "addr": 0,
          "city": 1,
          "level_0": 5,
          "level_1": 26,
          "name": 0
         },
         {
          "addr": 0,
          "city": 1,
          "level_0": 5,
          "level_1": 40,
          "name": 0
         },
         {
          "addr": 0,
          "city": 1,
          "level_0": 5,
          "level_1": 43,
          "name": 0
         },
         {
          "addr": 0,
          "city": 1,
          "level_0": 5,
          "level_1": 50,
          "name": 0
         },
         {
          "addr": 0,
          "city": 1,
          "level_0": 5,
          "level_1": 53,
          "name": 0
         },
         {
          "addr": 0,
          "city": 1,
          "level_0": 5,
          "level_1": 60,
          "name": 0
         },
         {
          "addr": 1,
          "city": 1,
          "level_0": 5,
          "level_1": 65,
          "name": 1
         },
         {
          "addr": 0,
          "city": 1,
          "level_0": 5,
          "level_1": 73,
          "name": 0
         },
         {
          "addr": 0,
          "city": 1,
          "level_0": 5,
          "level_1": 74,
          "name": 0
         },
         {
          "addr": 0,
          "city": 1,
          "level_0": 5,
          "level_1": 75,
          "name": 0
         },
         {
          "addr": 0,
          "city": 1,
          "level_0": 6,
          "level_1": 3,
          "name": 0
         },
         {
          "addr": 0,
          "city": 1,
          "level_0": 6,
          "level_1": 26,
          "name": 0
         },
         {
          "addr": 0,
          "city": 1,
          "level_0": 6,
          "level_1": 40,
          "name": 0
         },
         {
          "addr": 0,
          "city": 1,
          "level_0": 6,
          "level_1": 43,
          "name": 0
         },
         {
          "addr": 0,
          "city": 1,
          "level_0": 6,
          "level_1": 50,
          "name": 0
         },
         {
          "addr": 0,
          "city": 1,
          "level_0": 6,
          "level_1": 53,
          "name": 0
         },
         {
          "addr": 0,
          "city": 1,
          "level_0": 6,
          "level_1": 60,
          "name": 0
         },
         {
          "addr": 0,
          "city": 1,
          "level_0": 6,
          "level_1": 65,
          "name": 0
         },
         {
          "addr": 1,
          "city": 1,
          "level_0": 6,
          "level_1": 73,
          "name": 1
         },
         {
          "addr": 0,
          "city": 1,
          "level_0": 6,
          "level_1": 74,
          "name": 0
         },
         {
          "addr": 0,
          "city": 1,
          "level_0": 6,
          "level_1": 75,
          "name": 0
         },
         {
          "addr": 0,
          "city": 1,
          "level_0": 8,
          "level_1": 3,
          "name": 0
         },
         {
          "addr": 0,
          "city": 1,
          "level_0": 8,
          "level_1": 26,
          "name": 0
         },
         {
          "addr": 0,
          "city": 1,
          "level_0": 8,
          "level_1": 40,
          "name": 0
         },
         {
          "addr": 1,
          "city": 1,
          "level_0": 8,
          "level_1": 43,
          "name": 1
         },
         {
          "addr": 0,
          "city": 1,
          "level_0": 8,
          "level_1": 50,
          "name": 0
         },
         {
          "addr": 0,
          "city": 1,
          "level_0": 8,
          "level_1": 53,
          "name": 0
         },
         {
          "addr": 0,
          "city": 1,
          "level_0": 8,
          "level_1": 60,
          "name": 0
         },
         {
          "addr": 0,
          "city": 1,
          "level_0": 8,
          "level_1": 65,
          "name": 0
         },
         {
          "addr": 0,
          "city": 1,
          "level_0": 8,
          "level_1": 73,
          "name": 0
         },
         {
          "addr": 0,
          "city": 1,
          "level_0": 8,
          "level_1": 74,
          "name": 0
         },
         {
          "addr": 0,
          "city": 1,
          "level_0": 8,
          "level_1": 75,
          "name": 0
         },
         {
          "addr": 0,
          "city": 1,
          "level_0": 9,
          "level_1": 3,
          "name": 0
         },
         {
          "addr": 0,
          "city": 1,
          "level_0": 9,
          "level_1": 26,
          "name": 0
         },
         {
          "addr": 0,
          "city": 1,
          "level_0": 9,
          "level_1": 40,
          "name": 0
         },
         {
          "addr": 0,
          "city": 1,
          "level_0": 9,
          "level_1": 43,
          "name": 0
         },
         {
          "addr": 1,
          "city": 1,
          "level_0": 9,
          "level_1": 50,
          "name": 1
         },
         {
          "addr": 0,
          "city": 1,
          "level_0": 9,
          "level_1": 53,
          "name": 0
         },
         {
          "addr": 0,
          "city": 1,
          "level_0": 9,
          "level_1": 60,
          "name": 0
         },
         {
          "addr": 0,
          "city": 1,
          "level_0": 9,
          "level_1": 65,
          "name": 0
         },
         {
          "addr": 0,
          "city": 1,
          "level_0": 9,
          "level_1": 73,
          "name": 0
         },
         {
          "addr": 0,
          "city": 1,
          "level_0": 9,
          "level_1": 74,
          "name": 0
         },
         {
          "addr": 0,
          "city": 1,
          "level_0": 9,
          "level_1": 75,
          "name": 0
         },
         {
          "addr": 0,
          "city": 1,
          "level_0": 10,
          "level_1": 3,
          "name": 0
         },
         {
          "addr": 0,
          "city": 1,
          "level_0": 10,
          "level_1": 26,
          "name": 0
         },
         {
          "addr": 0,
          "city": 1,
          "level_0": 10,
          "level_1": 40,
          "name": 0
         },
         {
          "addr": 0,
          "city": 1,
          "level_0": 10,
          "level_1": 43,
          "name": 0
         },
         {
          "addr": 0,
          "city": 1,
          "level_0": 10,
          "level_1": 50,
          "name": 0
         },
         {
          "addr": 0,
          "city": 1,
          "level_0": 10,
          "level_1": 53,
          "name": 0
         },
         {
          "addr": 0,
          "city": 1,
          "level_0": 10,
          "level_1": 60,
          "name": 0
         },
         {
          "addr": 0,
          "city": 1,
          "level_0": 10,
          "level_1": 65,
          "name": 0
         },
         {
          "addr": 0,
          "city": 1,
          "level_0": 10,
          "level_1": 73,
          "name": 0
         },
         {
          "addr": 0,
          "city": 1,
          "level_0": 10,
          "level_1": 74,
          "name": 0
         },
         {
          "addr": 1,
          "city": 1,
          "level_0": 10,
          "level_1": 75,
          "name": 1
         },
         {
          "addr": 0,
          "city": 1,
          "level_0": 12,
          "level_1": 3,
          "name": 0
         },
         {
          "addr": 1,
          "city": 1,
          "level_0": 12,
          "level_1": 26,
          "name": 1
         },
         {
          "addr": 0,
          "city": 1,
          "level_0": 12,
          "level_1": 40,
          "name": 0
         },
         {
          "addr": 0,
          "city": 1,
          "level_0": 12,
          "level_1": 43,
          "name": 0
         },
         {
          "addr": 0,
          "city": 1,
          "level_0": 12,
          "level_1": 50,
          "name": 0
         },
         {
          "addr": 0,
          "city": 1,
          "level_0": 12,
          "level_1": 53,
          "name": 0
         },
         {
          "addr": 0,
          "city": 1,
          "level_0": 12,
          "level_1": 60,
          "name": 0
         },
         {
          "addr": 0,
          "city": 1,
          "level_0": 12,
          "level_1": 65,
          "name": 0
         },
         {
          "addr": 0,
          "city": 1,
          "level_0": 12,
          "level_1": 73,
          "name": 0
         },
         {
          "addr": 0,
          "city": 1,
          "level_0": 12,
          "level_1": 74,
          "name": 0
         },
         {
          "addr": 0,
          "city": 1,
          "level_0": 12,
          "level_1": 75,
          "name": 0
         },
         {
          "addr": 0,
          "city": 1,
          "level_0": 60,
          "level_1": 3,
          "name": 0
         },
         {
          "addr": 0,
          "city": 1,
          "level_0": 60,
          "level_1": 26,
          "name": 0
         },
         {
          "addr": 0,
          "city": 1,
          "level_0": 60,
          "level_1": 40,
          "name": 0
         },
         {
          "addr": 0,
          "city": 1,
          "level_0": 60,
          "level_1": 43,
          "name": 0
         },
         {
          "addr": 0,
          "city": 1,
          "level_0": 60,
          "level_1": 50,
          "name": 0
         },
         {
          "addr": 0,
          "city": 1,
          "level_0": 60,
          "level_1": 53,
          "name": 0
         },
         {
          "addr": 0,
          "city": 1,
          "level_0": 60,
          "level_1": 60,
          "name": 0
         },
         {
          "addr": 0,
          "city": 1,
          "level_0": 60,
          "level_1": 65,
          "name": 0
         },
         {
          "addr": 0,
          "city": 1,
          "level_0": 60,
          "level_1": 73,
          "name": 0
         },
         {
          "addr": 0,
          "city": 1,
          "level_0": 60,
          "level_1": 74,
          "name": 0
         },
         {
          "addr": 0,
          "city": 1,
          "level_0": 60,
          "level_1": 75,
          "name": 0
         },
         {
          "addr": 0,
          "city": 1,
          "level_0": 62,
          "level_1": 3,
          "name": 0
         },
         {
          "addr": 0,
          "city": 1,
          "level_0": 62,
          "level_1": 26,
          "name": 0
         },
         {
          "addr": 0,
          "city": 1,
          "level_0": 62,
          "level_1": 40,
          "name": 0
         },
         {
          "addr": 0,
          "city": 1,
          "level_0": 62,
          "level_1": 43,
          "name": 0
         },
         {
          "addr": 0,
          "city": 1,
          "level_0": 62,
          "level_1": 50,
          "name": 0
         },
         {
          "addr": 0,
          "city": 1,
          "level_0": 62,
          "level_1": 53,
          "name": 0
         },
         {
          "addr": 0,
          "city": 1,
          "level_0": 62,
          "level_1": 60,
          "name": 0
         },
         {
          "addr": 0,
          "city": 1,
          "level_0": 62,
          "level_1": 65,
          "name": 0
         },
         {
          "addr": 0,
          "city": 1,
          "level_0": 62,
          "level_1": 73,
          "name": 0
         },
         {
          "addr": 0,
          "city": 1,
          "level_0": 62,
          "level_1": 74,
          "name": 0
         },
         {
          "addr": 0,
          "city": 1,
          "level_0": 62,
          "level_1": 75,
          "name": 0
         },
         {
          "addr": 0,
          "city": 1,
          "level_0": 64,
          "level_1": 3,
          "name": 0
         },
         {
          "addr": 0,
          "city": 1,
          "level_0": 64,
          "level_1": 26,
          "name": 0
         },
         {
          "addr": 0,
          "city": 1,
          "level_0": 64,
          "level_1": 40,
          "name": 0
         },
         {
          "addr": 0,
          "city": 1,
          "level_0": 64,
          "level_1": 43,
          "name": 0
         },
         {
          "addr": 0,
          "city": 1,
          "level_0": 64,
          "level_1": 50,
          "name": 0
         },
         {
          "addr": 0,
          "city": 1,
          "level_0": 64,
          "level_1": 53,
          "name": 0
         },
         {
          "addr": 0,
          "city": 1,
          "level_0": 64,
          "level_1": 60,
          "name": 0
         },
         {
          "addr": 0,
          "city": 1,
          "level_0": 64,
          "level_1": 65,
          "name": 0
         },
         {
          "addr": 0,
          "city": 1,
          "level_0": 64,
          "level_1": 73,
          "name": 0
         },
         {
          "addr": 1,
          "city": 1,
          "level_0": 64,
          "level_1": 74,
          "name": 0
         },
         {
          "addr": 0,
          "city": 1,
          "level_0": 64,
          "level_1": 75,
          "name": 0
         },
         {
          "addr": 0,
          "city": 1,
          "level_0": 65,
          "level_1": 3,
          "name": 0
         },
         {
          "addr": 0,
          "city": 1,
          "level_0": 65,
          "level_1": 26,
          "name": 0
         },
         {
          "addr": 0,
          "city": 1,
          "level_0": 65,
          "level_1": 40,
          "name": 0
         },
         {
          "addr": 0,
          "city": 1,
          "level_0": 65,
          "level_1": 43,
          "name": 0
         },
         {
          "addr": 0,
          "city": 1,
          "level_0": 65,
          "level_1": 50,
          "name": 0
         },
         {
          "addr": 0,
          "city": 1,
          "level_0": 65,
          "level_1": 53,
          "name": 0
         },
         {
          "addr": 0,
          "city": 1,
          "level_0": 65,
          "level_1": 60,
          "name": 0
         },
         {
          "addr": 0,
          "city": 1,
          "level_0": 65,
          "level_1": 65,
          "name": 0
         },
         {
          "addr": 0,
          "city": 1,
          "level_0": 65,
          "level_1": 73,
          "name": 0
         },
         {
          "addr": 0,
          "city": 1,
          "level_0": 65,
          "level_1": 74,
          "name": 0
         },
         {
          "addr": 0,
          "city": 1,
          "level_0": 65,
          "level_1": 75,
          "name": 0
         },
         {
          "addr": 0,
          "city": 1,
          "level_0": 66,
          "level_1": 3,
          "name": 0
         },
         {
          "addr": 0,
          "city": 1,
          "level_0": 66,
          "level_1": 26,
          "name": 0
         },
         {
          "addr": 0,
          "city": 1,
          "level_0": 66,
          "level_1": 40,
          "name": 0
         },
         {
          "addr": 0,
          "city": 1,
          "level_0": 66,
          "level_1": 43,
          "name": 0
         },
         {
          "addr": 0,
          "city": 1,
          "level_0": 66,
          "level_1": 50,
          "name": 0
         },
         {
          "addr": 0,
          "city": 1,
          "level_0": 66,
          "level_1": 53,
          "name": 0
         },
         {
          "addr": 0,
          "city": 1,
          "level_0": 66,
          "level_1": 60,
          "name": 0
         },
         {
          "addr": 0,
          "city": 1,
          "level_0": 66,
          "level_1": 65,
          "name": 0
         },
         {
          "addr": 0,
          "city": 1,
          "level_0": 66,
          "level_1": 73,
          "name": 0
         },
         {
          "addr": 0,
          "city": 1,
          "level_0": 66,
          "level_1": 74,
          "name": 0
         },
         {
          "addr": 0,
          "city": 1,
          "level_0": 66,
          "level_1": 75,
          "name": 0
         },
         {
          "addr": 0,
          "city": 1,
          "level_0": 67,
          "level_1": 3,
          "name": 0
         },
         {
          "addr": 0,
          "city": 1,
          "level_0": 67,
          "level_1": 26,
          "name": 0
         },
         {
          "addr": 0,
          "city": 1,
          "level_0": 67,
          "level_1": 40,
          "name": 0
         },
         {
          "addr": 0,
          "city": 1,
          "level_0": 67,
          "level_1": 43,
          "name": 0
         },
         {
          "addr": 0,
          "city": 1,
          "level_0": 67,
          "level_1": 50,
          "name": 0
         },
         {
          "addr": 0,
          "city": 1,
          "level_0": 67,
          "level_1": 53,
          "name": 0
         },
         {
          "addr": 0,
          "city": 1,
          "level_0": 67,
          "level_1": 60,
          "name": 0
         },
         {
          "addr": 0,
          "city": 1,
          "level_0": 67,
          "level_1": 65,
          "name": 0
         },
         {
          "addr": 0,
          "city": 1,
          "level_0": 67,
          "level_1": 73,
          "name": 0
         },
         {
          "addr": 0,
          "city": 1,
          "level_0": 67,
          "level_1": 74,
          "name": 0
         },
         {
          "addr": 0,
          "city": 1,
          "level_0": 67,
          "level_1": 75,
          "name": 0
         },
         {
          "addr": 0,
          "city": 1,
          "level_0": 69,
          "level_1": 3,
          "name": 0
         },
         {
          "addr": 0,
          "city": 1,
          "level_0": 69,
          "level_1": 26,
          "name": 0
         },
         {
          "addr": 0,
          "city": 1,
          "level_0": 69,
          "level_1": 40,
          "name": 0
         },
         {
          "addr": 0,
          "city": 1,
          "level_0": 69,
          "level_1": 43,
          "name": 0
         },
         {
          "addr": 0,
          "city": 1,
          "level_0": 69,
          "level_1": 50,
          "name": 0
         },
         {
          "addr": 0,
          "city": 1,
          "level_0": 69,
          "level_1": 53,
          "name": 0
         },
         {
          "addr": 0,
          "city": 1,
          "level_0": 69,
          "level_1": 60,
          "name": 0
         },
         {
          "addr": 0,
          "city": 1,
          "level_0": 69,
          "level_1": 65,
          "name": 0
         },
         {
          "addr": 0,
          "city": 1,
          "level_0": 69,
          "level_1": 73,
          "name": 0
         },
         {
          "addr": 0,
          "city": 1,
          "level_0": 69,
          "level_1": 74,
          "name": 0
         },
         {
          "addr": 0,
          "city": 1,
          "level_0": 69,
          "level_1": 75,
          "name": 0
         },
         {
          "addr": 0,
          "city": 1,
          "level_0": 70,
          "level_1": 3,
          "name": 0
         },
         {
          "addr": 0,
          "city": 1,
          "level_0": 70,
          "level_1": 26,
          "name": 0
         },
         {
          "addr": 0,
          "city": 1,
          "level_0": 70,
          "level_1": 40,
          "name": 0
         },
         {
          "addr": 0,
          "city": 1,
          "level_0": 70,
          "level_1": 43,
          "name": 0
         },
         {
          "addr": 0,
          "city": 1,
          "level_0": 70,
          "level_1": 50,
          "name": 0
         },
         {
          "addr": 0,
          "city": 1,
          "level_0": 70,
          "level_1": 53,
          "name": 0
         },
         {
          "addr": 0,
          "city": 1,
          "level_0": 70,
          "level_1": 60,
          "name": 0
         },
         {
          "addr": 0,
          "city": 1,
          "level_0": 70,
          "level_1": 65,
          "name": 0
         },
         {
          "addr": 0,
          "city": 1,
          "level_0": 70,
          "level_1": 73,
          "name": 0
         },
         {
          "addr": 0,
          "city": 1,
          "level_0": 70,
          "level_1": 74,
          "name": 0
         },
         {
          "addr": 0,
          "city": 1,
          "level_0": 70,
          "level_1": 75,
          "name": 0
         },
         {
          "addr": 0,
          "city": 1,
          "level_0": 73,
          "level_1": 3,
          "name": 0
         },
         {
          "addr": 0,
          "city": 1,
          "level_0": 73,
          "level_1": 26,
          "name": 0
         },
         {
          "addr": 0,
          "city": 1,
          "level_0": 73,
          "level_1": 40,
          "name": 0
         },
         {
          "addr": 0,
          "city": 1,
          "level_0": 73,
          "level_1": 43,
          "name": 0
         },
         {
          "addr": 0,
          "city": 1,
          "level_0": 73,
          "level_1": 50,
          "name": 0
         },
         {
          "addr": 0,
          "city": 1,
          "level_0": 73,
          "level_1": 53,
          "name": 0
         },
         {
          "addr": 0,
          "city": 1,
          "level_0": 73,
          "level_1": 60,
          "name": 0
         },
         {
          "addr": 0,
          "city": 1,
          "level_0": 73,
          "level_1": 65,
          "name": 0
         },
         {
          "addr": 0,
          "city": 1,
          "level_0": 73,
          "level_1": 73,
          "name": 0
         },
         {
          "addr": 0,
          "city": 1,
          "level_0": 73,
          "level_1": 74,
          "name": 0
         },
         {
          "addr": 0,
          "city": 1,
          "level_0": 73,
          "level_1": 75,
          "name": 0
         },
         {
          "addr": 0,
          "city": 1,
          "level_0": 74,
          "level_1": 3,
          "name": 0
         },
         {
          "addr": 0,
          "city": 1,
          "level_0": 74,
          "level_1": 26,
          "name": 0
         },
         {
          "addr": 0,
          "city": 1,
          "level_0": 74,
          "level_1": 40,
          "name": 0
         },
         {
          "addr": 0,
          "city": 1,
          "level_0": 74,
          "level_1": 43,
          "name": 0
         },
         {
          "addr": 0,
          "city": 1,
          "level_0": 74,
          "level_1": 50,
          "name": 0
         },
         {
          "addr": 0,
          "city": 1,
          "level_0": 74,
          "level_1": 53,
          "name": 0
         },
         {
          "addr": 0,
          "city": 1,
          "level_0": 74,
          "level_1": 60,
          "name": 0
         },
         {
          "addr": 0,
          "city": 1,
          "level_0": 74,
          "level_1": 65,
          "name": 0
         },
         {
          "addr": 0,
          "city": 1,
          "level_0": 74,
          "level_1": 73,
          "name": 0
         },
         {
          "addr": 0,
          "city": 1,
          "level_0": 74,
          "level_1": 74,
          "name": 0
         },
         {
          "addr": 0,
          "city": 1,
          "level_0": 74,
          "level_1": 75,
          "name": 0
         },
         {
          "addr": 0,
          "city": 1,
          "level_0": 75,
          "level_1": 3,
          "name": 0
         },
         {
          "addr": 0,
          "city": 1,
          "level_0": 75,
          "level_1": 26,
          "name": 0
         },
         {
          "addr": 0,
          "city": 1,
          "level_0": 75,
          "level_1": 40,
          "name": 0
         },
         {
          "addr": 0,
          "city": 1,
          "level_0": 75,
          "level_1": 43,
          "name": 0
         },
         {
          "addr": 0,
          "city": 1,
          "level_0": 75,
          "level_1": 50,
          "name": 0
         },
         {
          "addr": 0,
          "city": 1,
          "level_0": 75,
          "level_1": 53,
          "name": 0
         },
         {
          "addr": 0,
          "city": 1,
          "level_0": 75,
          "level_1": 60,
          "name": 0
         },
         {
          "addr": 0,
          "city": 1,
          "level_0": 75,
          "level_1": 65,
          "name": 0
         },
         {
          "addr": 0,
          "city": 1,
          "level_0": 75,
          "level_1": 73,
          "name": 0
         },
         {
          "addr": 0,
          "city": 1,
          "level_0": 75,
          "level_1": 74,
          "name": 0
         },
         {
          "addr": 0,
          "city": 1,
          "level_0": 75,
          "level_1": 75,
          "name": 0
         },
         {
          "addr": 0,
          "city": 1,
          "level_0": 76,
          "level_1": 3,
          "name": 0
         },
         {
          "addr": 0,
          "city": 1,
          "level_0": 76,
          "level_1": 26,
          "name": 0
         },
         {
          "addr": 0,
          "city": 1,
          "level_0": 76,
          "level_1": 40,
          "name": 0
         },
         {
          "addr": 0,
          "city": 1,
          "level_0": 76,
          "level_1": 43,
          "name": 0
         },
         {
          "addr": 0,
          "city": 1,
          "level_0": 76,
          "level_1": 50,
          "name": 0
         },
         {
          "addr": 0,
          "city": 1,
          "level_0": 76,
          "level_1": 53,
          "name": 0
         },
         {
          "addr": 0,
          "city": 1,
          "level_0": 76,
          "level_1": 60,
          "name": 0
         },
         {
          "addr": 0,
          "city": 1,
          "level_0": 76,
          "level_1": 65,
          "name": 0
         },
         {
          "addr": 0,
          "city": 1,
          "level_0": 76,
          "level_1": 73,
          "name": 0
         },
         {
          "addr": 0,
          "city": 1,
          "level_0": 76,
          "level_1": 74,
          "name": 0
         },
         {
          "addr": 0,
          "city": 1,
          "level_0": 76,
          "level_1": 75,
          "name": 0
         },
         {
          "addr": 0,
          "city": 1,
          "level_0": 77,
          "level_1": 3,
          "name": 0
         },
         {
          "addr": 0,
          "city": 1,
          "level_0": 77,
          "level_1": 26,
          "name": 0
         },
         {
          "addr": 0,
          "city": 1,
          "level_0": 77,
          "level_1": 40,
          "name": 0
         },
         {
          "addr": 0,
          "city": 1,
          "level_0": 77,
          "level_1": 43,
          "name": 0
         },
         {
          "addr": 0,
          "city": 1,
          "level_0": 77,
          "level_1": 50,
          "name": 0
         },
         {
          "addr": 0,
          "city": 1,
          "level_0": 77,
          "level_1": 53,
          "name": 0
         },
         {
          "addr": 0,
          "city": 1,
          "level_0": 77,
          "level_1": 60,
          "name": 0
         },
         {
          "addr": 0,
          "city": 1,
          "level_0": 77,
          "level_1": 65,
          "name": 0
         },
         {
          "addr": 0,
          "city": 1,
          "level_0": 77,
          "level_1": 73,
          "name": 0
         },
         {
          "addr": 0,
          "city": 1,
          "level_0": 77,
          "level_1": 74,
          "name": 0
         },
         {
          "addr": 0,
          "city": 1,
          "level_0": 77,
          "level_1": 75,
          "name": 0
         },
         {
          "addr": 0,
          "city": 1,
          "level_0": 78,
          "level_1": 3,
          "name": 0
         },
         {
          "addr": 0,
          "city": 1,
          "level_0": 78,
          "level_1": 26,
          "name": 0
         },
         {
          "addr": 0,
          "city": 1,
          "level_0": 78,
          "level_1": 40,
          "name": 0
         },
         {
          "addr": 0,
          "city": 1,
          "level_0": 78,
          "level_1": 43,
          "name": 0
         },
         {
          "addr": 0,
          "city": 1,
          "level_0": 78,
          "level_1": 50,
          "name": 0
         },
         {
          "addr": 0,
          "city": 1,
          "level_0": 78,
          "level_1": 53,
          "name": 0
         },
         {
          "addr": 0,
          "city": 1,
          "level_0": 78,
          "level_1": 60,
          "name": 0
         },
         {
          "addr": 0,
          "city": 1,
          "level_0": 78,
          "level_1": 65,
          "name": 0
         },
         {
          "addr": 0,
          "city": 1,
          "level_0": 78,
          "level_1": 73,
          "name": 0
         },
         {
          "addr": 0,
          "city": 1,
          "level_0": 78,
          "level_1": 74,
          "name": 0
         },
         {
          "addr": 0,
          "city": 1,
          "level_0": 78,
          "level_1": 75,
          "name": 0
         },
         {
          "addr": 0,
          "city": 1,
          "level_0": 79,
          "level_1": 3,
          "name": 0
         },
         {
          "addr": 0,
          "city": 1,
          "level_0": 79,
          "level_1": 26,
          "name": 0
         },
         {
          "addr": 0,
          "city": 1,
          "level_0": 79,
          "level_1": 40,
          "name": 0
         },
         {
          "addr": 0,
          "city": 1,
          "level_0": 79,
          "level_1": 43,
          "name": 0
         },
         {
          "addr": 0,
          "city": 1,
          "level_0": 79,
          "level_1": 50,
          "name": 0
         },
         {
          "addr": 0,
          "city": 1,
          "level_0": 79,
          "level_1": 53,
          "name": 0
         },
         {
          "addr": 0,
          "city": 1,
          "level_0": 79,
          "level_1": 60,
          "name": 0
         },
         {
          "addr": 0,
          "city": 1,
          "level_0": 79,
          "level_1": 65,
          "name": 0
         },
         {
          "addr": 0,
          "city": 1,
          "level_0": 79,
          "level_1": 73,
          "name": 0
         },
         {
          "addr": 0,
          "city": 1,
          "level_0": 79,
          "level_1": 74,
          "name": 0
         },
         {
          "addr": 0,
          "city": 1,
          "level_0": 79,
          "level_1": 75,
          "name": 0
         },
         {
          "addr": 0,
          "city": 1,
          "level_0": 80,
          "level_1": 3,
          "name": 0
         },
         {
          "addr": 0,
          "city": 1,
          "level_0": 80,
          "level_1": 26,
          "name": 0
         },
         {
          "addr": 0,
          "city": 1,
          "level_0": 80,
          "level_1": 40,
          "name": 0
         },
         {
          "addr": 0,
          "city": 1,
          "level_0": 80,
          "level_1": 43,
          "name": 0
         },
         {
          "addr": 0,
          "city": 1,
          "level_0": 80,
          "level_1": 50,
          "name": 0
         },
         {
          "addr": 0,
          "city": 1,
          "level_0": 80,
          "level_1": 53,
          "name": 0
         },
         {
          "addr": 0,
          "city": 1,
          "level_0": 80,
          "level_1": 60,
          "name": 0
         },
         {
          "addr": 0,
          "city": 1,
          "level_0": 80,
          "level_1": 65,
          "name": 0
         },
         {
          "addr": 0,
          "city": 1,
          "level_0": 80,
          "level_1": 73,
          "name": 0
         },
         {
          "addr": 0,
          "city": 1,
          "level_0": 80,
          "level_1": 74,
          "name": 0
         },
         {
          "addr": 0,
          "city": 1,
          "level_0": 80,
          "level_1": 75,
          "name": 0
         },
         {
          "addr": 0,
          "city": 1,
          "level_0": 81,
          "level_1": 3,
          "name": 0
         },
         {
          "addr": 0,
          "city": 1,
          "level_0": 81,
          "level_1": 26,
          "name": 0
         },
         {
          "addr": 0,
          "city": 1,
          "level_0": 81,
          "level_1": 40,
          "name": 0
         },
         {
          "addr": 0,
          "city": 1,
          "level_0": 81,
          "level_1": 43,
          "name": 0
         },
         {
          "addr": 0,
          "city": 1,
          "level_0": 81,
          "level_1": 50,
          "name": 0
         },
         {
          "addr": 0,
          "city": 1,
          "level_0": 81,
          "level_1": 53,
          "name": 0
         },
         {
          "addr": 0,
          "city": 1,
          "level_0": 81,
          "level_1": 60,
          "name": 0
         },
         {
          "addr": 0,
          "city": 1,
          "level_0": 81,
          "level_1": 65,
          "name": 0
         },
         {
          "addr": 0,
          "city": 1,
          "level_0": 81,
          "level_1": 73,
          "name": 0
         },
         {
          "addr": 0,
          "city": 1,
          "level_0": 81,
          "level_1": 74,
          "name": 0
         },
         {
          "addr": 0,
          "city": 1,
          "level_0": 81,
          "level_1": 75,
          "name": 0
         },
         {
          "addr": 0,
          "city": 1,
          "level_0": 82,
          "level_1": 3,
          "name": 0
         },
         {
          "addr": 0,
          "city": 1,
          "level_0": 82,
          "level_1": 26,
          "name": 0
         },
         {
          "addr": 0,
          "city": 1,
          "level_0": 82,
          "level_1": 40,
          "name": 0
         },
         {
          "addr": 0,
          "city": 1,
          "level_0": 82,
          "level_1": 43,
          "name": 0
         },
         {
          "addr": 0,
          "city": 1,
          "level_0": 82,
          "level_1": 50,
          "name": 0
         },
         {
          "addr": 0,
          "city": 1,
          "level_0": 82,
          "level_1": 53,
          "name": 0
         },
         {
          "addr": 0,
          "city": 1,
          "level_0": 82,
          "level_1": 60,
          "name": 0
         },
         {
          "addr": 0,
          "city": 1,
          "level_0": 82,
          "level_1": 65,
          "name": 0
         },
         {
          "addr": 0,
          "city": 1,
          "level_0": 82,
          "level_1": 73,
          "name": 0
         },
         {
          "addr": 0,
          "city": 1,
          "level_0": 82,
          "level_1": 74,
          "name": 0
         },
         {
          "addr": 0,
          "city": 1,
          "level_0": 82,
          "level_1": 75,
          "name": 0
         },
         {
          "addr": 0,
          "city": 1,
          "level_0": 84,
          "level_1": 3,
          "name": 0
         },
         {
          "addr": 0,
          "city": 1,
          "level_0": 84,
          "level_1": 26,
          "name": 0
         },
         {
          "addr": 0,
          "city": 1,
          "level_0": 84,
          "level_1": 40,
          "name": 0
         },
         {
          "addr": 0,
          "city": 1,
          "level_0": 84,
          "level_1": 43,
          "name": 0
         },
         {
          "addr": 0,
          "city": 1,
          "level_0": 84,
          "level_1": 50,
          "name": 0
         },
         {
          "addr": 0,
          "city": 1,
          "level_0": 84,
          "level_1": 53,
          "name": 0
         },
         {
          "addr": 0,
          "city": 1,
          "level_0": 84,
          "level_1": 60,
          "name": 0
         },
         {
          "addr": 0,
          "city": 1,
          "level_0": 84,
          "level_1": 65,
          "name": 0
         },
         {
          "addr": 0,
          "city": 1,
          "level_0": 84,
          "level_1": 73,
          "name": 0
         },
         {
          "addr": 0,
          "city": 1,
          "level_0": 84,
          "level_1": 74,
          "name": 0
         },
         {
          "addr": 0,
          "city": 1,
          "level_0": 84,
          "level_1": 75,
          "name": 0
         },
         {
          "addr": 0,
          "city": 1,
          "level_0": 85,
          "level_1": 3,
          "name": 0
         },
         {
          "addr": 0,
          "city": 1,
          "level_0": 85,
          "level_1": 26,
          "name": 0
         },
         {
          "addr": 0,
          "city": 1,
          "level_0": 85,
          "level_1": 40,
          "name": 0
         },
         {
          "addr": 0,
          "city": 1,
          "level_0": 85,
          "level_1": 43,
          "name": 0
         },
         {
          "addr": 0,
          "city": 1,
          "level_0": 85,
          "level_1": 50,
          "name": 0
         },
         {
          "addr": 0,
          "city": 1,
          "level_0": 85,
          "level_1": 53,
          "name": 0
         },
         {
          "addr": 0,
          "city": 1,
          "level_0": 85,
          "level_1": 60,
          "name": 0
         },
         {
          "addr": 0,
          "city": 1,
          "level_0": 85,
          "level_1": 65,
          "name": 0
         },
         {
          "addr": 0,
          "city": 1,
          "level_0": 85,
          "level_1": 73,
          "name": 0
         },
         {
          "addr": 0,
          "city": 1,
          "level_0": 85,
          "level_1": 74,
          "name": 0
         },
         {
          "addr": 0,
          "city": 1,
          "level_0": 85,
          "level_1": 75,
          "name": 0
         },
         {
          "addr": 0,
          "city": 1,
          "level_0": 88,
          "level_1": 3,
          "name": 0
         },
         {
          "addr": 0,
          "city": 1,
          "level_0": 88,
          "level_1": 26,
          "name": 0
         },
         {
          "addr": 0,
          "city": 1,
          "level_0": 88,
          "level_1": 40,
          "name": 0
         },
         {
          "addr": 0,
          "city": 1,
          "level_0": 88,
          "level_1": 43,
          "name": 0
         },
         {
          "addr": 0,
          "city": 1,
          "level_0": 88,
          "level_1": 50,
          "name": 0
         },
         {
          "addr": 0,
          "city": 1,
          "level_0": 88,
          "level_1": 53,
          "name": 0
         },
         {
          "addr": 0,
          "city": 1,
          "level_0": 88,
          "level_1": 60,
          "name": 0
         },
         {
          "addr": 0,
          "city": 1,
          "level_0": 88,
          "level_1": 65,
          "name": 0
         },
         {
          "addr": 0,
          "city": 1,
          "level_0": 88,
          "level_1": 73,
          "name": 0
         },
         {
          "addr": 0,
          "city": 1,
          "level_0": 88,
          "level_1": 74,
          "name": 0
         },
         {
          "addr": 0,
          "city": 1,
          "level_0": 88,
          "level_1": 75,
          "name": 0
         },
         {
          "addr": 0,
          "city": 1,
          "level_0": 89,
          "level_1": 3,
          "name": 0
         },
         {
          "addr": 0,
          "city": 1,
          "level_0": 89,
          "level_1": 26,
          "name": 0
         },
         {
          "addr": 0,
          "city": 1,
          "level_0": 89,
          "level_1": 40,
          "name": 0
         },
         {
          "addr": 0,
          "city": 1,
          "level_0": 89,
          "level_1": 43,
          "name": 0
         },
         {
          "addr": 0,
          "city": 1,
          "level_0": 89,
          "level_1": 50,
          "name": 0
         },
         {
          "addr": 0,
          "city": 1,
          "level_0": 89,
          "level_1": 53,
          "name": 0
         },
         {
          "addr": 0,
          "city": 1,
          "level_0": 89,
          "level_1": 60,
          "name": 0
         },
         {
          "addr": 0,
          "city": 1,
          "level_0": 89,
          "level_1": 65,
          "name": 0
         },
         {
          "addr": 0,
          "city": 1,
          "level_0": 89,
          "level_1": 73,
          "name": 0
         },
         {
          "addr": 0,
          "city": 1,
          "level_0": 89,
          "level_1": 74,
          "name": 0
         },
         {
          "addr": 0,
          "city": 1,
          "level_0": 89,
          "level_1": 75,
          "name": 0
         },
         {
          "addr": 0,
          "city": 1,
          "level_0": 91,
          "level_1": 3,
          "name": 0
         },
         {
          "addr": 0,
          "city": 1,
          "level_0": 91,
          "level_1": 26,
          "name": 0
         },
         {
          "addr": 0,
          "city": 1,
          "level_0": 91,
          "level_1": 40,
          "name": 0
         },
         {
          "addr": 0,
          "city": 1,
          "level_0": 91,
          "level_1": 43,
          "name": 0
         },
         {
          "addr": 0,
          "city": 1,
          "level_0": 91,
          "level_1": 50,
          "name": 0
         },
         {
          "addr": 0,
          "city": 1,
          "level_0": 91,
          "level_1": 53,
          "name": 0
         },
         {
          "addr": 0,
          "city": 1,
          "level_0": 91,
          "level_1": 60,
          "name": 0
         },
         {
          "addr": 0,
          "city": 1,
          "level_0": 91,
          "level_1": 65,
          "name": 0
         },
         {
          "addr": 0,
          "city": 1,
          "level_0": 91,
          "level_1": 73,
          "name": 0
         },
         {
          "addr": 0,
          "city": 1,
          "level_0": 91,
          "level_1": 74,
          "name": 0
         },
         {
          "addr": 0,
          "city": 1,
          "level_0": 91,
          "level_1": 75,
          "name": 0
         },
         {
          "addr": 0,
          "city": 1,
          "level_0": 92,
          "level_1": 3,
          "name": 0
         },
         {
          "addr": 0,
          "city": 1,
          "level_0": 92,
          "level_1": 26,
          "name": 0
         },
         {
          "addr": 0,
          "city": 1,
          "level_0": 92,
          "level_1": 40,
          "name": 0
         },
         {
          "addr": 0,
          "city": 1,
          "level_0": 92,
          "level_1": 43,
          "name": 0
         },
         {
          "addr": 0,
          "city": 1,
          "level_0": 92,
          "level_1": 50,
          "name": 0
         },
         {
          "addr": 0,
          "city": 1,
          "level_0": 92,
          "level_1": 53,
          "name": 0
         },
         {
          "addr": 0,
          "city": 1,
          "level_0": 92,
          "level_1": 60,
          "name": 0
         },
         {
          "addr": 0,
          "city": 1,
          "level_0": 92,
          "level_1": 65,
          "name": 0
         },
         {
          "addr": 0,
          "city": 1,
          "level_0": 92,
          "level_1": 73,
          "name": 0
         },
         {
          "addr": 0,
          "city": 1,
          "level_0": 92,
          "level_1": 74,
          "name": 0
         },
         {
          "addr": 0,
          "city": 1,
          "level_0": 92,
          "level_1": 75,
          "name": 0
         },
         {
          "addr": 0,
          "city": 1,
          "level_0": 93,
          "level_1": 3,
          "name": 0
         },
         {
          "addr": 0,
          "city": 1,
          "level_0": 93,
          "level_1": 26,
          "name": 0
         },
         {
          "addr": 0,
          "city": 1,
          "level_0": 93,
          "level_1": 40,
          "name": 0
         },
         {
          "addr": 0,
          "city": 1,
          "level_0": 93,
          "level_1": 43,
          "name": 0
         },
         {
          "addr": 0,
          "city": 1,
          "level_0": 93,
          "level_1": 50,
          "name": 0
         },
         {
          "addr": 0,
          "city": 1,
          "level_0": 93,
          "level_1": 53,
          "name": 0
         },
         {
          "addr": 0,
          "city": 1,
          "level_0": 93,
          "level_1": 60,
          "name": 0
         },
         {
          "addr": 0,
          "city": 1,
          "level_0": 93,
          "level_1": 65,
          "name": 0
         },
         {
          "addr": 0,
          "city": 1,
          "level_0": 93,
          "level_1": 73,
          "name": 0
         },
         {
          "addr": 0,
          "city": 1,
          "level_0": 93,
          "level_1": 74,
          "name": 0
         },
         {
          "addr": 0,
          "city": 1,
          "level_0": 93,
          "level_1": 75,
          "name": 0
         },
         {
          "addr": 0,
          "city": 1,
          "level_0": 94,
          "level_1": 3,
          "name": 0
         },
         {
          "addr": 0,
          "city": 1,
          "level_0": 94,
          "level_1": 26,
          "name": 0
         },
         {
          "addr": 0,
          "city": 1,
          "level_0": 94,
          "level_1": 40,
          "name": 0
         },
         {
          "addr": 0,
          "city": 1,
          "level_0": 94,
          "level_1": 43,
          "name": 0
         },
         {
          "addr": 0,
          "city": 1,
          "level_0": 94,
          "level_1": 50,
          "name": 0
         },
         {
          "addr": 0,
          "city": 1,
          "level_0": 94,
          "level_1": 53,
          "name": 0
         },
         {
          "addr": 0,
          "city": 1,
          "level_0": 94,
          "level_1": 60,
          "name": 0
         },
         {
          "addr": 0,
          "city": 1,
          "level_0": 94,
          "level_1": 65,
          "name": 0
         },
         {
          "addr": 0,
          "city": 1,
          "level_0": 94,
          "level_1": 73,
          "name": 0
         },
         {
          "addr": 0,
          "city": 1,
          "level_0": 94,
          "level_1": 74,
          "name": 0
         },
         {
          "addr": 0,
          "city": 1,
          "level_0": 94,
          "level_1": 75,
          "name": 0
         },
         {
          "addr": 0,
          "city": 1,
          "level_0": 95,
          "level_1": 3,
          "name": 0
         },
         {
          "addr": 0,
          "city": 1,
          "level_0": 95,
          "level_1": 26,
          "name": 0
         },
         {
          "addr": 0,
          "city": 1,
          "level_0": 95,
          "level_1": 40,
          "name": 0
         },
         {
          "addr": 0,
          "city": 1,
          "level_0": 95,
          "level_1": 43,
          "name": 0
         },
         {
          "addr": 0,
          "city": 1,
          "level_0": 95,
          "level_1": 50,
          "name": 0
         },
         {
          "addr": 0,
          "city": 1,
          "level_0": 95,
          "level_1": 53,
          "name": 0
         },
         {
          "addr": 0,
          "city": 1,
          "level_0": 95,
          "level_1": 60,
          "name": 0
         },
         {
          "addr": 0,
          "city": 1,
          "level_0": 95,
          "level_1": 65,
          "name": 0
         },
         {
          "addr": 0,
          "city": 1,
          "level_0": 95,
          "level_1": 73,
          "name": 0
         },
         {
          "addr": 0,
          "city": 1,
          "level_0": 95,
          "level_1": 74,
          "name": 0
         },
         {
          "addr": 0,
          "city": 1,
          "level_0": 95,
          "level_1": 75,
          "name": 0
         },
         {
          "addr": 0,
          "city": 1,
          "level_0": 96,
          "level_1": 3,
          "name": 0
         },
         {
          "addr": 0,
          "city": 1,
          "level_0": 96,
          "level_1": 26,
          "name": 0
         },
         {
          "addr": 0,
          "city": 1,
          "level_0": 96,
          "level_1": 40,
          "name": 0
         },
         {
          "addr": 0,
          "city": 1,
          "level_0": 96,
          "level_1": 43,
          "name": 0
         },
         {
          "addr": 0,
          "city": 1,
          "level_0": 96,
          "level_1": 50,
          "name": 0
         },
         {
          "addr": 0,
          "city": 1,
          "level_0": 96,
          "level_1": 53,
          "name": 0
         },
         {
          "addr": 0,
          "city": 1,
          "level_0": 96,
          "level_1": 60,
          "name": 0
         },
         {
          "addr": 0,
          "city": 1,
          "level_0": 96,
          "level_1": 65,
          "name": 0
         },
         {
          "addr": 0,
          "city": 1,
          "level_0": 96,
          "level_1": 73,
          "name": 0
         },
         {
          "addr": 0,
          "city": 1,
          "level_0": 96,
          "level_1": 74,
          "name": 0
         },
         {
          "addr": 0,
          "city": 1,
          "level_0": 96,
          "level_1": 75,
          "name": 0
         },
         {
          "addr": 0,
          "city": 1,
          "level_0": 97,
          "level_1": 3,
          "name": 0
         },
         {
          "addr": 0,
          "city": 1,
          "level_0": 97,
          "level_1": 26,
          "name": 0
         },
         {
          "addr": 0,
          "city": 1,
          "level_0": 97,
          "level_1": 40,
          "name": 0
         },
         {
          "addr": 0,
          "city": 1,
          "level_0": 97,
          "level_1": 43,
          "name": 0
         },
         {
          "addr": 0,
          "city": 1,
          "level_0": 97,
          "level_1": 50,
          "name": 0
         },
         {
          "addr": 0,
          "city": 1,
          "level_0": 97,
          "level_1": 53,
          "name": 0
         },
         {
          "addr": 0,
          "city": 1,
          "level_0": 97,
          "level_1": 60,
          "name": 0
         },
         {
          "addr": 0,
          "city": 1,
          "level_0": 97,
          "level_1": 65,
          "name": 0
         },
         {
          "addr": 0,
          "city": 1,
          "level_0": 97,
          "level_1": 73,
          "name": 0
         },
         {
          "addr": 0,
          "city": 1,
          "level_0": 97,
          "level_1": 74,
          "name": 0
         },
         {
          "addr": 0,
          "city": 1,
          "level_0": 97,
          "level_1": 75,
          "name": 0
         },
         {
          "addr": 0,
          "city": 1,
          "level_0": 98,
          "level_1": 3,
          "name": 0
         },
         {
          "addr": 0,
          "city": 1,
          "level_0": 98,
          "level_1": 26,
          "name": 0
         },
         {
          "addr": 0,
          "city": 1,
          "level_0": 98,
          "level_1": 40,
          "name": 0
         },
         {
          "addr": 0,
          "city": 1,
          "level_0": 98,
          "level_1": 43,
          "name": 0
         },
         {
          "addr": 0,
          "city": 1,
          "level_0": 98,
          "level_1": 50,
          "name": 0
         },
         {
          "addr": 0,
          "city": 1,
          "level_0": 98,
          "level_1": 53,
          "name": 0
         },
         {
          "addr": 0,
          "city": 1,
          "level_0": 98,
          "level_1": 60,
          "name": 0
         },
         {
          "addr": 0,
          "city": 1,
          "level_0": 98,
          "level_1": 65,
          "name": 0
         },
         {
          "addr": 0,
          "city": 1,
          "level_0": 98,
          "level_1": 73,
          "name": 0
         },
         {
          "addr": 0,
          "city": 1,
          "level_0": 98,
          "level_1": 74,
          "name": 0
         },
         {
          "addr": 0,
          "city": 1,
          "level_0": 98,
          "level_1": 75,
          "name": 0
         },
         {
          "addr": 0,
          "city": 1,
          "level_0": 100,
          "level_1": 3,
          "name": 0
         },
         {
          "addr": 0,
          "city": 1,
          "level_0": 100,
          "level_1": 26,
          "name": 0
         },
         {
          "addr": 0,
          "city": 1,
          "level_0": 100,
          "level_1": 40,
          "name": 0
         },
         {
          "addr": 0,
          "city": 1,
          "level_0": 100,
          "level_1": 43,
          "name": 0
         },
         {
          "addr": 0,
          "city": 1,
          "level_0": 100,
          "level_1": 50,
          "name": 0
         },
         {
          "addr": 0,
          "city": 1,
          "level_0": 100,
          "level_1": 53,
          "name": 0
         },
         {
          "addr": 0,
          "city": 1,
          "level_0": 100,
          "level_1": 60,
          "name": 0
         },
         {
          "addr": 0,
          "city": 1,
          "level_0": 100,
          "level_1": 65,
          "name": 0
         },
         {
          "addr": 0,
          "city": 1,
          "level_0": 100,
          "level_1": 73,
          "name": 0
         },
         {
          "addr": 0,
          "city": 1,
          "level_0": 100,
          "level_1": 74,
          "name": 0
         },
         {
          "addr": 0,
          "city": 1,
          "level_0": 100,
          "level_1": 75,
          "name": 0
         },
         {
          "addr": 0,
          "city": 1,
          "level_0": 1,
          "level_1": 10,
          "name": 0
         },
         {
          "addr": 1,
          "city": 1,
          "level_0": 1,
          "level_1": 28,
          "name": 1
         },
         {
          "addr": 1,
          "city": 1,
          "level_0": 3,
          "level_1": 1,
          "name": 1
         },
         {
          "addr": 0,
          "city": 1,
          "level_0": 3,
          "level_1": 56,
          "name": 0
         },
         {
          "addr": 0,
          "city": 1,
          "level_0": 7,
          "level_1": 15,
          "name": 0
         },
         {
          "addr": 0,
          "city": 1,
          "level_0": 7,
          "level_1": 18,
          "name": 0
         },
         {
          "addr": 0,
          "city": 1,
          "level_0": 7,
          "level_1": 38,
          "name": 0
         },
         {
          "addr": 0,
          "city": 1,
          "level_0": 7,
          "level_1": 62,
          "name": 0
         },
         {
          "addr": 1,
          "city": 1,
          "level_0": 7,
          "level_1": 79,
          "name": 1
         },
         {
          "addr": 0,
          "city": 1,
          "level_0": 61,
          "level_1": 15,
          "name": 0
         },
         {
          "addr": 0,
          "city": 1,
          "level_0": 61,
          "level_1": 18,
          "name": 0
         },
         {
          "addr": 0,
          "city": 1,
          "level_0": 61,
          "level_1": 38,
          "name": 0
         },
         {
          "addr": 0,
          "city": 1,
          "level_0": 61,
          "level_1": 62,
          "name": 0
         },
         {
          "addr": 0,
          "city": 1,
          "level_0": 61,
          "level_1": 79,
          "name": 0
         },
         {
          "addr": 0,
          "city": 1,
          "level_0": 11,
          "level_1": 13,
          "name": 0
         },
         {
          "addr": 1,
          "city": 1,
          "level_0": 11,
          "level_1": 21,
          "name": 1
         },
         {
          "addr": 0,
          "city": 1,
          "level_0": 11,
          "level_1": 36,
          "name": 0
         },
         {
          "addr": 0,
          "city": 1,
          "level_0": 11,
          "level_1": 45,
          "name": 0
         },
         {
          "addr": 0,
          "city": 1,
          "level_0": 11,
          "level_1": 46,
          "name": 0
         },
         {
          "addr": 0,
          "city": 1,
          "level_0": 11,
          "level_1": 80,
          "name": 0
         },
         {
          "addr": 0,
          "city": 1,
          "level_0": 63,
          "level_1": 13,
          "name": 0
         },
         {
          "addr": 0,
          "city": 1,
          "level_0": 63,
          "level_1": 21,
          "name": 0
         },
         {
          "addr": 0,
          "city": 1,
          "level_0": 63,
          "level_1": 36,
          "name": 0
         },
         {
          "addr": 0,
          "city": 1,
          "level_0": 63,
          "level_1": 45,
          "name": 0
         },
         {
          "addr": 0,
          "city": 1,
          "level_0": 63,
          "level_1": 46,
          "name": 0
         },
         {
          "addr": 0,
          "city": 1,
          "level_0": 63,
          "level_1": 80,
          "name": 0
         },
         {
          "addr": 0,
          "city": 1,
          "level_0": 68,
          "level_1": 13,
          "name": 0
         },
         {
          "addr": 0,
          "city": 1,
          "level_0": 68,
          "level_1": 21,
          "name": 0
         },
         {
          "addr": 0,
          "city": 1,
          "level_0": 68,
          "level_1": 36,
          "name": 0
         },
         {
          "addr": 0,
          "city": 1,
          "level_0": 68,
          "level_1": 45,
          "name": 0
         },
         {
          "addr": 0,
          "city": 1,
          "level_0": 68,
          "level_1": 46,
          "name": 0
         },
         {
          "addr": 0,
          "city": 1,
          "level_0": 68,
          "level_1": 80,
          "name": 0
         },
         {
          "addr": 0,
          "city": 1,
          "level_0": 71,
          "level_1": 13,
          "name": 0
         },
         {
          "addr": 0,
          "city": 1,
          "level_0": 71,
          "level_1": 21,
          "name": 0
         },
         {
          "addr": 0,
          "city": 1,
          "level_0": 71,
          "level_1": 36,
          "name": 0
         },
         {
          "addr": 0,
          "city": 1,
          "level_0": 71,
          "level_1": 45,
          "name": 0
         },
         {
          "addr": 0,
          "city": 1,
          "level_0": 71,
          "level_1": 46,
          "name": 0
         },
         {
          "addr": 0,
          "city": 1,
          "level_0": 71,
          "level_1": 80,
          "name": 0
         },
         {
          "addr": 0,
          "city": 1,
          "level_0": 83,
          "level_1": 13,
          "name": 0
         },
         {
          "addr": 0,
          "city": 1,
          "level_0": 83,
          "level_1": 21,
          "name": 0
         },
         {
          "addr": 0,
          "city": 1,
          "level_0": 83,
          "level_1": 36,
          "name": 0
         },
         {
          "addr": 0,
          "city": 1,
          "level_0": 83,
          "level_1": 45,
          "name": 0
         },
         {
          "addr": 0,
          "city": 1,
          "level_0": 83,
          "level_1": 46,
          "name": 0
         },
         {
          "addr": 0,
          "city": 1,
          "level_0": 83,
          "level_1": 80,
          "name": 0
         },
         {
          "addr": 0,
          "city": 1,
          "level_0": 90,
          "level_1": 13,
          "name": 0
         },
         {
          "addr": 0,
          "city": 1,
          "level_0": 90,
          "level_1": 21,
          "name": 0
         },
         {
          "addr": 0,
          "city": 1,
          "level_0": 90,
          "level_1": 36,
          "name": 0
         },
         {
          "addr": 0,
          "city": 1,
          "level_0": 90,
          "level_1": 45,
          "name": 0
         },
         {
          "addr": 0,
          "city": 1,
          "level_0": 90,
          "level_1": 46,
          "name": 0
         },
         {
          "addr": 0,
          "city": 1,
          "level_0": 90,
          "level_1": 80,
          "name": 0
         },
         {
          "addr": 1,
          "city": 1,
          "level_0": 13,
          "level_1": 7,
          "name": 1
         },
         {
          "addr": 0,
          "city": 1,
          "level_0": 13,
          "level_1": 12,
          "name": 0
         },
         {
          "addr": 1,
          "city": 1,
          "level_0": 13,
          "level_1": 20,
          "name": 0
         },
         {
          "addr": 0,
          "city": 1,
          "level_0": 13,
          "level_1": 27,
          "name": 0
         },
         {
          "addr": 0,
          "city": 1,
          "level_0": 13,
          "level_1": 47,
          "name": 0
         },
         {
          "addr": 0,
          "city": 1,
          "level_0": 13,
          "level_1": 55,
          "name": 0
         },
         {
          "addr": 0,
          "city": 1,
          "level_0": 13,
          "level_1": 57,
          "name": 0
         },
         {
          "addr": 0,
          "city": 1,
          "level_0": 13,
          "level_1": 67,
          "name": 0
         },
         {
          "addr": 0,
          "city": 1,
          "level_0": 13,
          "level_1": 71,
          "name": 0
         },
         {
          "addr": 0,
          "city": 1,
          "level_0": 14,
          "level_1": 7,
          "name": 0
         },
         {
          "addr": 0,
          "city": 1,
          "level_0": 14,
          "level_1": 12,
          "name": 0
         },
         {
          "addr": 0,
          "city": 1,
          "level_0": 14,
          "level_1": 20,
          "name": 0
         },
         {
          "addr": 0,
          "city": 1,
          "level_0": 14,
          "level_1": 27,
          "name": 0
         },
         {
          "addr": 0,
          "city": 1,
          "level_0": 14,
          "level_1": 47,
          "name": 0
         },
         {
          "addr": 0,
          "city": 1,
          "level_0": 14,
          "level_1": 55,
          "name": 0
         },
         {
          "addr": 0,
          "city": 1,
          "level_0": 14,
          "level_1": 57,
          "name": 0
         },
         {
          "addr": 1,
          "city": 1,
          "level_0": 14,
          "level_1": 67,
          "name": 1
         },
         {
          "addr": 0,
          "city": 1,
          "level_0": 14,
          "level_1": 71,
          "name": 0
         },
         {
          "addr": 0,
          "city": 1,
          "level_0": 15,
          "level_1": 7,
          "name": 0
         },
         {
          "addr": 0,
          "city": 1,
          "level_0": 15,
          "level_1": 12,
          "name": 0
         },
         {
          "addr": 0,
          "city": 1,
          "level_0": 15,
          "level_1": 20,
          "name": 0
         },
         {
          "addr": 0,
          "city": 1,
          "level_0": 15,
          "level_1": 27,
          "name": 0
         },
         {
          "addr": 0,
          "city": 1,
          "level_0": 15,
          "level_1": 47,
          "name": 0
         },
         {
          "addr": 1,
          "city": 1,
          "level_0": 15,
          "level_1": 55,
          "name": 1
         },
         {
          "addr": 0,
          "city": 1,
          "level_0": 15,
          "level_1": 57,
          "name": 0
         },
         {
          "addr": 0,
          "city": 1,
          "level_0": 15,
          "level_1": 67,
          "name": 0
         },
         {
          "addr": 0,
          "city": 1,
          "level_0": 15,
          "level_1": 71,
          "name": 0
         },
         {
          "addr": 0,
          "city": 1,
          "level_0": 16,
          "level_1": 7,
          "name": 0
         },
         {
          "addr": 0,
          "city": 1,
          "level_0": 16,
          "level_1": 12,
          "name": 0
         },
         {
          "addr": 0,
          "city": 1,
          "level_0": 16,
          "level_1": 20,
          "name": 0
         },
         {
          "addr": 0,
          "city": 1,
          "level_0": 16,
          "level_1": 27,
          "name": 0
         },
         {
          "addr": 0,
          "city": 1,
          "level_0": 16,
          "level_1": 47,
          "name": 0
         },
         {
          "addr": 0,
          "city": 1,
          "level_0": 16,
          "level_1": 55,
          "name": 0
         },
         {
          "addr": 1,
          "city": 1,
          "level_0": 16,
          "level_1": 57,
          "name": 1
         },
         {
          "addr": 0,
          "city": 1,
          "level_0": 16,
          "level_1": 67,
          "name": 0
         },
         {
          "addr": 0,
          "city": 1,
          "level_0": 16,
          "level_1": 71,
          "name": 0
         },
         {
          "addr": 0,
          "city": 1,
          "level_0": 17,
          "level_1": 7,
          "name": 0
         },
         {
          "addr": 1,
          "city": 1,
          "level_0": 17,
          "level_1": 12,
          "name": 1
         },
         {
          "addr": 0,
          "city": 1,
          "level_0": 17,
          "level_1": 20,
          "name": 0
         },
         {
          "addr": 0,
          "city": 1,
          "level_0": 17,
          "level_1": 27,
          "name": 0
         },
         {
          "addr": 0,
          "city": 1,
          "level_0": 17,
          "level_1": 47,
          "name": 0
         },
         {
          "addr": 0,
          "city": 1,
          "level_0": 17,
          "level_1": 55,
          "name": 0
         },
         {
          "addr": 0,
          "city": 1,
          "level_0": 17,
          "level_1": 57,
          "name": 0
         },
         {
          "addr": 0,
          "city": 1,
          "level_0": 17,
          "level_1": 67,
          "name": 0
         },
         {
          "addr": 0,
          "city": 1,
          "level_0": 17,
          "level_1": 71,
          "name": 0
         },
         {
          "addr": 0,
          "city": 1,
          "level_0": 18,
          "level_1": 7,
          "name": 0
         },
         {
          "addr": 0,
          "city": 1,
          "level_0": 18,
          "level_1": 12,
          "name": 0
         },
         {
          "addr": 0,
          "city": 1,
          "level_0": 18,
          "level_1": 20,
          "name": 0
         },
         {
          "addr": 0,
          "city": 1,
          "level_0": 18,
          "level_1": 27,
          "name": 0
         },
         {
          "addr": 1,
          "city": 1,
          "level_0": 18,
          "level_1": 47,
          "name": 0
         },
         {
          "addr": 0,
          "city": 1,
          "level_0": 18,
          "level_1": 55,
          "name": 0
         },
         {
          "addr": 0,
          "city": 1,
          "level_0": 18,
          "level_1": 57,
          "name": 0
         },
         {
          "addr": 0,
          "city": 1,
          "level_0": 18,
          "level_1": 67,
          "name": 0
         },
         {
          "addr": 1,
          "city": 1,
          "level_0": 18,
          "level_1": 71,
          "name": 1
         },
         {
          "addr": 0,
          "city": 1,
          "level_0": 19,
          "level_1": 7,
          "name": 0
         },
         {
          "addr": 0,
          "city": 1,
          "level_0": 19,
          "level_1": 12,
          "name": 0
         },
         {
          "addr": 0,
          "city": 1,
          "level_0": 19,
          "level_1": 20,
          "name": 0
         },
         {
          "addr": 0,
          "city": 1,
          "level_0": 19,
          "level_1": 27,
          "name": 0
         },
         {
          "addr": 1,
          "city": 1,
          "level_0": 19,
          "level_1": 47,
          "name": 1
         },
         {
          "addr": 0,
          "city": 1,
          "level_0": 19,
          "level_1": 55,
          "name": 0
         },
         {
          "addr": 0,
          "city": 1,
          "level_0": 19,
          "level_1": 57,
          "name": 0
         },
         {
          "addr": 0,
          "city": 1,
          "level_0": 19,
          "level_1": 67,
          "name": 0
         },
         {
          "addr": 1,
          "city": 1,
          "level_0": 19,
          "level_1": 71,
          "name": 0
         },
         {
          "addr": 1,
          "city": 1,
          "level_0": 20,
          "level_1": 7,
          "name": 0
         },
         {
          "addr": 0,
          "city": 1,
          "level_0": 20,
          "level_1": 12,
          "name": 0
         },
         {
          "addr": 1,
          "city": 1,
          "level_0": 20,
          "level_1": 20,
          "name": 1
         },
         {
          "addr": 0,
          "city": 1,
          "level_0": 20,
          "level_1": 27,
          "name": 0
         },
         {
          "addr": 0,
          "city": 1,
          "level_0": 20,
          "level_1": 47,
          "name": 0
         },
         {
          "addr": 0,
          "city": 1,
          "level_0": 20,
          "level_1": 55,
          "name": 0
         },
         {
          "addr": 0,
          "city": 1,
          "level_0": 20,
          "level_1": 57,
          "name": 0
         },
         {
          "addr": 0,
          "city": 1,
          "level_0": 20,
          "level_1": 67,
          "name": 0
         },
         {
          "addr": 0,
          "city": 1,
          "level_0": 20,
          "level_1": 71,
          "name": 0
         },
         {
          "addr": 0,
          "city": 1,
          "level_0": 21,
          "level_1": 7,
          "name": 0
         },
         {
          "addr": 0,
          "city": 1,
          "level_0": 21,
          "level_1": 12,
          "name": 0
         },
         {
          "addr": 0,
          "city": 1,
          "level_0": 21,
          "level_1": 20,
          "name": 0
         },
         {
          "addr": 1,
          "city": 1,
          "level_0": 21,
          "level_1": 27,
          "name": 1
         },
         {
          "addr": 0,
          "city": 1,
          "level_0": 21,
          "level_1": 47,
          "name": 0
         },
         {
          "addr": 0,
          "city": 1,
          "level_0": 21,
          "level_1": 55,
          "name": 0
         },
         {
          "addr": 0,
          "city": 1,
          "level_0": 21,
          "level_1": 57,
          "name": 0
         },
         {
          "addr": 0,
          "city": 1,
          "level_0": 21,
          "level_1": 67,
          "name": 0
         },
         {
          "addr": 0,
          "city": 1,
          "level_0": 21,
          "level_1": 71,
          "name": 0
         },
         {
          "addr": 0,
          "city": 1,
          "level_0": 22,
          "level_1": 7,
          "name": 0
         },
         {
          "addr": 0,
          "city": 1,
          "level_0": 22,
          "level_1": 12,
          "name": 0
         },
         {
          "addr": 0,
          "city": 1,
          "level_0": 22,
          "level_1": 20,
          "name": 0
         },
         {
          "addr": 0,
          "city": 1,
          "level_0": 22,
          "level_1": 27,
          "name": 0
         },
         {
          "addr": 0,
          "city": 1,
          "level_0": 22,
          "level_1": 47,
          "name": 0
         },
         {
          "addr": 0,
          "city": 1,
          "level_0": 22,
          "level_1": 55,
          "name": 0
         },
         {
          "addr": 0,
          "city": 1,
          "level_0": 22,
          "level_1": 57,
          "name": 0
         },
         {
          "addr": 0,
          "city": 1,
          "level_0": 22,
          "level_1": 67,
          "name": 0
         },
         {
          "addr": 0,
          "city": 1,
          "level_0": 22,
          "level_1": 71,
          "name": 0
         },
         {
          "addr": 0,
          "city": 1,
          "level_0": 23,
          "level_1": 7,
          "name": 0
         },
         {
          "addr": 0,
          "city": 1,
          "level_0": 23,
          "level_1": 12,
          "name": 0
         },
         {
          "addr": 0,
          "city": 1,
          "level_0": 23,
          "level_1": 20,
          "name": 0
         },
         {
          "addr": 0,
          "city": 1,
          "level_0": 23,
          "level_1": 27,
          "name": 0
         },
         {
          "addr": 0,
          "city": 1,
          "level_0": 23,
          "level_1": 47,
          "name": 0
         },
         {
          "addr": 0,
          "city": 1,
          "level_0": 23,
          "level_1": 55,
          "name": 0
         },
         {
          "addr": 0,
          "city": 1,
          "level_0": 23,
          "level_1": 57,
          "name": 0
         },
         {
          "addr": 0,
          "city": 1,
          "level_0": 23,
          "level_1": 67,
          "name": 0
         },
         {
          "addr": 0,
          "city": 1,
          "level_0": 23,
          "level_1": 71,
          "name": 0
         },
         {
          "addr": 0,
          "city": 1,
          "level_0": 24,
          "level_1": 7,
          "name": 0
         },
         {
          "addr": 0,
          "city": 1,
          "level_0": 24,
          "level_1": 12,
          "name": 0
         },
         {
          "addr": 0,
          "city": 1,
          "level_0": 24,
          "level_1": 20,
          "name": 0
         },
         {
          "addr": 1,
          "city": 1,
          "level_0": 24,
          "level_1": 27,
          "name": 0
         },
         {
          "addr": 1,
          "city": 1,
          "level_0": 24,
          "level_1": 47,
          "name": 0
         },
         {
          "addr": 0,
          "city": 1,
          "level_0": 24,
          "level_1": 55,
          "name": 0
         },
         {
          "addr": 0,
          "city": 1,
          "level_0": 24,
          "level_1": 57,
          "name": 0
         },
         {
          "addr": 0,
          "city": 1,
          "level_0": 24,
          "level_1": 67,
          "name": 0
         },
         {
          "addr": 1,
          "city": 1,
          "level_0": 24,
          "level_1": 71,
          "name": 0
         },
         {
          "addr": 0,
          "city": 1,
          "level_0": 25,
          "level_1": 7,
          "name": 0
         },
         {
          "addr": 0,
          "city": 1,
          "level_0": 25,
          "level_1": 12,
          "name": 0
         },
         {
          "addr": 0,
          "city": 1,
          "level_0": 25,
          "level_1": 20,
          "name": 0
         },
         {
          "addr": 0,
          "city": 1,
          "level_0": 25,
          "level_1": 27,
          "name": 0
         },
         {
          "addr": 1,
          "city": 1,
          "level_0": 25,
          "level_1": 47,
          "name": 0
         },
         {
          "addr": 0,
          "city": 1,
          "level_0": 25,
          "level_1": 55,
          "name": 0
         },
         {
          "addr": 0,
          "city": 1,
          "level_0": 25,
          "level_1": 57,
          "name": 0
         },
         {
          "addr": 0,
          "city": 1,
          "level_0": 25,
          "level_1": 67,
          "name": 0
         },
         {
          "addr": 1,
          "city": 1,
          "level_0": 25,
          "level_1": 71,
          "name": 0
         },
         {
          "addr": 0,
          "city": 1,
          "level_0": 26,
          "level_1": 7,
          "name": 0
         },
         {
          "addr": 0,
          "city": 1,
          "level_0": 26,
          "level_1": 12,
          "name": 0
         },
         {
          "addr": 0,
          "city": 1,
          "level_0": 26,
          "level_1": 20,
          "name": 0
         },
         {
          "addr": 0,
          "city": 1,
          "level_0": 26,
          "level_1": 27,
          "name": 0
         },
         {
          "addr": 0,
          "city": 1,
          "level_0": 26,
          "level_1": 47,
          "name": 0
         },
         {
          "addr": 0,
          "city": 1,
          "level_0": 26,
          "level_1": 55,
          "name": 0
         },
         {
          "addr": 0,
          "city": 1,
          "level_0": 26,
          "level_1": 57,
          "name": 0
         },
         {
          "addr": 0,
          "city": 1,
          "level_0": 26,
          "level_1": 67,
          "name": 0
         },
         {
          "addr": 0,
          "city": 1,
          "level_0": 26,
          "level_1": 71,
          "name": 0
         },
         {
          "addr": 0,
          "city": 1,
          "level_0": 27,
          "level_1": 7,
          "name": 0
         },
         {
          "addr": 0,
          "city": 1,
          "level_0": 27,
          "level_1": 12,
          "name": 0
         },
         {
          "addr": 0,
          "city": 1,
          "level_0": 27,
          "level_1": 20,
          "name": 0
         },
         {
          "addr": 0,
          "city": 1,
          "level_0": 27,
          "level_1": 27,
          "name": 0
         },
         {
          "addr": 0,
          "city": 1,
          "level_0": 27,
          "level_1": 47,
          "name": 0
         },
         {
          "addr": 0,
          "city": 1,
          "level_0": 27,
          "level_1": 55,
          "name": 0
         },
         {
          "addr": 0,
          "city": 1,
          "level_0": 27,
          "level_1": 57,
          "name": 0
         },
         {
          "addr": 0,
          "city": 1,
          "level_0": 27,
          "level_1": 67,
          "name": 0
         },
         {
          "addr": 0,
          "city": 1,
          "level_0": 27,
          "level_1": 71,
          "name": 0
         },
         {
          "addr": 0,
          "city": 1,
          "level_0": 28,
          "level_1": 7,
          "name": 0
         },
         {
          "addr": 0,
          "city": 1,
          "level_0": 28,
          "level_1": 12,
          "name": 0
         },
         {
          "addr": 0,
          "city": 1,
          "level_0": 28,
          "level_1": 20,
          "name": 0
         },
         {
          "addr": 0,
          "city": 1,
          "level_0": 28,
          "level_1": 27,
          "name": 0
         },
         {
          "addr": 0,
          "city": 1,
          "level_0": 28,
          "level_1": 47,
          "name": 0
         },
         {
          "addr": 0,
          "city": 1,
          "level_0": 28,
          "level_1": 55,
          "name": 0
         },
         {
          "addr": 0,
          "city": 1,
          "level_0": 28,
          "level_1": 57,
          "name": 0
         },
         {
          "addr": 0,
          "city": 1,
          "level_0": 28,
          "level_1": 67,
          "name": 0
         },
         {
          "addr": 0,
          "city": 1,
          "level_0": 28,
          "level_1": 71,
          "name": 0
         },
         {
          "addr": 0,
          "city": 1,
          "level_0": 30,
          "level_1": 7,
          "name": 0
         },
         {
          "addr": 0,
          "city": 1,
          "level_0": 30,
          "level_1": 12,
          "name": 0
         },
         {
          "addr": 0,
          "city": 1,
          "level_0": 30,
          "level_1": 20,
          "name": 0
         },
         {
          "addr": 0,
          "city": 1,
          "level_0": 30,
          "level_1": 27,
          "name": 0
         },
         {
          "addr": 0,
          "city": 1,
          "level_0": 30,
          "level_1": 47,
          "name": 0
         },
         {
          "addr": 0,
          "city": 1,
          "level_0": 30,
          "level_1": 55,
          "name": 0
         },
         {
          "addr": 0,
          "city": 1,
          "level_0": 30,
          "level_1": 57,
          "name": 0
         },
         {
          "addr": 0,
          "city": 1,
          "level_0": 30,
          "level_1": 67,
          "name": 0
         },
         {
          "addr": 0,
          "city": 1,
          "level_0": 30,
          "level_1": 71,
          "name": 0
         },
         {
          "addr": 0,
          "city": 1,
          "level_0": 31,
          "level_1": 7,
          "name": 0
         },
         {
          "addr": 0,
          "city": 1,
          "level_0": 31,
          "level_1": 12,
          "name": 0
         },
         {
          "addr": 0,
          "city": 1,
          "level_0": 31,
          "level_1": 20,
          "name": 0
         },
         {
          "addr": 0,
          "city": 1,
          "level_0": 31,
          "level_1": 27,
          "name": 0
         },
         {
          "addr": 0,
          "city": 1,
          "level_0": 31,
          "level_1": 47,
          "name": 0
         },
         {
          "addr": 0,
          "city": 1,
          "level_0": 31,
          "level_1": 55,
          "name": 0
         },
         {
          "addr": 0,
          "city": 1,
          "level_0": 31,
          "level_1": 57,
          "name": 0
         },
         {
          "addr": 0,
          "city": 1,
          "level_0": 31,
          "level_1": 67,
          "name": 0
         },
         {
          "addr": 0,
          "city": 1,
          "level_0": 31,
          "level_1": 71,
          "name": 0
         },
         {
          "addr": 0,
          "city": 1,
          "level_0": 32,
          "level_1": 7,
          "name": 0
         },
         {
          "addr": 0,
          "city": 1,
          "level_0": 32,
          "level_1": 12,
          "name": 0
         },
         {
          "addr": 0,
          "city": 1,
          "level_0": 32,
          "level_1": 20,
          "name": 0
         },
         {
          "addr": 0,
          "city": 1,
          "level_0": 32,
          "level_1": 27,
          "name": 0
         },
         {
          "addr": 0,
          "city": 1,
          "level_0": 32,
          "level_1": 47,
          "name": 0
         },
         {
          "addr": 0,
          "city": 1,
          "level_0": 32,
          "level_1": 55,
          "name": 0
         },
         {
          "addr": 0,
          "city": 1,
          "level_0": 32,
          "level_1": 57,
          "name": 0
         },
         {
          "addr": 0,
          "city": 1,
          "level_0": 32,
          "level_1": 67,
          "name": 0
         },
         {
          "addr": 0,
          "city": 1,
          "level_0": 32,
          "level_1": 71,
          "name": 0
         },
         {
          "addr": 0,
          "city": 1,
          "level_0": 33,
          "level_1": 7,
          "name": 0
         },
         {
          "addr": 0,
          "city": 1,
          "level_0": 33,
          "level_1": 12,
          "name": 0
         },
         {
          "addr": 0,
          "city": 1,
          "level_0": 33,
          "level_1": 20,
          "name": 0
         },
         {
          "addr": 0,
          "city": 1,
          "level_0": 33,
          "level_1": 27,
          "name": 0
         },
         {
          "addr": 0,
          "city": 1,
          "level_0": 33,
          "level_1": 47,
          "name": 0
         },
         {
          "addr": 0,
          "city": 1,
          "level_0": 33,
          "level_1": 55,
          "name": 0
         },
         {
          "addr": 0,
          "city": 1,
          "level_0": 33,
          "level_1": 57,
          "name": 0
         },
         {
          "addr": 0,
          "city": 1,
          "level_0": 33,
          "level_1": 67,
          "name": 0
         },
         {
          "addr": 0,
          "city": 1,
          "level_0": 33,
          "level_1": 71,
          "name": 0
         },
         {
          "addr": 0,
          "city": 1,
          "level_0": 34,
          "level_1": 7,
          "name": 0
         },
         {
          "addr": 0,
          "city": 1,
          "level_0": 34,
          "level_1": 12,
          "name": 0
         },
         {
          "addr": 0,
          "city": 1,
          "level_0": 34,
          "level_1": 20,
          "name": 0
         },
         {
          "addr": 0,
          "city": 1,
          "level_0": 34,
          "level_1": 27,
          "name": 0
         },
         {
          "addr": 0,
          "city": 1,
          "level_0": 34,
          "level_1": 47,
          "name": 0
         },
         {
          "addr": 0,
          "city": 1,
          "level_0": 34,
          "level_1": 55,
          "name": 0
         },
         {
          "addr": 0,
          "city": 1,
          "level_0": 34,
          "level_1": 57,
          "name": 0
         },
         {
          "addr": 0,
          "city": 1,
          "level_0": 34,
          "level_1": 67,
          "name": 0
         },
         {
          "addr": 0,
          "city": 1,
          "level_0": 34,
          "level_1": 71,
          "name": 0
         },
         {
          "addr": 0,
          "city": 1,
          "level_0": 35,
          "level_1": 7,
          "name": 0
         },
         {
          "addr": 0,
          "city": 1,
          "level_0": 35,
          "level_1": 12,
          "name": 0
         },
         {
          "addr": 0,
          "city": 1,
          "level_0": 35,
          "level_1": 20,
          "name": 0
         },
         {
          "addr": 0,
          "city": 1,
          "level_0": 35,
          "level_1": 27,
          "name": 0
         },
         {
          "addr": 0,
          "city": 1,
          "level_0": 35,
          "level_1": 47,
          "name": 0
         },
         {
          "addr": 0,
          "city": 1,
          "level_0": 35,
          "level_1": 55,
          "name": 0
         },
         {
          "addr": 0,
          "city": 1,
          "level_0": 35,
          "level_1": 57,
          "name": 0
         },
         {
          "addr": 0,
          "city": 1,
          "level_0": 35,
          "level_1": 67,
          "name": 0
         },
         {
          "addr": 0,
          "city": 1,
          "level_0": 35,
          "level_1": 71,
          "name": 0
         },
         {
          "addr": 0,
          "city": 1,
          "level_0": 36,
          "level_1": 7,
          "name": 0
         },
         {
          "addr": 0,
          "city": 1,
          "level_0": 36,
          "level_1": 12,
          "name": 0
         },
         {
          "addr": 0,
          "city": 1,
          "level_0": 36,
          "level_1": 20,
          "name": 0
         },
         {
          "addr": 1,
          "city": 1,
          "level_0": 36,
          "level_1": 27,
          "name": 0
         },
         {
          "addr": 0,
          "city": 1,
          "level_0": 36,
          "level_1": 47,
          "name": 0
         },
         {
          "addr": 0,
          "city": 1,
          "level_0": 36,
          "level_1": 55,
          "name": 0
         },
         {
          "addr": 0,
          "city": 1,
          "level_0": 36,
          "level_1": 57,
          "name": 0
         },
         {
          "addr": 0,
          "city": 1,
          "level_0": 36,
          "level_1": 67,
          "name": 0
         },
         {
          "addr": 0,
          "city": 1,
          "level_0": 36,
          "level_1": 71,
          "name": 0
         },
         {
          "addr": 0,
          "city": 1,
          "level_0": 37,
          "level_1": 7,
          "name": 0
         },
         {
          "addr": 0,
          "city": 1,
          "level_0": 37,
          "level_1": 12,
          "name": 0
         },
         {
          "addr": 0,
          "city": 1,
          "level_0": 37,
          "level_1": 20,
          "name": 0
         },
         {
          "addr": 0,
          "city": 1,
          "level_0": 37,
          "level_1": 27,
          "name": 0
         },
         {
          "addr": 0,
          "city": 1,
          "level_0": 37,
          "level_1": 47,
          "name": 0
         },
         {
          "addr": 0,
          "city": 1,
          "level_0": 37,
          "level_1": 55,
          "name": 0
         },
         {
          "addr": 0,
          "city": 1,
          "level_0": 37,
          "level_1": 57,
          "name": 0
         },
         {
          "addr": 0,
          "city": 1,
          "level_0": 37,
          "level_1": 67,
          "name": 0
         },
         {
          "addr": 0,
          "city": 1,
          "level_0": 37,
          "level_1": 71,
          "name": 0
         },
         {
          "addr": 0,
          "city": 1,
          "level_0": 58,
          "level_1": 7,
          "name": 0
         },
         {
          "addr": 0,
          "city": 1,
          "level_0": 58,
          "level_1": 12,
          "name": 0
         },
         {
          "addr": 0,
          "city": 1,
          "level_0": 58,
          "level_1": 20,
          "name": 0
         },
         {
          "addr": 0,
          "city": 1,
          "level_0": 58,
          "level_1": 27,
          "name": 0
         },
         {
          "addr": 0,
          "city": 1,
          "level_0": 58,
          "level_1": 47,
          "name": 0
         },
         {
          "addr": 1,
          "city": 1,
          "level_0": 58,
          "level_1": 55,
          "name": 0
         },
         {
          "addr": 0,
          "city": 1,
          "level_0": 58,
          "level_1": 57,
          "name": 0
         },
         {
          "addr": 0,
          "city": 1,
          "level_0": 58,
          "level_1": 67,
          "name": 0
         },
         {
          "addr": 0,
          "city": 1,
          "level_0": 58,
          "level_1": 71,
          "name": 0
         },
         {
          "addr": 0,
          "city": 1,
          "level_0": 59,
          "level_1": 7,
          "name": 0
         },
         {
          "addr": 0,
          "city": 1,
          "level_0": 59,
          "level_1": 12,
          "name": 0
         },
         {
          "addr": 0,
          "city": 1,
          "level_0": 59,
          "level_1": 20,
          "name": 0
         },
         {
          "addr": 0,
          "city": 1,
          "level_0": 59,
          "level_1": 27,
          "name": 0
         },
         {
          "addr": 0,
          "city": 1,
          "level_0": 59,
          "level_1": 47,
          "name": 0
         },
         {
          "addr": 0,
          "city": 1,
          "level_0": 59,
          "level_1": 55,
          "name": 0
         },
         {
          "addr": 0,
          "city": 1,
          "level_0": 59,
          "level_1": 57,
          "name": 0
         },
         {
          "addr": 0,
          "city": 1,
          "level_0": 59,
          "level_1": 67,
          "name": 0
         },
         {
          "addr": 0,
          "city": 1,
          "level_0": 59,
          "level_1": 71,
          "name": 0
         },
         {
          "addr": 0,
          "city": 1,
          "level_0": 101,
          "level_1": 7,
          "name": 0
         },
         {
          "addr": 0,
          "city": 1,
          "level_0": 101,
          "level_1": 12,
          "name": 0
         },
         {
          "addr": 0,
          "city": 1,
          "level_0": 101,
          "level_1": 20,
          "name": 0
         },
         {
          "addr": 0,
          "city": 1,
          "level_0": 101,
          "level_1": 27,
          "name": 0
         },
         {
          "addr": 0,
          "city": 1,
          "level_0": 101,
          "level_1": 47,
          "name": 0
         },
         {
          "addr": 0,
          "city": 1,
          "level_0": 101,
          "level_1": 55,
          "name": 0
         },
         {
          "addr": 0,
          "city": 1,
          "level_0": 101,
          "level_1": 57,
          "name": 0
         },
         {
          "addr": 0,
          "city": 1,
          "level_0": 101,
          "level_1": 67,
          "name": 0
         },
         {
          "addr": 0,
          "city": 1,
          "level_0": 101,
          "level_1": 71,
          "name": 0
         },
         {
          "addr": 0,
          "city": 1,
          "level_0": 102,
          "level_1": 7,
          "name": 0
         },
         {
          "addr": 0,
          "city": 1,
          "level_0": 102,
          "level_1": 12,
          "name": 0
         },
         {
          "addr": 0,
          "city": 1,
          "level_0": 102,
          "level_1": 20,
          "name": 0
         },
         {
          "addr": 0,
          "city": 1,
          "level_0": 102,
          "level_1": 27,
          "name": 0
         },
         {
          "addr": 0,
          "city": 1,
          "level_0": 102,
          "level_1": 47,
          "name": 0
         },
         {
          "addr": 0,
          "city": 1,
          "level_0": 102,
          "level_1": 55,
          "name": 0
         },
         {
          "addr": 0,
          "city": 1,
          "level_0": 102,
          "level_1": 57,
          "name": 0
         },
         {
          "addr": 0,
          "city": 1,
          "level_0": 102,
          "level_1": 67,
          "name": 0
         },
         {
          "addr": 0,
          "city": 1,
          "level_0": 102,
          "level_1": 71,
          "name": 0
         },
         {
          "addr": 0,
          "city": 1,
          "level_0": 103,
          "level_1": 7,
          "name": 0
         },
         {
          "addr": 0,
          "city": 1,
          "level_0": 103,
          "level_1": 12,
          "name": 0
         },
         {
          "addr": 0,
          "city": 1,
          "level_0": 103,
          "level_1": 20,
          "name": 0
         },
         {
          "addr": 0,
          "city": 1,
          "level_0": 103,
          "level_1": 27,
          "name": 0
         },
         {
          "addr": 0,
          "city": 1,
          "level_0": 103,
          "level_1": 47,
          "name": 0
         },
         {
          "addr": 0,
          "city": 1,
          "level_0": 103,
          "level_1": 55,
          "name": 0
         },
         {
          "addr": 0,
          "city": 1,
          "level_0": 103,
          "level_1": 57,
          "name": 0
         },
         {
          "addr": 0,
          "city": 1,
          "level_0": 103,
          "level_1": 67,
          "name": 0
         },
         {
          "addr": 0,
          "city": 1,
          "level_0": 103,
          "level_1": 71,
          "name": 0
         },
         {
          "addr": 0,
          "city": 1,
          "level_0": 104,
          "level_1": 7,
          "name": 0
         },
         {
          "addr": 0,
          "city": 1,
          "level_0": 104,
          "level_1": 12,
          "name": 0
         },
         {
          "addr": 0,
          "city": 1,
          "level_0": 104,
          "level_1": 20,
          "name": 0
         },
         {
          "addr": 0,
          "city": 1,
          "level_0": 104,
          "level_1": 27,
          "name": 0
         },
         {
          "addr": 0,
          "city": 1,
          "level_0": 104,
          "level_1": 47,
          "name": 0
         },
         {
          "addr": 0,
          "city": 1,
          "level_0": 104,
          "level_1": 55,
          "name": 0
         },
         {
          "addr": 0,
          "city": 1,
          "level_0": 104,
          "level_1": 57,
          "name": 0
         },
         {
          "addr": 0,
          "city": 1,
          "level_0": 104,
          "level_1": 67,
          "name": 0
         },
         {
          "addr": 0,
          "city": 1,
          "level_0": 104,
          "level_1": 71,
          "name": 0
         },
         {
          "addr": 0,
          "city": 1,
          "level_0": 105,
          "level_1": 7,
          "name": 0
         },
         {
          "addr": 0,
          "city": 1,
          "level_0": 105,
          "level_1": 12,
          "name": 0
         },
         {
          "addr": 0,
          "city": 1,
          "level_0": 105,
          "level_1": 20,
          "name": 0
         },
         {
          "addr": 0,
          "city": 1,
          "level_0": 105,
          "level_1": 27,
          "name": 0
         },
         {
          "addr": 0,
          "city": 1,
          "level_0": 105,
          "level_1": 47,
          "name": 0
         },
         {
          "addr": 0,
          "city": 1,
          "level_0": 105,
          "level_1": 55,
          "name": 0
         },
         {
          "addr": 0,
          "city": 1,
          "level_0": 105,
          "level_1": 57,
          "name": 0
         },
         {
          "addr": 0,
          "city": 1,
          "level_0": 105,
          "level_1": 67,
          "name": 0
         },
         {
          "addr": 0,
          "city": 1,
          "level_0": 105,
          "level_1": 71,
          "name": 0
         },
         {
          "addr": 0,
          "city": 1,
          "level_0": 106,
          "level_1": 7,
          "name": 0
         },
         {
          "addr": 0,
          "city": 1,
          "level_0": 106,
          "level_1": 12,
          "name": 0
         },
         {
          "addr": 0,
          "city": 1,
          "level_0": 106,
          "level_1": 20,
          "name": 0
         },
         {
          "addr": 0,
          "city": 1,
          "level_0": 106,
          "level_1": 27,
          "name": 0
         },
         {
          "addr": 0,
          "city": 1,
          "level_0": 106,
          "level_1": 47,
          "name": 0
         },
         {
          "addr": 0,
          "city": 1,
          "level_0": 106,
          "level_1": 55,
          "name": 0
         },
         {
          "addr": 0,
          "city": 1,
          "level_0": 106,
          "level_1": 57,
          "name": 0
         },
         {
          "addr": 0,
          "city": 1,
          "level_0": 106,
          "level_1": 67,
          "name": 0
         },
         {
          "addr": 0,
          "city": 1,
          "level_0": 106,
          "level_1": 71,
          "name": 0
         },
         {
          "addr": 0,
          "city": 1,
          "level_0": 107,
          "level_1": 7,
          "name": 0
         },
         {
          "addr": 0,
          "city": 1,
          "level_0": 107,
          "level_1": 12,
          "name": 0
         },
         {
          "addr": 0,
          "city": 1,
          "level_0": 107,
          "level_1": 20,
          "name": 0
         },
         {
          "addr": 0,
          "city": 1,
          "level_0": 107,
          "level_1": 27,
          "name": 0
         },
         {
          "addr": 0,
          "city": 1,
          "level_0": 107,
          "level_1": 47,
          "name": 0
         },
         {
          "addr": 0,
          "city": 1,
          "level_0": 107,
          "level_1": 55,
          "name": 0
         },
         {
          "addr": 0,
          "city": 1,
          "level_0": 107,
          "level_1": 57,
          "name": 0
         },
         {
          "addr": 0,
          "city": 1,
          "level_0": 107,
          "level_1": 67,
          "name": 0
         },
         {
          "addr": 0,
          "city": 1,
          "level_0": 107,
          "level_1": 71,
          "name": 0
         },
         {
          "addr": 0,
          "city": 1,
          "level_0": 108,
          "level_1": 7,
          "name": 0
         },
         {
          "addr": 0,
          "city": 1,
          "level_0": 108,
          "level_1": 12,
          "name": 0
         },
         {
          "addr": 0,
          "city": 1,
          "level_0": 108,
          "level_1": 20,
          "name": 0
         },
         {
          "addr": 0,
          "city": 1,
          "level_0": 108,
          "level_1": 27,
          "name": 0
         },
         {
          "addr": 0,
          "city": 1,
          "level_0": 108,
          "level_1": 47,
          "name": 0
         },
         {
          "addr": 0,
          "city": 1,
          "level_0": 108,
          "level_1": 55,
          "name": 0
         },
         {
          "addr": 0,
          "city": 1,
          "level_0": 108,
          "level_1": 57,
          "name": 0
         },
         {
          "addr": 0,
          "city": 1,
          "level_0": 108,
          "level_1": 67,
          "name": 0
         },
         {
          "addr": 0,
          "city": 1,
          "level_0": 108,
          "level_1": 71,
          "name": 0
         },
         {
          "addr": 0,
          "city": 1,
          "level_0": 109,
          "level_1": 7,
          "name": 0
         },
         {
          "addr": 0,
          "city": 1,
          "level_0": 109,
          "level_1": 12,
          "name": 0
         },
         {
          "addr": 0,
          "city": 1,
          "level_0": 109,
          "level_1": 20,
          "name": 0
         },
         {
          "addr": 0,
          "city": 1,
          "level_0": 109,
          "level_1": 27,
          "name": 0
         },
         {
          "addr": 0,
          "city": 1,
          "level_0": 109,
          "level_1": 47,
          "name": 0
         },
         {
          "addr": 0,
          "city": 1,
          "level_0": 109,
          "level_1": 55,
          "name": 0
         },
         {
          "addr": 0,
          "city": 1,
          "level_0": 109,
          "level_1": 57,
          "name": 0
         },
         {
          "addr": 0,
          "city": 1,
          "level_0": 109,
          "level_1": 67,
          "name": 0
         },
         {
          "addr": 0,
          "city": 1,
          "level_0": 109,
          "level_1": 71,
          "name": 0
         },
         {
          "addr": 0,
          "city": 1,
          "level_0": 110,
          "level_1": 7,
          "name": 0
         },
         {
          "addr": 0,
          "city": 1,
          "level_0": 110,
          "level_1": 12,
          "name": 0
         },
         {
          "addr": 0,
          "city": 1,
          "level_0": 110,
          "level_1": 20,
          "name": 0
         },
         {
          "addr": 0,
          "city": 1,
          "level_0": 110,
          "level_1": 27,
          "name": 0
         },
         {
          "addr": 0,
          "city": 1,
          "level_0": 110,
          "level_1": 47,
          "name": 0
         },
         {
          "addr": 0,
          "city": 1,
          "level_0": 110,
          "level_1": 55,
          "name": 0
         },
         {
          "addr": 0,
          "city": 1,
          "level_0": 110,
          "level_1": 57,
          "name": 0
         },
         {
          "addr": 0,
          "city": 1,
          "level_0": 110,
          "level_1": 67,
          "name": 0
         },
         {
          "addr": 0,
          "city": 1,
          "level_0": 110,
          "level_1": 71,
          "name": 0
         },
         {
          "addr": 0,
          "city": 1,
          "level_0": 111,
          "level_1": 7,
          "name": 0
         },
         {
          "addr": 0,
          "city": 1,
          "level_0": 111,
          "level_1": 12,
          "name": 0
         },
         {
          "addr": 0,
          "city": 1,
          "level_0": 111,
          "level_1": 20,
          "name": 0
         },
         {
          "addr": 0,
          "city": 1,
          "level_0": 111,
          "level_1": 27,
          "name": 0
         },
         {
          "addr": 0,
          "city": 1,
          "level_0": 111,
          "level_1": 47,
          "name": 0
         },
         {
          "addr": 0,
          "city": 1,
          "level_0": 111,
          "level_1": 55,
          "name": 0
         },
         {
          "addr": 0,
          "city": 1,
          "level_0": 111,
          "level_1": 57,
          "name": 0
         },
         {
          "addr": 0,
          "city": 1,
          "level_0": 111,
          "level_1": 67,
          "name": 0
         },
         {
          "addr": 0,
          "city": 1,
          "level_0": 111,
          "level_1": 71,
          "name": 0
         },
         {
          "addr": 0,
          "city": 1,
          "level_0": 112,
          "level_1": 7,
          "name": 0
         },
         {
          "addr": 0,
          "city": 1,
          "level_0": 112,
          "level_1": 12,
          "name": 0
         },
         {
          "addr": 0,
          "city": 1,
          "level_0": 112,
          "level_1": 20,
          "name": 0
         },
         {
          "addr": 0,
          "city": 1,
          "level_0": 112,
          "level_1": 27,
          "name": 0
         },
         {
          "addr": 0,
          "city": 1,
          "level_0": 112,
          "level_1": 47,
          "name": 0
         },
         {
          "addr": 0,
          "city": 1,
          "level_0": 112,
          "level_1": 55,
          "name": 0
         },
         {
          "addr": 0,
          "city": 1,
          "level_0": 112,
          "level_1": 57,
          "name": 0
         },
         {
          "addr": 0,
          "city": 1,
          "level_0": 112,
          "level_1": 67,
          "name": 0
         },
         {
          "addr": 0,
          "city": 1,
          "level_0": 112,
          "level_1": 71,
          "name": 0
         },
         {
          "addr": 1,
          "city": 1,
          "level_0": 113,
          "level_1": 7,
          "name": 0
         },
         {
          "addr": 0,
          "city": 1,
          "level_0": 113,
          "level_1": 12,
          "name": 0
         },
         {
          "addr": 0,
          "city": 1,
          "level_0": 113,
          "level_1": 20,
          "name": 0
         },
         {
          "addr": 0,
          "city": 1,
          "level_0": 113,
          "level_1": 27,
          "name": 0
         },
         {
          "addr": 0,
          "city": 1,
          "level_0": 113,
          "level_1": 47,
          "name": 0
         },
         {
          "addr": 0,
          "city": 1,
          "level_0": 113,
          "level_1": 55,
          "name": 0
         },
         {
          "addr": 0,
          "city": 1,
          "level_0": 113,
          "level_1": 57,
          "name": 0
         },
         {
          "addr": 0,
          "city": 1,
          "level_0": 113,
          "level_1": 67,
          "name": 0
         },
         {
          "addr": 0,
          "city": 1,
          "level_0": 113,
          "level_1": 71,
          "name": 0
         },
         {
          "addr": 0,
          "city": 1,
          "level_0": 114,
          "level_1": 7,
          "name": 0
         },
         {
          "addr": 0,
          "city": 1,
          "level_0": 114,
          "level_1": 12,
          "name": 0
         },
         {
          "addr": 0,
          "city": 1,
          "level_0": 114,
          "level_1": 20,
          "name": 0
         },
         {
          "addr": 0,
          "city": 1,
          "level_0": 114,
          "level_1": 27,
          "name": 0
         },
         {
          "addr": 0,
          "city": 1,
          "level_0": 114,
          "level_1": 47,
          "name": 0
         },
         {
          "addr": 0,
          "city": 1,
          "level_0": 114,
          "level_1": 55,
          "name": 0
         },
         {
          "addr": 0,
          "city": 1,
          "level_0": 114,
          "level_1": 57,
          "name": 0
         },
         {
          "addr": 0,
          "city": 1,
          "level_0": 114,
          "level_1": 67,
          "name": 0
         },
         {
          "addr": 0,
          "city": 1,
          "level_0": 114,
          "level_1": 71,
          "name": 0
         },
         {
          "addr": 0,
          "city": 1,
          "level_0": 115,
          "level_1": 7,
          "name": 0
         },
         {
          "addr": 0,
          "city": 1,
          "level_0": 115,
          "level_1": 12,
          "name": 0
         },
         {
          "addr": 0,
          "city": 1,
          "level_0": 115,
          "level_1": 20,
          "name": 0
         },
         {
          "addr": 0,
          "city": 1,
          "level_0": 115,
          "level_1": 27,
          "name": 0
         },
         {
          "addr": 0,
          "city": 1,
          "level_0": 115,
          "level_1": 47,
          "name": 0
         },
         {
          "addr": 0,
          "city": 1,
          "level_0": 115,
          "level_1": 55,
          "name": 0
         },
         {
          "addr": 0,
          "city": 1,
          "level_0": 115,
          "level_1": 57,
          "name": 0
         },
         {
          "addr": 0,
          "city": 1,
          "level_0": 115,
          "level_1": 67,
          "name": 0
         },
         {
          "addr": 0,
          "city": 1,
          "level_0": 115,
          "level_1": 71,
          "name": 0
         },
         {
          "addr": 0,
          "city": 1,
          "level_0": 116,
          "level_1": 7,
          "name": 0
         },
         {
          "addr": 0,
          "city": 1,
          "level_0": 116,
          "level_1": 12,
          "name": 0
         },
         {
          "addr": 0,
          "city": 1,
          "level_0": 116,
          "level_1": 20,
          "name": 0
         },
         {
          "addr": 0,
          "city": 1,
          "level_0": 116,
          "level_1": 27,
          "name": 0
         },
         {
          "addr": 0,
          "city": 1,
          "level_0": 116,
          "level_1": 47,
          "name": 0
         },
         {
          "addr": 0,
          "city": 1,
          "level_0": 116,
          "level_1": 55,
          "name": 0
         },
         {
          "addr": 0,
          "city": 1,
          "level_0": 116,
          "level_1": 57,
          "name": 0
         },
         {
          "addr": 0,
          "city": 1,
          "level_0": 116,
          "level_1": 67,
          "name": 0
         },
         {
          "addr": 0,
          "city": 1,
          "level_0": 116,
          "level_1": 71,
          "name": 0
         },
         {
          "addr": 0,
          "city": 1,
          "level_0": 117,
          "level_1": 7,
          "name": 0
         },
         {
          "addr": 0,
          "city": 1,
          "level_0": 117,
          "level_1": 12,
          "name": 0
         },
         {
          "addr": 0,
          "city": 1,
          "level_0": 117,
          "level_1": 20,
          "name": 0
         },
         {
          "addr": 0,
          "city": 1,
          "level_0": 117,
          "level_1": 27,
          "name": 0
         },
         {
          "addr": 0,
          "city": 1,
          "level_0": 117,
          "level_1": 47,
          "name": 0
         },
         {
          "addr": 0,
          "city": 1,
          "level_0": 117,
          "level_1": 55,
          "name": 0
         },
         {
          "addr": 0,
          "city": 1,
          "level_0": 117,
          "level_1": 57,
          "name": 0
         },
         {
          "addr": 0,
          "city": 1,
          "level_0": 117,
          "level_1": 67,
          "name": 0
         },
         {
          "addr": 0,
          "city": 1,
          "level_0": 117,
          "level_1": 71,
          "name": 0
         },
         {
          "addr": 0,
          "city": 1,
          "level_0": 118,
          "level_1": 7,
          "name": 0
         },
         {
          "addr": 0,
          "city": 1,
          "level_0": 118,
          "level_1": 12,
          "name": 0
         },
         {
          "addr": 0,
          "city": 1,
          "level_0": 118,
          "level_1": 20,
          "name": 0
         },
         {
          "addr": 0,
          "city": 1,
          "level_0": 118,
          "level_1": 27,
          "name": 0
         },
         {
          "addr": 1,
          "city": 1,
          "level_0": 118,
          "level_1": 47,
          "name": 0
         },
         {
          "addr": 0,
          "city": 1,
          "level_0": 118,
          "level_1": 55,
          "name": 0
         },
         {
          "addr": 0,
          "city": 1,
          "level_0": 118,
          "level_1": 57,
          "name": 0
         },
         {
          "addr": 0,
          "city": 1,
          "level_0": 118,
          "level_1": 67,
          "name": 0
         },
         {
          "addr": 1,
          "city": 1,
          "level_0": 118,
          "level_1": 71,
          "name": 0
         },
         {
          "addr": 0,
          "city": 1,
          "level_0": 119,
          "level_1": 7,
          "name": 0
         },
         {
          "addr": 0,
          "city": 1,
          "level_0": 119,
          "level_1": 12,
          "name": 0
         },
         {
          "addr": 0,
          "city": 1,
          "level_0": 119,
          "level_1": 20,
          "name": 0
         },
         {
          "addr": 0,
          "city": 1,
          "level_0": 119,
          "level_1": 27,
          "name": 0
         },
         {
          "addr": 0,
          "city": 1,
          "level_0": 119,
          "level_1": 47,
          "name": 0
         },
         {
          "addr": 0,
          "city": 1,
          "level_0": 119,
          "level_1": 55,
          "name": 0
         },
         {
          "addr": 0,
          "city": 1,
          "level_0": 119,
          "level_1": 57,
          "name": 0
         },
         {
          "addr": 0,
          "city": 1,
          "level_0": 119,
          "level_1": 67,
          "name": 0
         },
         {
          "addr": 0,
          "city": 1,
          "level_0": 119,
          "level_1": 71,
          "name": 0
         },
         {
          "addr": 0,
          "city": 1,
          "level_0": 120,
          "level_1": 7,
          "name": 0
         },
         {
          "addr": 0,
          "city": 1,
          "level_0": 120,
          "level_1": 12,
          "name": 0
         },
         {
          "addr": 0,
          "city": 1,
          "level_0": 120,
          "level_1": 20,
          "name": 0
         },
         {
          "addr": 0,
          "city": 1,
          "level_0": 120,
          "level_1": 27,
          "name": 0
         },
         {
          "addr": 0,
          "city": 1,
          "level_0": 120,
          "level_1": 47,
          "name": 0
         },
         {
          "addr": 0,
          "city": 1,
          "level_0": 120,
          "level_1": 55,
          "name": 0
         },
         {
          "addr": 0,
          "city": 1,
          "level_0": 120,
          "level_1": 57,
          "name": 0
         },
         {
          "addr": 0,
          "city": 1,
          "level_0": 120,
          "level_1": 67,
          "name": 0
         },
         {
          "addr": 0,
          "city": 1,
          "level_0": 120,
          "level_1": 71,
          "name": 0
         },
         {
          "addr": 0,
          "city": 1,
          "level_0": 121,
          "level_1": 7,
          "name": 0
         },
         {
          "addr": 0,
          "city": 1,
          "level_0": 121,
          "level_1": 12,
          "name": 0
         },
         {
          "addr": 0,
          "city": 1,
          "level_0": 121,
          "level_1": 20,
          "name": 0
         },
         {
          "addr": 0,
          "city": 1,
          "level_0": 121,
          "level_1": 27,
          "name": 0
         },
         {
          "addr": 0,
          "city": 1,
          "level_0": 121,
          "level_1": 47,
          "name": 0
         },
         {
          "addr": 0,
          "city": 1,
          "level_0": 121,
          "level_1": 55,
          "name": 0
         },
         {
          "addr": 0,
          "city": 1,
          "level_0": 121,
          "level_1": 57,
          "name": 0
         },
         {
          "addr": 0,
          "city": 1,
          "level_0": 121,
          "level_1": 67,
          "name": 0
         },
         {
          "addr": 0,
          "city": 1,
          "level_0": 121,
          "level_1": 71,
          "name": 0
         },
         {
          "addr": 0,
          "city": 1,
          "level_0": 122,
          "level_1": 7,
          "name": 0
         },
         {
          "addr": 0,
          "city": 1,
          "level_0": 122,
          "level_1": 12,
          "name": 0
         },
         {
          "addr": 0,
          "city": 1,
          "level_0": 122,
          "level_1": 20,
          "name": 0
         },
         {
          "addr": 0,
          "city": 1,
          "level_0": 122,
          "level_1": 27,
          "name": 0
         },
         {
          "addr": 0,
          "city": 1,
          "level_0": 122,
          "level_1": 47,
          "name": 0
         },
         {
          "addr": 0,
          "city": 1,
          "level_0": 122,
          "level_1": 55,
          "name": 0
         },
         {
          "addr": 0,
          "city": 1,
          "level_0": 122,
          "level_1": 57,
          "name": 0
         },
         {
          "addr": 0,
          "city": 1,
          "level_0": 122,
          "level_1": 67,
          "name": 0
         },
         {
          "addr": 0,
          "city": 1,
          "level_0": 122,
          "level_1": 71,
          "name": 0
         },
         {
          "addr": 0,
          "city": 1,
          "level_0": 123,
          "level_1": 7,
          "name": 0
         },
         {
          "addr": 0,
          "city": 1,
          "level_0": 123,
          "level_1": 12,
          "name": 0
         },
         {
          "addr": 0,
          "city": 1,
          "level_0": 123,
          "level_1": 20,
          "name": 0
         },
         {
          "addr": 0,
          "city": 1,
          "level_0": 123,
          "level_1": 27,
          "name": 0
         },
         {
          "addr": 0,
          "city": 1,
          "level_0": 123,
          "level_1": 47,
          "name": 0
         },
         {
          "addr": 0,
          "city": 1,
          "level_0": 123,
          "level_1": 55,
          "name": 0
         },
         {
          "addr": 0,
          "city": 1,
          "level_0": 123,
          "level_1": 57,
          "name": 0
         },
         {
          "addr": 0,
          "city": 1,
          "level_0": 123,
          "level_1": 67,
          "name": 0
         },
         {
          "addr": 0,
          "city": 1,
          "level_0": 123,
          "level_1": 71,
          "name": 0
         },
         {
          "addr": 0,
          "city": 1,
          "level_0": 124,
          "level_1": 7,
          "name": 0
         },
         {
          "addr": 0,
          "city": 1,
          "level_0": 124,
          "level_1": 12,
          "name": 0
         },
         {
          "addr": 0,
          "city": 1,
          "level_0": 124,
          "level_1": 20,
          "name": 0
         },
         {
          "addr": 0,
          "city": 1,
          "level_0": 124,
          "level_1": 27,
          "name": 0
         },
         {
          "addr": 0,
          "city": 1,
          "level_0": 124,
          "level_1": 47,
          "name": 0
         },
         {
          "addr": 0,
          "city": 1,
          "level_0": 124,
          "level_1": 55,
          "name": 0
         },
         {
          "addr": 0,
          "city": 1,
          "level_0": 124,
          "level_1": 57,
          "name": 0
         },
         {
          "addr": 0,
          "city": 1,
          "level_0": 124,
          "level_1": 67,
          "name": 0
         },
         {
          "addr": 0,
          "city": 1,
          "level_0": 124,
          "level_1": 71,
          "name": 0
         },
         {
          "addr": 0,
          "city": 1,
          "level_0": 125,
          "level_1": 7,
          "name": 0
         },
         {
          "addr": 0,
          "city": 1,
          "level_0": 125,
          "level_1": 12,
          "name": 0
         },
         {
          "addr": 0,
          "city": 1,
          "level_0": 125,
          "level_1": 20,
          "name": 0
         },
         {
          "addr": 0,
          "city": 1,
          "level_0": 125,
          "level_1": 27,
          "name": 0
         },
         {
          "addr": 0,
          "city": 1,
          "level_0": 125,
          "level_1": 47,
          "name": 0
         },
         {
          "addr": 0,
          "city": 1,
          "level_0": 125,
          "level_1": 55,
          "name": 0
         },
         {
          "addr": 0,
          "city": 1,
          "level_0": 125,
          "level_1": 57,
          "name": 0
         },
         {
          "addr": 0,
          "city": 1,
          "level_0": 125,
          "level_1": 67,
          "name": 0
         },
         {
          "addr": 0,
          "city": 1,
          "level_0": 125,
          "level_1": 71,
          "name": 0
         },
         {
          "addr": 0,
          "city": 1,
          "level_0": 126,
          "level_1": 7,
          "name": 0
         },
         {
          "addr": 0,
          "city": 1,
          "level_0": 126,
          "level_1": 12,
          "name": 0
         },
         {
          "addr": 0,
          "city": 1,
          "level_0": 126,
          "level_1": 20,
          "name": 0
         },
         {
          "addr": 0,
          "city": 1,
          "level_0": 126,
          "level_1": 27,
          "name": 0
         },
         {
          "addr": 0,
          "city": 1,
          "level_0": 126,
          "level_1": 47,
          "name": 0
         },
         {
          "addr": 0,
          "city": 1,
          "level_0": 126,
          "level_1": 55,
          "name": 0
         },
         {
          "addr": 0,
          "city": 1,
          "level_0": 126,
          "level_1": 57,
          "name": 0
         },
         {
          "addr": 0,
          "city": 1,
          "level_0": 126,
          "level_1": 67,
          "name": 0
         },
         {
          "addr": 0,
          "city": 1,
          "level_0": 126,
          "level_1": 71,
          "name": 0
         },
         {
          "addr": 0,
          "city": 1,
          "level_0": 127,
          "level_1": 7,
          "name": 0
         },
         {
          "addr": 0,
          "city": 1,
          "level_0": 127,
          "level_1": 12,
          "name": 0
         },
         {
          "addr": 0,
          "city": 1,
          "level_0": 127,
          "level_1": 20,
          "name": 0
         },
         {
          "addr": 0,
          "city": 1,
          "level_0": 127,
          "level_1": 27,
          "name": 0
         },
         {
          "addr": 0,
          "city": 1,
          "level_0": 127,
          "level_1": 47,
          "name": 0
         },
         {
          "addr": 0,
          "city": 1,
          "level_0": 127,
          "level_1": 55,
          "name": 0
         },
         {
          "addr": 0,
          "city": 1,
          "level_0": 127,
          "level_1": 57,
          "name": 0
         },
         {
          "addr": 0,
          "city": 1,
          "level_0": 127,
          "level_1": 67,
          "name": 0
         },
         {
          "addr": 0,
          "city": 1,
          "level_0": 127,
          "level_1": 71,
          "name": 0
         },
         {
          "addr": 0,
          "city": 1,
          "level_0": 128,
          "level_1": 7,
          "name": 0
         },
         {
          "addr": 0,
          "city": 1,
          "level_0": 128,
          "level_1": 12,
          "name": 0
         },
         {
          "addr": 0,
          "city": 1,
          "level_0": 128,
          "level_1": 20,
          "name": 0
         },
         {
          "addr": 0,
          "city": 1,
          "level_0": 128,
          "level_1": 27,
          "name": 0
         },
         {
          "addr": 0,
          "city": 1,
          "level_0": 128,
          "level_1": 47,
          "name": 0
         },
         {
          "addr": 0,
          "city": 1,
          "level_0": 128,
          "level_1": 55,
          "name": 0
         },
         {
          "addr": 0,
          "city": 1,
          "level_0": 128,
          "level_1": 57,
          "name": 0
         },
         {
          "addr": 0,
          "city": 1,
          "level_0": 128,
          "level_1": 67,
          "name": 0
         },
         {
          "addr": 0,
          "city": 1,
          "level_0": 128,
          "level_1": 71,
          "name": 0
         },
         {
          "addr": 0,
          "city": 1,
          "level_0": 129,
          "level_1": 7,
          "name": 0
         },
         {
          "addr": 0,
          "city": 1,
          "level_0": 129,
          "level_1": 12,
          "name": 0
         },
         {
          "addr": 0,
          "city": 1,
          "level_0": 129,
          "level_1": 20,
          "name": 0
         },
         {
          "addr": 0,
          "city": 1,
          "level_0": 129,
          "level_1": 27,
          "name": 0
         },
         {
          "addr": 0,
          "city": 1,
          "level_0": 129,
          "level_1": 47,
          "name": 0
         },
         {
          "addr": 0,
          "city": 1,
          "level_0": 129,
          "level_1": 55,
          "name": 0
         },
         {
          "addr": 0,
          "city": 1,
          "level_0": 129,
          "level_1": 57,
          "name": 0
         },
         {
          "addr": 0,
          "city": 1,
          "level_0": 129,
          "level_1": 67,
          "name": 0
         },
         {
          "addr": 0,
          "city": 1,
          "level_0": 129,
          "level_1": 71,
          "name": 0
         },
         {
          "addr": 0,
          "city": 1,
          "level_0": 130,
          "level_1": 7,
          "name": 0
         },
         {
          "addr": 0,
          "city": 1,
          "level_0": 130,
          "level_1": 12,
          "name": 0
         },
         {
          "addr": 0,
          "city": 1,
          "level_0": 130,
          "level_1": 20,
          "name": 0
         },
         {
          "addr": 0,
          "city": 1,
          "level_0": 130,
          "level_1": 27,
          "name": 0
         },
         {
          "addr": 0,
          "city": 1,
          "level_0": 130,
          "level_1": 47,
          "name": 0
         },
         {
          "addr": 0,
          "city": 1,
          "level_0": 130,
          "level_1": 55,
          "name": 0
         },
         {
          "addr": 0,
          "city": 1,
          "level_0": 130,
          "level_1": 57,
          "name": 0
         },
         {
          "addr": 0,
          "city": 1,
          "level_0": 130,
          "level_1": 67,
          "name": 0
         },
         {
          "addr": 1,
          "city": 1,
          "level_0": 130,
          "level_1": 71,
          "name": 0
         },
         {
          "addr": 0,
          "city": 1,
          "level_0": 131,
          "level_1": 7,
          "name": 0
         },
         {
          "addr": 0,
          "city": 1,
          "level_0": 131,
          "level_1": 12,
          "name": 0
         },
         {
          "addr": 0,
          "city": 1,
          "level_0": 131,
          "level_1": 20,
          "name": 0
         },
         {
          "addr": 0,
          "city": 1,
          "level_0": 131,
          "level_1": 27,
          "name": 0
         },
         {
          "addr": 0,
          "city": 1,
          "level_0": 131,
          "level_1": 47,
          "name": 0
         },
         {
          "addr": 0,
          "city": 1,
          "level_0": 131,
          "level_1": 55,
          "name": 0
         },
         {
          "addr": 0,
          "city": 1,
          "level_0": 131,
          "level_1": 57,
          "name": 0
         },
         {
          "addr": 0,
          "city": 1,
          "level_0": 131,
          "level_1": 67,
          "name": 0
         },
         {
          "addr": 0,
          "city": 1,
          "level_0": 131,
          "level_1": 71,
          "name": 0
         },
         {
          "addr": 0,
          "city": 1,
          "level_0": 132,
          "level_1": 7,
          "name": 0
         },
         {
          "addr": 0,
          "city": 1,
          "level_0": 132,
          "level_1": 12,
          "name": 0
         },
         {
          "addr": 0,
          "city": 1,
          "level_0": 132,
          "level_1": 20,
          "name": 0
         },
         {
          "addr": 0,
          "city": 1,
          "level_0": 132,
          "level_1": 27,
          "name": 0
         },
         {
          "addr": 0,
          "city": 1,
          "level_0": 132,
          "level_1": 47,
          "name": 0
         },
         {
          "addr": 0,
          "city": 1,
          "level_0": 132,
          "level_1": 55,
          "name": 0
         },
         {
          "addr": 0,
          "city": 1,
          "level_0": 132,
          "level_1": 57,
          "name": 0
         },
         {
          "addr": 0,
          "city": 1,
          "level_0": 132,
          "level_1": 67,
          "name": 0
         },
         {
          "addr": 0,
          "city": 1,
          "level_0": 132,
          "level_1": 71,
          "name": 0
         },
         {
          "addr": 0,
          "city": 1,
          "level_0": 133,
          "level_1": 7,
          "name": 0
         },
         {
          "addr": 0,
          "city": 1,
          "level_0": 133,
          "level_1": 12,
          "name": 0
         },
         {
          "addr": 0,
          "city": 1,
          "level_0": 133,
          "level_1": 20,
          "name": 0
         },
         {
          "addr": 0,
          "city": 1,
          "level_0": 133,
          "level_1": 27,
          "name": 0
         },
         {
          "addr": 0,
          "city": 1,
          "level_0": 133,
          "level_1": 47,
          "name": 0
         },
         {
          "addr": 0,
          "city": 1,
          "level_0": 133,
          "level_1": 55,
          "name": 0
         },
         {
          "addr": 0,
          "city": 1,
          "level_0": 133,
          "level_1": 57,
          "name": 0
         },
         {
          "addr": 0,
          "city": 1,
          "level_0": 133,
          "level_1": 67,
          "name": 0
         },
         {
          "addr": 0,
          "city": 1,
          "level_0": 133,
          "level_1": 71,
          "name": 0
         },
         {
          "addr": 0,
          "city": 1,
          "level_0": 134,
          "level_1": 7,
          "name": 0
         },
         {
          "addr": 0,
          "city": 1,
          "level_0": 134,
          "level_1": 12,
          "name": 0
         },
         {
          "addr": 0,
          "city": 1,
          "level_0": 134,
          "level_1": 20,
          "name": 0
         },
         {
          "addr": 0,
          "city": 1,
          "level_0": 134,
          "level_1": 27,
          "name": 0
         },
         {
          "addr": 0,
          "city": 1,
          "level_0": 134,
          "level_1": 47,
          "name": 0
         },
         {
          "addr": 0,
          "city": 1,
          "level_0": 134,
          "level_1": 55,
          "name": 0
         },
         {
          "addr": 0,
          "city": 1,
          "level_0": 134,
          "level_1": 57,
          "name": 0
         },
         {
          "addr": 0,
          "city": 1,
          "level_0": 134,
          "level_1": 67,
          "name": 0
         },
         {
          "addr": 0,
          "city": 1,
          "level_0": 134,
          "level_1": 71,
          "name": 0
         },
         {
          "addr": 0,
          "city": 1,
          "level_0": 135,
          "level_1": 7,
          "name": 0
         },
         {
          "addr": 0,
          "city": 1,
          "level_0": 135,
          "level_1": 12,
          "name": 0
         },
         {
          "addr": 0,
          "city": 1,
          "level_0": 135,
          "level_1": 20,
          "name": 0
         },
         {
          "addr": 0,
          "city": 1,
          "level_0": 135,
          "level_1": 27,
          "name": 0
         },
         {
          "addr": 0,
          "city": 1,
          "level_0": 135,
          "level_1": 47,
          "name": 0
         },
         {
          "addr": 0,
          "city": 1,
          "level_0": 135,
          "level_1": 55,
          "name": 0
         },
         {
          "addr": 0,
          "city": 1,
          "level_0": 135,
          "level_1": 57,
          "name": 0
         },
         {
          "addr": 0,
          "city": 1,
          "level_0": 135,
          "level_1": 67,
          "name": 0
         },
         {
          "addr": 0,
          "city": 1,
          "level_0": 135,
          "level_1": 71,
          "name": 0
         },
         {
          "addr": 0,
          "city": 1,
          "level_0": 136,
          "level_1": 7,
          "name": 0
         },
         {
          "addr": 0,
          "city": 1,
          "level_0": 136,
          "level_1": 12,
          "name": 0
         },
         {
          "addr": 0,
          "city": 1,
          "level_0": 136,
          "level_1": 20,
          "name": 0
         },
         {
          "addr": 0,
          "city": 1,
          "level_0": 136,
          "level_1": 27,
          "name": 0
         },
         {
          "addr": 0,
          "city": 1,
          "level_0": 136,
          "level_1": 47,
          "name": 0
         },
         {
          "addr": 0,
          "city": 1,
          "level_0": 136,
          "level_1": 55,
          "name": 0
         },
         {
          "addr": 0,
          "city": 1,
          "level_0": 136,
          "level_1": 57,
          "name": 0
         },
         {
          "addr": 0,
          "city": 1,
          "level_0": 136,
          "level_1": 67,
          "name": 0
         },
         {
          "addr": 0,
          "city": 1,
          "level_0": 136,
          "level_1": 71,
          "name": 0
         },
         {
          "addr": 0,
          "city": 1,
          "level_0": 137,
          "level_1": 7,
          "name": 0
         },
         {
          "addr": 0,
          "city": 1,
          "level_0": 137,
          "level_1": 12,
          "name": 0
         },
         {
          "addr": 0,
          "city": 1,
          "level_0": 137,
          "level_1": 20,
          "name": 0
         },
         {
          "addr": 0,
          "city": 1,
          "level_0": 137,
          "level_1": 27,
          "name": 0
         },
         {
          "addr": 0,
          "city": 1,
          "level_0": 137,
          "level_1": 47,
          "name": 0
         },
         {
          "addr": 0,
          "city": 1,
          "level_0": 137,
          "level_1": 55,
          "name": 0
         },
         {
          "addr": 0,
          "city": 1,
          "level_0": 137,
          "level_1": 57,
          "name": 0
         },
         {
          "addr": 0,
          "city": 1,
          "level_0": 137,
          "level_1": 67,
          "name": 0
         },
         {
          "addr": 0,
          "city": 1,
          "level_0": 137,
          "level_1": 71,
          "name": 0
         },
         {
          "addr": 0,
          "city": 1,
          "level_0": 138,
          "level_1": 7,
          "name": 0
         },
         {
          "addr": 0,
          "city": 1,
          "level_0": 138,
          "level_1": 12,
          "name": 0
         },
         {
          "addr": 0,
          "city": 1,
          "level_0": 138,
          "level_1": 20,
          "name": 0
         },
         {
          "addr": 0,
          "city": 1,
          "level_0": 138,
          "level_1": 27,
          "name": 0
         },
         {
          "addr": 0,
          "city": 1,
          "level_0": 138,
          "level_1": 47,
          "name": 0
         },
         {
          "addr": 0,
          "city": 1,
          "level_0": 138,
          "level_1": 55,
          "name": 0
         },
         {
          "addr": 0,
          "city": 1,
          "level_0": 138,
          "level_1": 57,
          "name": 0
         },
         {
          "addr": 0,
          "city": 1,
          "level_0": 138,
          "level_1": 67,
          "name": 0
         },
         {
          "addr": 0,
          "city": 1,
          "level_0": 138,
          "level_1": 71,
          "name": 0
         },
         {
          "addr": 0,
          "city": 1,
          "level_0": 139,
          "level_1": 7,
          "name": 0
         },
         {
          "addr": 0,
          "city": 1,
          "level_0": 139,
          "level_1": 12,
          "name": 0
         },
         {
          "addr": 0,
          "city": 1,
          "level_0": 139,
          "level_1": 20,
          "name": 0
         },
         {
          "addr": 0,
          "city": 1,
          "level_0": 139,
          "level_1": 27,
          "name": 0
         },
         {
          "addr": 0,
          "city": 1,
          "level_0": 139,
          "level_1": 47,
          "name": 0
         },
         {
          "addr": 0,
          "city": 1,
          "level_0": 139,
          "level_1": 55,
          "name": 0
         },
         {
          "addr": 0,
          "city": 1,
          "level_0": 139,
          "level_1": 57,
          "name": 0
         },
         {
          "addr": 0,
          "city": 1,
          "level_0": 139,
          "level_1": 67,
          "name": 0
         },
         {
          "addr": 0,
          "city": 1,
          "level_0": 139,
          "level_1": 71,
          "name": 0
         },
         {
          "addr": 0,
          "city": 1,
          "level_0": 140,
          "level_1": 7,
          "name": 0
         },
         {
          "addr": 0,
          "city": 1,
          "level_0": 140,
          "level_1": 12,
          "name": 0
         },
         {
          "addr": 0,
          "city": 1,
          "level_0": 140,
          "level_1": 20,
          "name": 0
         },
         {
          "addr": 0,
          "city": 1,
          "level_0": 140,
          "level_1": 27,
          "name": 0
         },
         {
          "addr": 0,
          "city": 1,
          "level_0": 140,
          "level_1": 47,
          "name": 0
         },
         {
          "addr": 0,
          "city": 1,
          "level_0": 140,
          "level_1": 55,
          "name": 0
         },
         {
          "addr": 0,
          "city": 1,
          "level_0": 140,
          "level_1": 57,
          "name": 0
         },
         {
          "addr": 0,
          "city": 1,
          "level_0": 140,
          "level_1": 67,
          "name": 0
         },
         {
          "addr": 0,
          "city": 1,
          "level_0": 140,
          "level_1": 71,
          "name": 0
         },
         {
          "addr": 0,
          "city": 1,
          "level_0": 141,
          "level_1": 7,
          "name": 0
         },
         {
          "addr": 0,
          "city": 1,
          "level_0": 141,
          "level_1": 12,
          "name": 0
         },
         {
          "addr": 0,
          "city": 1,
          "level_0": 141,
          "level_1": 20,
          "name": 0
         },
         {
          "addr": 0,
          "city": 1,
          "level_0": 141,
          "level_1": 27,
          "name": 0
         },
         {
          "addr": 0,
          "city": 1,
          "level_0": 141,
          "level_1": 47,
          "name": 0
         },
         {
          "addr": 0,
          "city": 1,
          "level_0": 141,
          "level_1": 55,
          "name": 0
         },
         {
          "addr": 0,
          "city": 1,
          "level_0": 141,
          "level_1": 57,
          "name": 0
         },
         {
          "addr": 0,
          "city": 1,
          "level_0": 141,
          "level_1": 67,
          "name": 0
         },
         {
          "addr": 0,
          "city": 1,
          "level_0": 141,
          "level_1": 71,
          "name": 0
         },
         {
          "addr": 0,
          "city": 1,
          "level_0": 142,
          "level_1": 7,
          "name": 0
         },
         {
          "addr": 0,
          "city": 1,
          "level_0": 142,
          "level_1": 12,
          "name": 0
         },
         {
          "addr": 1,
          "city": 1,
          "level_0": 142,
          "level_1": 20,
          "name": 0
         },
         {
          "addr": 0,
          "city": 1,
          "level_0": 142,
          "level_1": 27,
          "name": 0
         },
         {
          "addr": 0,
          "city": 1,
          "level_0": 142,
          "level_1": 47,
          "name": 0
         },
         {
          "addr": 0,
          "city": 1,
          "level_0": 142,
          "level_1": 55,
          "name": 0
         },
         {
          "addr": 0,
          "city": 1,
          "level_0": 142,
          "level_1": 57,
          "name": 0
         },
         {
          "addr": 0,
          "city": 1,
          "level_0": 142,
          "level_1": 67,
          "name": 0
         },
         {
          "addr": 0,
          "city": 1,
          "level_0": 142,
          "level_1": 71,
          "name": 0
         },
         {
          "addr": 0,
          "city": 1,
          "level_0": 143,
          "level_1": 7,
          "name": 0
         },
         {
          "addr": 0,
          "city": 1,
          "level_0": 143,
          "level_1": 12,
          "name": 0
         },
         {
          "addr": 0,
          "city": 1,
          "level_0": 143,
          "level_1": 20,
          "name": 0
         },
         {
          "addr": 0,
          "city": 1,
          "level_0": 143,
          "level_1": 27,
          "name": 0
         },
         {
          "addr": 0,
          "city": 1,
          "level_0": 143,
          "level_1": 47,
          "name": 0
         },
         {
          "addr": 0,
          "city": 1,
          "level_0": 143,
          "level_1": 55,
          "name": 0
         },
         {
          "addr": 1,
          "city": 1,
          "level_0": 143,
          "level_1": 57,
          "name": 0
         },
         {
          "addr": 0,
          "city": 1,
          "level_0": 143,
          "level_1": 67,
          "name": 0
         },
         {
          "addr": 0,
          "city": 1,
          "level_0": 143,
          "level_1": 71,
          "name": 0
         },
         {
          "addr": 0,
          "city": 1,
          "level_0": 144,
          "level_1": 7,
          "name": 0
         },
         {
          "addr": 0,
          "city": 1,
          "level_0": 144,
          "level_1": 12,
          "name": 0
         },
         {
          "addr": 0,
          "city": 1,
          "level_0": 144,
          "level_1": 20,
          "name": 0
         },
         {
          "addr": 0,
          "city": 1,
          "level_0": 144,
          "level_1": 27,
          "name": 0
         },
         {
          "addr": 0,
          "city": 1,
          "level_0": 144,
          "level_1": 47,
          "name": 0
         },
         {
          "addr": 0,
          "city": 1,
          "level_0": 144,
          "level_1": 55,
          "name": 0
         },
         {
          "addr": 0,
          "city": 1,
          "level_0": 144,
          "level_1": 57,
          "name": 0
         },
         {
          "addr": 0,
          "city": 1,
          "level_0": 144,
          "level_1": 67,
          "name": 0
         },
         {
          "addr": 0,
          "city": 1,
          "level_0": 144,
          "level_1": 71,
          "name": 0
         },
         {
          "addr": 0,
          "city": 1,
          "level_0": 145,
          "level_1": 7,
          "name": 0
         },
         {
          "addr": 0,
          "city": 1,
          "level_0": 145,
          "level_1": 12,
          "name": 0
         },
         {
          "addr": 0,
          "city": 1,
          "level_0": 145,
          "level_1": 20,
          "name": 0
         },
         {
          "addr": 0,
          "city": 1,
          "level_0": 145,
          "level_1": 27,
          "name": 0
         },
         {
          "addr": 0,
          "city": 1,
          "level_0": 145,
          "level_1": 47,
          "name": 0
         },
         {
          "addr": 0,
          "city": 1,
          "level_0": 145,
          "level_1": 55,
          "name": 0
         },
         {
          "addr": 0,
          "city": 1,
          "level_0": 145,
          "level_1": 57,
          "name": 0
         },
         {
          "addr": 0,
          "city": 1,
          "level_0": 145,
          "level_1": 67,
          "name": 0
         },
         {
          "addr": 0,
          "city": 1,
          "level_0": 145,
          "level_1": 71,
          "name": 0
         },
         {
          "addr": 0,
          "city": 1,
          "level_0": 146,
          "level_1": 7,
          "name": 0
         },
         {
          "addr": 0,
          "city": 1,
          "level_0": 146,
          "level_1": 12,
          "name": 0
         },
         {
          "addr": 0,
          "city": 1,
          "level_0": 146,
          "level_1": 20,
          "name": 0
         },
         {
          "addr": 0,
          "city": 1,
          "level_0": 146,
          "level_1": 27,
          "name": 0
         },
         {
          "addr": 0,
          "city": 1,
          "level_0": 146,
          "level_1": 47,
          "name": 0
         },
         {
          "addr": 0,
          "city": 1,
          "level_0": 146,
          "level_1": 55,
          "name": 0
         },
         {
          "addr": 0,
          "city": 1,
          "level_0": 146,
          "level_1": 57,
          "name": 0
         },
         {
          "addr": 0,
          "city": 1,
          "level_0": 146,
          "level_1": 67,
          "name": 0
         },
         {
          "addr": 0,
          "city": 1,
          "level_0": 146,
          "level_1": 71,
          "name": 0
         },
         {
          "addr": 0,
          "city": 1,
          "level_0": 147,
          "level_1": 7,
          "name": 0
         },
         {
          "addr": 0,
          "city": 1,
          "level_0": 147,
          "level_1": 12,
          "name": 0
         },
         {
          "addr": 0,
          "city": 1,
          "level_0": 147,
          "level_1": 20,
          "name": 0
         },
         {
          "addr": 0,
          "city": 1,
          "level_0": 147,
          "level_1": 27,
          "name": 0
         },
         {
          "addr": 0,
          "city": 1,
          "level_0": 147,
          "level_1": 47,
          "name": 0
         },
         {
          "addr": 0,
          "city": 1,
          "level_0": 147,
          "level_1": 55,
          "name": 0
         },
         {
          "addr": 0,
          "city": 1,
          "level_0": 147,
          "level_1": 57,
          "name": 0
         },
         {
          "addr": 0,
          "city": 1,
          "level_0": 147,
          "level_1": 67,
          "name": 0
         },
         {
          "addr": 0,
          "city": 1,
          "level_0": 147,
          "level_1": 71,
          "name": 0
         },
         {
          "addr": 0,
          "city": 1,
          "level_0": 148,
          "level_1": 7,
          "name": 0
         },
         {
          "addr": 0,
          "city": 1,
          "level_0": 148,
          "level_1": 12,
          "name": 0
         },
         {
          "addr": 0,
          "city": 1,
          "level_0": 148,
          "level_1": 20,
          "name": 0
         },
         {
          "addr": 0,
          "city": 1,
          "level_0": 148,
          "level_1": 27,
          "name": 0
         },
         {
          "addr": 0,
          "city": 1,
          "level_0": 148,
          "level_1": 47,
          "name": 0
         },
         {
          "addr": 0,
          "city": 1,
          "level_0": 148,
          "level_1": 55,
          "name": 0
         },
         {
          "addr": 0,
          "city": 1,
          "level_0": 148,
          "level_1": 57,
          "name": 0
         },
         {
          "addr": 0,
          "city": 1,
          "level_0": 148,
          "level_1": 67,
          "name": 0
         },
         {
          "addr": 0,
          "city": 1,
          "level_0": 148,
          "level_1": 71,
          "name": 0
         },
         {
          "addr": 0,
          "city": 1,
          "level_0": 149,
          "level_1": 7,
          "name": 0
         },
         {
          "addr": 0,
          "city": 1,
          "level_0": 149,
          "level_1": 12,
          "name": 0
         },
         {
          "addr": 0,
          "city": 1,
          "level_0": 149,
          "level_1": 20,
          "name": 0
         },
         {
          "addr": 0,
          "city": 1,
          "level_0": 149,
          "level_1": 27,
          "name": 0
         },
         {
          "addr": 0,
          "city": 1,
          "level_0": 149,
          "level_1": 47,
          "name": 0
         },
         {
          "addr": 0,
          "city": 1,
          "level_0": 149,
          "level_1": 55,
          "name": 0
         },
         {
          "addr": 0,
          "city": 1,
          "level_0": 149,
          "level_1": 57,
          "name": 0
         },
         {
          "addr": 0,
          "city": 1,
          "level_0": 149,
          "level_1": 67,
          "name": 0
         },
         {
          "addr": 0,
          "city": 1,
          "level_0": 149,
          "level_1": 71,
          "name": 0
         },
         {
          "addr": 0,
          "city": 1,
          "level_0": 150,
          "level_1": 7,
          "name": 0
         },
         {
          "addr": 0,
          "city": 1,
          "level_0": 150,
          "level_1": 12,
          "name": 0
         },
         {
          "addr": 0,
          "city": 1,
          "level_0": 150,
          "level_1": 20,
          "name": 0
         },
         {
          "addr": 0,
          "city": 1,
          "level_0": 150,
          "level_1": 27,
          "name": 0
         },
         {
          "addr": 0,
          "city": 1,
          "level_0": 150,
          "level_1": 47,
          "name": 0
         },
         {
          "addr": 0,
          "city": 1,
          "level_0": 150,
          "level_1": 55,
          "name": 0
         },
         {
          "addr": 0,
          "city": 1,
          "level_0": 150,
          "level_1": 57,
          "name": 0
         },
         {
          "addr": 0,
          "city": 1,
          "level_0": 150,
          "level_1": 67,
          "name": 0
         },
         {
          "addr": 0,
          "city": 1,
          "level_0": 150,
          "level_1": 71,
          "name": 0
         },
         {
          "addr": 0,
          "city": 1,
          "level_0": 151,
          "level_1": 7,
          "name": 0
         },
         {
          "addr": 0,
          "city": 1,
          "level_0": 151,
          "level_1": 12,
          "name": 0
         },
         {
          "addr": 0,
          "city": 1,
          "level_0": 151,
          "level_1": 20,
          "name": 0
         },
         {
          "addr": 0,
          "city": 1,
          "level_0": 151,
          "level_1": 27,
          "name": 0
         },
         {
          "addr": 0,
          "city": 1,
          "level_0": 151,
          "level_1": 47,
          "name": 0
         },
         {
          "addr": 0,
          "city": 1,
          "level_0": 151,
          "level_1": 55,
          "name": 0
         },
         {
          "addr": 0,
          "city": 1,
          "level_0": 151,
          "level_1": 57,
          "name": 0
         },
         {
          "addr": 0,
          "city": 1,
          "level_0": 151,
          "level_1": 67,
          "name": 0
         },
         {
          "addr": 0,
          "city": 1,
          "level_0": 151,
          "level_1": 71,
          "name": 0
         },
         {
          "addr": 0,
          "city": 1,
          "level_0": 152,
          "level_1": 7,
          "name": 0
         },
         {
          "addr": 0,
          "city": 1,
          "level_0": 152,
          "level_1": 12,
          "name": 0
         },
         {
          "addr": 0,
          "city": 1,
          "level_0": 152,
          "level_1": 20,
          "name": 0
         },
         {
          "addr": 0,
          "city": 1,
          "level_0": 152,
          "level_1": 27,
          "name": 0
         },
         {
          "addr": 0,
          "city": 1,
          "level_0": 152,
          "level_1": 47,
          "name": 0
         },
         {
          "addr": 0,
          "city": 1,
          "level_0": 152,
          "level_1": 55,
          "name": 0
         },
         {
          "addr": 0,
          "city": 1,
          "level_0": 152,
          "level_1": 57,
          "name": 0
         },
         {
          "addr": 0,
          "city": 1,
          "level_0": 152,
          "level_1": 67,
          "name": 0
         },
         {
          "addr": 0,
          "city": 1,
          "level_0": 152,
          "level_1": 71,
          "name": 0
         },
         {
          "addr": 0,
          "city": 1,
          "level_0": 153,
          "level_1": 7,
          "name": 0
         },
         {
          "addr": 0,
          "city": 1,
          "level_0": 153,
          "level_1": 12,
          "name": 0
         },
         {
          "addr": 0,
          "city": 1,
          "level_0": 153,
          "level_1": 20,
          "name": 0
         },
         {
          "addr": 0,
          "city": 1,
          "level_0": 153,
          "level_1": 27,
          "name": 0
         },
         {
          "addr": 0,
          "city": 1,
          "level_0": 153,
          "level_1": 47,
          "name": 0
         },
         {
          "addr": 0,
          "city": 1,
          "level_0": 153,
          "level_1": 55,
          "name": 0
         },
         {
          "addr": 0,
          "city": 1,
          "level_0": 153,
          "level_1": 57,
          "name": 0
         },
         {
          "addr": 0,
          "city": 1,
          "level_0": 153,
          "level_1": 67,
          "name": 0
         },
         {
          "addr": 0,
          "city": 1,
          "level_0": 153,
          "level_1": 71,
          "name": 0
         },
         {
          "addr": 0,
          "city": 1,
          "level_0": 154,
          "level_1": 7,
          "name": 0
         },
         {
          "addr": 0,
          "city": 1,
          "level_0": 154,
          "level_1": 12,
          "name": 0
         },
         {
          "addr": 0,
          "city": 1,
          "level_0": 154,
          "level_1": 20,
          "name": 0
         },
         {
          "addr": 0,
          "city": 1,
          "level_0": 154,
          "level_1": 27,
          "name": 0
         },
         {
          "addr": 0,
          "city": 1,
          "level_0": 154,
          "level_1": 47,
          "name": 0
         },
         {
          "addr": 0,
          "city": 1,
          "level_0": 154,
          "level_1": 55,
          "name": 0
         },
         {
          "addr": 0,
          "city": 1,
          "level_0": 154,
          "level_1": 57,
          "name": 0
         },
         {
          "addr": 0,
          "city": 1,
          "level_0": 154,
          "level_1": 67,
          "name": 0
         },
         {
          "addr": 0,
          "city": 1,
          "level_0": 154,
          "level_1": 71,
          "name": 0
         },
         {
          "addr": 0,
          "city": 1,
          "level_0": 155,
          "level_1": 7,
          "name": 0
         },
         {
          "addr": 0,
          "city": 1,
          "level_0": 155,
          "level_1": 12,
          "name": 0
         },
         {
          "addr": 0,
          "city": 1,
          "level_0": 155,
          "level_1": 20,
          "name": 0
         },
         {
          "addr": 0,
          "city": 1,
          "level_0": 155,
          "level_1": 27,
          "name": 0
         },
         {
          "addr": 0,
          "city": 1,
          "level_0": 155,
          "level_1": 47,
          "name": 0
         },
         {
          "addr": 0,
          "city": 1,
          "level_0": 155,
          "level_1": 55,
          "name": 0
         },
         {
          "addr": 0,
          "city": 1,
          "level_0": 155,
          "level_1": 57,
          "name": 0
         },
         {
          "addr": 0,
          "city": 1,
          "level_0": 155,
          "level_1": 67,
          "name": 0
         },
         {
          "addr": 0,
          "city": 1,
          "level_0": 155,
          "level_1": 71,
          "name": 0
         },
         {
          "addr": 0,
          "city": 1,
          "level_0": 156,
          "level_1": 7,
          "name": 0
         },
         {
          "addr": 0,
          "city": 1,
          "level_0": 156,
          "level_1": 12,
          "name": 0
         },
         {
          "addr": 0,
          "city": 1,
          "level_0": 156,
          "level_1": 20,
          "name": 0
         },
         {
          "addr": 0,
          "city": 1,
          "level_0": 156,
          "level_1": 27,
          "name": 0
         },
         {
          "addr": 0,
          "city": 1,
          "level_0": 156,
          "level_1": 47,
          "name": 0
         },
         {
          "addr": 0,
          "city": 1,
          "level_0": 156,
          "level_1": 55,
          "name": 0
         },
         {
          "addr": 0,
          "city": 1,
          "level_0": 156,
          "level_1": 57,
          "name": 0
         },
         {
          "addr": 0,
          "city": 1,
          "level_0": 156,
          "level_1": 67,
          "name": 0
         },
         {
          "addr": 0,
          "city": 1,
          "level_0": 156,
          "level_1": 71,
          "name": 0
         },
         {
          "addr": 0,
          "city": 1,
          "level_0": 157,
          "level_1": 7,
          "name": 0
         },
         {
          "addr": 0,
          "city": 1,
          "level_0": 157,
          "level_1": 12,
          "name": 0
         },
         {
          "addr": 0,
          "city": 1,
          "level_0": 157,
          "level_1": 20,
          "name": 0
         },
         {
          "addr": 0,
          "city": 1,
          "level_0": 157,
          "level_1": 27,
          "name": 0
         },
         {
          "addr": 0,
          "city": 1,
          "level_0": 157,
          "level_1": 47,
          "name": 0
         },
         {
          "addr": 0,
          "city": 1,
          "level_0": 157,
          "level_1": 55,
          "name": 0
         },
         {
          "addr": 0,
          "city": 1,
          "level_0": 157,
          "level_1": 57,
          "name": 0
         },
         {
          "addr": 0,
          "city": 1,
          "level_0": 157,
          "level_1": 67,
          "name": 0
         },
         {
          "addr": 0,
          "city": 1,
          "level_0": 157,
          "level_1": 71,
          "name": 0
         },
         {
          "addr": 0,
          "city": 1,
          "level_0": 158,
          "level_1": 7,
          "name": 0
         },
         {
          "addr": 0,
          "city": 1,
          "level_0": 158,
          "level_1": 12,
          "name": 0
         },
         {
          "addr": 0,
          "city": 1,
          "level_0": 158,
          "level_1": 20,
          "name": 0
         },
         {
          "addr": 0,
          "city": 1,
          "level_0": 158,
          "level_1": 27,
          "name": 0
         },
         {
          "addr": 0,
          "city": 1,
          "level_0": 158,
          "level_1": 47,
          "name": 0
         },
         {
          "addr": 0,
          "city": 1,
          "level_0": 158,
          "level_1": 55,
          "name": 0
         },
         {
          "addr": 0,
          "city": 1,
          "level_0": 158,
          "level_1": 57,
          "name": 0
         },
         {
          "addr": 0,
          "city": 1,
          "level_0": 158,
          "level_1": 67,
          "name": 0
         },
         {
          "addr": 0,
          "city": 1,
          "level_0": 158,
          "level_1": 71,
          "name": 0
         },
         {
          "addr": 1,
          "city": 1,
          "level_0": 159,
          "level_1": 7,
          "name": 0
         },
         {
          "addr": 0,
          "city": 1,
          "level_0": 159,
          "level_1": 12,
          "name": 0
         },
         {
          "addr": 0,
          "city": 1,
          "level_0": 159,
          "level_1": 20,
          "name": 0
         },
         {
          "addr": 0,
          "city": 1,
          "level_0": 159,
          "level_1": 27,
          "name": 0
         },
         {
          "addr": 0,
          "city": 1,
          "level_0": 159,
          "level_1": 47,
          "name": 0
         },
         {
          "addr": 0,
          "city": 1,
          "level_0": 159,
          "level_1": 55,
          "name": 0
         },
         {
          "addr": 0,
          "city": 1,
          "level_0": 159,
          "level_1": 57,
          "name": 0
         },
         {
          "addr": 0,
          "city": 1,
          "level_0": 159,
          "level_1": 67,
          "name": 0
         },
         {
          "addr": 0,
          "city": 1,
          "level_0": 159,
          "level_1": 71,
          "name": 0
         },
         {
          "addr": 0,
          "city": 1,
          "level_0": 160,
          "level_1": 7,
          "name": 0
         },
         {
          "addr": 0,
          "city": 1,
          "level_0": 160,
          "level_1": 12,
          "name": 0
         },
         {
          "addr": 0,
          "city": 1,
          "level_0": 160,
          "level_1": 20,
          "name": 0
         },
         {
          "addr": 0,
          "city": 1,
          "level_0": 160,
          "level_1": 27,
          "name": 0
         },
         {
          "addr": 0,
          "city": 1,
          "level_0": 160,
          "level_1": 47,
          "name": 0
         },
         {
          "addr": 0,
          "city": 1,
          "level_0": 160,
          "level_1": 55,
          "name": 0
         },
         {
          "addr": 0,
          "city": 1,
          "level_0": 160,
          "level_1": 57,
          "name": 0
         },
         {
          "addr": 0,
          "city": 1,
          "level_0": 160,
          "level_1": 67,
          "name": 0
         },
         {
          "addr": 0,
          "city": 1,
          "level_0": 160,
          "level_1": 71,
          "name": 0
         },
         {
          "addr": 0,
          "city": 1,
          "level_0": 161,
          "level_1": 7,
          "name": 0
         },
         {
          "addr": 0,
          "city": 1,
          "level_0": 161,
          "level_1": 12,
          "name": 0
         },
         {
          "addr": 0,
          "city": 1,
          "level_0": 161,
          "level_1": 20,
          "name": 0
         },
         {
          "addr": 0,
          "city": 1,
          "level_0": 161,
          "level_1": 27,
          "name": 0
         },
         {
          "addr": 0,
          "city": 1,
          "level_0": 161,
          "level_1": 47,
          "name": 0
         },
         {
          "addr": 0,
          "city": 1,
          "level_0": 161,
          "level_1": 55,
          "name": 0
         },
         {
          "addr": 0,
          "city": 1,
          "level_0": 161,
          "level_1": 57,
          "name": 0
         },
         {
          "addr": 0,
          "city": 1,
          "level_0": 161,
          "level_1": 67,
          "name": 0
         },
         {
          "addr": 0,
          "city": 1,
          "level_0": 161,
          "level_1": 71,
          "name": 0
         },
         {
          "addr": 0,
          "city": 1,
          "level_0": 162,
          "level_1": 7,
          "name": 0
         },
         {
          "addr": 0,
          "city": 1,
          "level_0": 162,
          "level_1": 12,
          "name": 0
         },
         {
          "addr": 0,
          "city": 1,
          "level_0": 162,
          "level_1": 20,
          "name": 0
         },
         {
          "addr": 0,
          "city": 1,
          "level_0": 162,
          "level_1": 27,
          "name": 0
         },
         {
          "addr": 0,
          "city": 1,
          "level_0": 162,
          "level_1": 47,
          "name": 0
         },
         {
          "addr": 0,
          "city": 1,
          "level_0": 162,
          "level_1": 55,
          "name": 0
         },
         {
          "addr": 0,
          "city": 1,
          "level_0": 162,
          "level_1": 57,
          "name": 0
         },
         {
          "addr": 0,
          "city": 1,
          "level_0": 162,
          "level_1": 67,
          "name": 0
         },
         {
          "addr": 0,
          "city": 1,
          "level_0": 162,
          "level_1": 71,
          "name": 0
         },
         {
          "addr": 0,
          "city": 1,
          "level_0": 163,
          "level_1": 7,
          "name": 0
         },
         {
          "addr": 0,
          "city": 1,
          "level_0": 163,
          "level_1": 12,
          "name": 0
         },
         {
          "addr": 0,
          "city": 1,
          "level_0": 163,
          "level_1": 20,
          "name": 0
         },
         {
          "addr": 0,
          "city": 1,
          "level_0": 163,
          "level_1": 27,
          "name": 0
         },
         {
          "addr": 0,
          "city": 1,
          "level_0": 163,
          "level_1": 47,
          "name": 0
         },
         {
          "addr": 0,
          "city": 1,
          "level_0": 163,
          "level_1": 55,
          "name": 0
         },
         {
          "addr": 0,
          "city": 1,
          "level_0": 163,
          "level_1": 57,
          "name": 0
         },
         {
          "addr": 0,
          "city": 1,
          "level_0": 163,
          "level_1": 67,
          "name": 0
         },
         {
          "addr": 0,
          "city": 1,
          "level_0": 163,
          "level_1": 71,
          "name": 0
         },
         {
          "addr": 0,
          "city": 1,
          "level_0": 164,
          "level_1": 7,
          "name": 0
         },
         {
          "addr": 0,
          "city": 1,
          "level_0": 164,
          "level_1": 12,
          "name": 0
         },
         {
          "addr": 0,
          "city": 1,
          "level_0": 164,
          "level_1": 20,
          "name": 0
         },
         {
          "addr": 0,
          "city": 1,
          "level_0": 164,
          "level_1": 27,
          "name": 0
         },
         {
          "addr": 0,
          "city": 1,
          "level_0": 164,
          "level_1": 47,
          "name": 0
         },
         {
          "addr": 0,
          "city": 1,
          "level_0": 164,
          "level_1": 55,
          "name": 0
         },
         {
          "addr": 0,
          "city": 1,
          "level_0": 164,
          "level_1": 57,
          "name": 0
         },
         {
          "addr": 0,
          "city": 1,
          "level_0": 164,
          "level_1": 67,
          "name": 0
         },
         {
          "addr": 0,
          "city": 1,
          "level_0": 164,
          "level_1": 71,
          "name": 0
         },
         {
          "addr": 0,
          "city": 1,
          "level_0": 165,
          "level_1": 7,
          "name": 0
         },
         {
          "addr": 0,
          "city": 1,
          "level_0": 165,
          "level_1": 12,
          "name": 0
         },
         {
          "addr": 0,
          "city": 1,
          "level_0": 165,
          "level_1": 20,
          "name": 0
         },
         {
          "addr": 0,
          "city": 1,
          "level_0": 165,
          "level_1": 27,
          "name": 0
         },
         {
          "addr": 0,
          "city": 1,
          "level_0": 165,
          "level_1": 47,
          "name": 0
         },
         {
          "addr": 0,
          "city": 1,
          "level_0": 165,
          "level_1": 55,
          "name": 0
         },
         {
          "addr": 0,
          "city": 1,
          "level_0": 165,
          "level_1": 57,
          "name": 0
         },
         {
          "addr": 0,
          "city": 1,
          "level_0": 165,
          "level_1": 67,
          "name": 0
         },
         {
          "addr": 0,
          "city": 1,
          "level_0": 165,
          "level_1": 71,
          "name": 0
         },
         {
          "addr": 0,
          "city": 1,
          "level_0": 166,
          "level_1": 7,
          "name": 0
         },
         {
          "addr": 0,
          "city": 1,
          "level_0": 166,
          "level_1": 12,
          "name": 0
         },
         {
          "addr": 0,
          "city": 1,
          "level_0": 166,
          "level_1": 20,
          "name": 0
         },
         {
          "addr": 0,
          "city": 1,
          "level_0": 166,
          "level_1": 27,
          "name": 0
         },
         {
          "addr": 0,
          "city": 1,
          "level_0": 166,
          "level_1": 47,
          "name": 0
         },
         {
          "addr": 0,
          "city": 1,
          "level_0": 166,
          "level_1": 55,
          "name": 0
         },
         {
          "addr": 0,
          "city": 1,
          "level_0": 166,
          "level_1": 57,
          "name": 0
         },
         {
          "addr": 0,
          "city": 1,
          "level_0": 166,
          "level_1": 67,
          "name": 0
         },
         {
          "addr": 0,
          "city": 1,
          "level_0": 166,
          "level_1": 71,
          "name": 0
         },
         {
          "addr": 0,
          "city": 1,
          "level_0": 167,
          "level_1": 7,
          "name": 0
         },
         {
          "addr": 0,
          "city": 1,
          "level_0": 167,
          "level_1": 12,
          "name": 0
         },
         {
          "addr": 0,
          "city": 1,
          "level_0": 167,
          "level_1": 20,
          "name": 0
         },
         {
          "addr": 0,
          "city": 1,
          "level_0": 167,
          "level_1": 27,
          "name": 0
         },
         {
          "addr": 0,
          "city": 1,
          "level_0": 167,
          "level_1": 47,
          "name": 0
         },
         {
          "addr": 0,
          "city": 1,
          "level_0": 167,
          "level_1": 55,
          "name": 0
         },
         {
          "addr": 0,
          "city": 1,
          "level_0": 167,
          "level_1": 57,
          "name": 0
         },
         {
          "addr": 0,
          "city": 1,
          "level_0": 167,
          "level_1": 67,
          "name": 0
         },
         {
          "addr": 0,
          "city": 1,
          "level_0": 167,
          "level_1": 71,
          "name": 0
         },
         {
          "addr": 0,
          "city": 1,
          "level_0": 168,
          "level_1": 7,
          "name": 0
         },
         {
          "addr": 0,
          "city": 1,
          "level_0": 168,
          "level_1": 12,
          "name": 0
         },
         {
          "addr": 0,
          "city": 1,
          "level_0": 168,
          "level_1": 20,
          "name": 0
         },
         {
          "addr": 0,
          "city": 1,
          "level_0": 168,
          "level_1": 27,
          "name": 0
         },
         {
          "addr": 0,
          "city": 1,
          "level_0": 168,
          "level_1": 47,
          "name": 0
         },
         {
          "addr": 0,
          "city": 1,
          "level_0": 168,
          "level_1": 55,
          "name": 0
         },
         {
          "addr": 0,
          "city": 1,
          "level_0": 168,
          "level_1": 57,
          "name": 0
         },
         {
          "addr": 0,
          "city": 1,
          "level_0": 168,
          "level_1": 67,
          "name": 0
         },
         {
          "addr": 0,
          "city": 1,
          "level_0": 168,
          "level_1": 71,
          "name": 0
         },
         {
          "addr": 0,
          "city": 1,
          "level_0": 169,
          "level_1": 7,
          "name": 0
         },
         {
          "addr": 0,
          "city": 1,
          "level_0": 169,
          "level_1": 12,
          "name": 0
         },
         {
          "addr": 0,
          "city": 1,
          "level_0": 169,
          "level_1": 20,
          "name": 0
         },
         {
          "addr": 0,
          "city": 1,
          "level_0": 169,
          "level_1": 27,
          "name": 0
         },
         {
          "addr": 0,
          "city": 1,
          "level_0": 169,
          "level_1": 47,
          "name": 0
         },
         {
          "addr": 0,
          "city": 1,
          "level_0": 169,
          "level_1": 55,
          "name": 0
         },
         {
          "addr": 0,
          "city": 1,
          "level_0": 169,
          "level_1": 57,
          "name": 0
         },
         {
          "addr": 0,
          "city": 1,
          "level_0": 169,
          "level_1": 67,
          "name": 0
         },
         {
          "addr": 0,
          "city": 1,
          "level_0": 169,
          "level_1": 71,
          "name": 0
         },
         {
          "addr": 0,
          "city": 1,
          "level_0": 170,
          "level_1": 7,
          "name": 0
         },
         {
          "addr": 0,
          "city": 1,
          "level_0": 170,
          "level_1": 12,
          "name": 0
         },
         {
          "addr": 0,
          "city": 1,
          "level_0": 170,
          "level_1": 20,
          "name": 0
         },
         {
          "addr": 0,
          "city": 1,
          "level_0": 170,
          "level_1": 27,
          "name": 0
         },
         {
          "addr": 0,
          "city": 1,
          "level_0": 170,
          "level_1": 47,
          "name": 0
         },
         {
          "addr": 0,
          "city": 1,
          "level_0": 170,
          "level_1": 55,
          "name": 0
         },
         {
          "addr": 0,
          "city": 1,
          "level_0": 170,
          "level_1": 57,
          "name": 0
         },
         {
          "addr": 0,
          "city": 1,
          "level_0": 170,
          "level_1": 67,
          "name": 0
         },
         {
          "addr": 0,
          "city": 1,
          "level_0": 170,
          "level_1": 71,
          "name": 0
         },
         {
          "addr": 0,
          "city": 1,
          "level_0": 171,
          "level_1": 7,
          "name": 0
         },
         {
          "addr": 0,
          "city": 1,
          "level_0": 171,
          "level_1": 12,
          "name": 0
         },
         {
          "addr": 0,
          "city": 1,
          "level_0": 171,
          "level_1": 20,
          "name": 0
         },
         {
          "addr": 0,
          "city": 1,
          "level_0": 171,
          "level_1": 27,
          "name": 0
         },
         {
          "addr": 0,
          "city": 1,
          "level_0": 171,
          "level_1": 47,
          "name": 0
         },
         {
          "addr": 0,
          "city": 1,
          "level_0": 171,
          "level_1": 55,
          "name": 0
         },
         {
          "addr": 0,
          "city": 1,
          "level_0": 171,
          "level_1": 57,
          "name": 0
         },
         {
          "addr": 0,
          "city": 1,
          "level_0": 171,
          "level_1": 67,
          "name": 0
         },
         {
          "addr": 0,
          "city": 1,
          "level_0": 171,
          "level_1": 71,
          "name": 0
         },
         {
          "addr": 0,
          "city": 1,
          "level_0": 172,
          "level_1": 7,
          "name": 0
         },
         {
          "addr": 0,
          "city": 1,
          "level_0": 172,
          "level_1": 12,
          "name": 0
         },
         {
          "addr": 0,
          "city": 1,
          "level_0": 172,
          "level_1": 20,
          "name": 0
         },
         {
          "addr": 0,
          "city": 1,
          "level_0": 172,
          "level_1": 27,
          "name": 0
         },
         {
          "addr": 0,
          "city": 1,
          "level_0": 172,
          "level_1": 47,
          "name": 0
         },
         {
          "addr": 0,
          "city": 1,
          "level_0": 172,
          "level_1": 55,
          "name": 0
         },
         {
          "addr": 0,
          "city": 1,
          "level_0": 172,
          "level_1": 57,
          "name": 0
         },
         {
          "addr": 0,
          "city": 1,
          "level_0": 172,
          "level_1": 67,
          "name": 0
         },
         {
          "addr": 0,
          "city": 1,
          "level_0": 172,
          "level_1": 71,
          "name": 0
         },
         {
          "addr": 0,
          "city": 1,
          "level_0": 173,
          "level_1": 7,
          "name": 0
         },
         {
          "addr": 0,
          "city": 1,
          "level_0": 173,
          "level_1": 12,
          "name": 0
         },
         {
          "addr": 0,
          "city": 1,
          "level_0": 173,
          "level_1": 20,
          "name": 0
         },
         {
          "addr": 0,
          "city": 1,
          "level_0": 173,
          "level_1": 27,
          "name": 0
         },
         {
          "addr": 0,
          "city": 1,
          "level_0": 173,
          "level_1": 47,
          "name": 0
         },
         {
          "addr": 0,
          "city": 1,
          "level_0": 173,
          "level_1": 55,
          "name": 0
         },
         {
          "addr": 0,
          "city": 1,
          "level_0": 173,
          "level_1": 57,
          "name": 0
         },
         {
          "addr": 0,
          "city": 1,
          "level_0": 173,
          "level_1": 67,
          "name": 0
         },
         {
          "addr": 0,
          "city": 1,
          "level_0": 173,
          "level_1": 71,
          "name": 0
         },
         {
          "addr": 0,
          "city": 1,
          "level_0": 174,
          "level_1": 7,
          "name": 0
         },
         {
          "addr": 0,
          "city": 1,
          "level_0": 174,
          "level_1": 12,
          "name": 0
         },
         {
          "addr": 0,
          "city": 1,
          "level_0": 174,
          "level_1": 20,
          "name": 0
         },
         {
          "addr": 0,
          "city": 1,
          "level_0": 174,
          "level_1": 27,
          "name": 0
         },
         {
          "addr": 0,
          "city": 1,
          "level_0": 174,
          "level_1": 47,
          "name": 0
         },
         {
          "addr": 0,
          "city": 1,
          "level_0": 174,
          "level_1": 55,
          "name": 0
         },
         {
          "addr": 0,
          "city": 1,
          "level_0": 174,
          "level_1": 57,
          "name": 0
         },
         {
          "addr": 0,
          "city": 1,
          "level_0": 174,
          "level_1": 67,
          "name": 0
         },
         {
          "addr": 0,
          "city": 1,
          "level_0": 174,
          "level_1": 71,
          "name": 0
         },
         {
          "addr": 0,
          "city": 1,
          "level_0": 175,
          "level_1": 7,
          "name": 0
         },
         {
          "addr": 0,
          "city": 1,
          "level_0": 175,
          "level_1": 12,
          "name": 0
         },
         {
          "addr": 0,
          "city": 1,
          "level_0": 175,
          "level_1": 20,
          "name": 0
         },
         {
          "addr": 0,
          "city": 1,
          "level_0": 175,
          "level_1": 27,
          "name": 0
         },
         {
          "addr": 0,
          "city": 1,
          "level_0": 175,
          "level_1": 47,
          "name": 0
         },
         {
          "addr": 0,
          "city": 1,
          "level_0": 175,
          "level_1": 55,
          "name": 0
         },
         {
          "addr": 0,
          "city": 1,
          "level_0": 175,
          "level_1": 57,
          "name": 0
         },
         {
          "addr": 0,
          "city": 1,
          "level_0": 175,
          "level_1": 67,
          "name": 0
         },
         {
          "addr": 0,
          "city": 1,
          "level_0": 175,
          "level_1": 71,
          "name": 0
         },
         {
          "addr": 1,
          "city": 1,
          "level_0": 176,
          "level_1": 7,
          "name": 0
         },
         {
          "addr": 0,
          "city": 1,
          "level_0": 176,
          "level_1": 12,
          "name": 0
         },
         {
          "addr": 0,
          "city": 1,
          "level_0": 176,
          "level_1": 20,
          "name": 0
         },
         {
          "addr": 0,
          "city": 1,
          "level_0": 176,
          "level_1": 27,
          "name": 0
         },
         {
          "addr": 0,
          "city": 1,
          "level_0": 176,
          "level_1": 47,
          "name": 0
         },
         {
          "addr": 0,
          "city": 1,
          "level_0": 176,
          "level_1": 55,
          "name": 0
         },
         {
          "addr": 0,
          "city": 1,
          "level_0": 176,
          "level_1": 57,
          "name": 0
         },
         {
          "addr": 0,
          "city": 1,
          "level_0": 176,
          "level_1": 67,
          "name": 0
         },
         {
          "addr": 0,
          "city": 1,
          "level_0": 176,
          "level_1": 71,
          "name": 0
         },
         {
          "addr": 0,
          "city": 1,
          "level_0": 177,
          "level_1": 7,
          "name": 0
         },
         {
          "addr": 0,
          "city": 1,
          "level_0": 177,
          "level_1": 12,
          "name": 0
         },
         {
          "addr": 0,
          "city": 1,
          "level_0": 177,
          "level_1": 20,
          "name": 0
         },
         {
          "addr": 0,
          "city": 1,
          "level_0": 177,
          "level_1": 27,
          "name": 0
         },
         {
          "addr": 0,
          "city": 1,
          "level_0": 177,
          "level_1": 47,
          "name": 0
         },
         {
          "addr": 0,
          "city": 1,
          "level_0": 177,
          "level_1": 55,
          "name": 0
         },
         {
          "addr": 0,
          "city": 1,
          "level_0": 177,
          "level_1": 57,
          "name": 0
         },
         {
          "addr": 0,
          "city": 1,
          "level_0": 177,
          "level_1": 67,
          "name": 0
         },
         {
          "addr": 0,
          "city": 1,
          "level_0": 177,
          "level_1": 71,
          "name": 0
         },
         {
          "addr": 0,
          "city": 1,
          "level_0": 178,
          "level_1": 7,
          "name": 0
         },
         {
          "addr": 0,
          "city": 1,
          "level_0": 178,
          "level_1": 12,
          "name": 0
         },
         {
          "addr": 0,
          "city": 1,
          "level_0": 178,
          "level_1": 20,
          "name": 0
         },
         {
          "addr": 0,
          "city": 1,
          "level_0": 178,
          "level_1": 27,
          "name": 0
         },
         {
          "addr": 0,
          "city": 1,
          "level_0": 178,
          "level_1": 47,
          "name": 0
         },
         {
          "addr": 0,
          "city": 1,
          "level_0": 178,
          "level_1": 55,
          "name": 0
         },
         {
          "addr": 0,
          "city": 1,
          "level_0": 178,
          "level_1": 57,
          "name": 0
         },
         {
          "addr": 0,
          "city": 1,
          "level_0": 178,
          "level_1": 67,
          "name": 0
         },
         {
          "addr": 0,
          "city": 1,
          "level_0": 178,
          "level_1": 71,
          "name": 0
         },
         {
          "addr": 0,
          "city": 1,
          "level_0": 179,
          "level_1": 7,
          "name": 0
         },
         {
          "addr": 0,
          "city": 1,
          "level_0": 179,
          "level_1": 12,
          "name": 0
         },
         {
          "addr": 0,
          "city": 1,
          "level_0": 179,
          "level_1": 20,
          "name": 0
         },
         {
          "addr": 0,
          "city": 1,
          "level_0": 179,
          "level_1": 27,
          "name": 0
         },
         {
          "addr": 1,
          "city": 1,
          "level_0": 179,
          "level_1": 47,
          "name": 0
         },
         {
          "addr": 0,
          "city": 1,
          "level_0": 179,
          "level_1": 55,
          "name": 0
         },
         {
          "addr": 0,
          "city": 1,
          "level_0": 179,
          "level_1": 57,
          "name": 0
         },
         {
          "addr": 0,
          "city": 1,
          "level_0": 179,
          "level_1": 67,
          "name": 0
         },
         {
          "addr": 0,
          "city": 1,
          "level_0": 179,
          "level_1": 71,
          "name": 0
         },
         {
          "addr": 0,
          "city": 1,
          "level_0": 180,
          "level_1": 7,
          "name": 0
         },
         {
          "addr": 0,
          "city": 1,
          "level_0": 180,
          "level_1": 12,
          "name": 0
         },
         {
          "addr": 0,
          "city": 1,
          "level_0": 180,
          "level_1": 20,
          "name": 0
         },
         {
          "addr": 0,
          "city": 1,
          "level_0": 180,
          "level_1": 27,
          "name": 0
         },
         {
          "addr": 0,
          "city": 1,
          "level_0": 180,
          "level_1": 47,
          "name": 0
         },
         {
          "addr": 0,
          "city": 1,
          "level_0": 180,
          "level_1": 55,
          "name": 0
         },
         {
          "addr": 0,
          "city": 1,
          "level_0": 180,
          "level_1": 57,
          "name": 0
         },
         {
          "addr": 0,
          "city": 1,
          "level_0": 180,
          "level_1": 67,
          "name": 0
         },
         {
          "addr": 0,
          "city": 1,
          "level_0": 180,
          "level_1": 71,
          "name": 0
         },
         {
          "addr": 0,
          "city": 1,
          "level_0": 181,
          "level_1": 7,
          "name": 0
         },
         {
          "addr": 0,
          "city": 1,
          "level_0": 181,
          "level_1": 12,
          "name": 0
         },
         {
          "addr": 0,
          "city": 1,
          "level_0": 181,
          "level_1": 20,
          "name": 0
         },
         {
          "addr": 0,
          "city": 1,
          "level_0": 181,
          "level_1": 27,
          "name": 0
         },
         {
          "addr": 0,
          "city": 1,
          "level_0": 181,
          "level_1": 47,
          "name": 0
         },
         {
          "addr": 0,
          "city": 1,
          "level_0": 181,
          "level_1": 55,
          "name": 0
         },
         {
          "addr": 0,
          "city": 1,
          "level_0": 181,
          "level_1": 57,
          "name": 0
         },
         {
          "addr": 0,
          "city": 1,
          "level_0": 181,
          "level_1": 67,
          "name": 0
         },
         {
          "addr": 0,
          "city": 1,
          "level_0": 181,
          "level_1": 71,
          "name": 0
         },
         {
          "addr": 0,
          "city": 1,
          "level_0": 182,
          "level_1": 7,
          "name": 0
         },
         {
          "addr": 0,
          "city": 1,
          "level_0": 182,
          "level_1": 12,
          "name": 0
         },
         {
          "addr": 0,
          "city": 1,
          "level_0": 182,
          "level_1": 20,
          "name": 0
         },
         {
          "addr": 0,
          "city": 1,
          "level_0": 182,
          "level_1": 27,
          "name": 0
         },
         {
          "addr": 0,
          "city": 1,
          "level_0": 182,
          "level_1": 47,
          "name": 0
         },
         {
          "addr": 0,
          "city": 1,
          "level_0": 182,
          "level_1": 55,
          "name": 0
         },
         {
          "addr": 0,
          "city": 1,
          "level_0": 182,
          "level_1": 57,
          "name": 0
         },
         {
          "addr": 0,
          "city": 1,
          "level_0": 182,
          "level_1": 67,
          "name": 0
         },
         {
          "addr": 0,
          "city": 1,
          "level_0": 182,
          "level_1": 71,
          "name": 0
         },
         {
          "addr": 0,
          "city": 1,
          "level_0": 183,
          "level_1": 7,
          "name": 0
         },
         {
          "addr": 0,
          "city": 1,
          "level_0": 183,
          "level_1": 12,
          "name": 0
         },
         {
          "addr": 0,
          "city": 1,
          "level_0": 183,
          "level_1": 20,
          "name": 0
         },
         {
          "addr": 0,
          "city": 1,
          "level_0": 183,
          "level_1": 27,
          "name": 0
         },
         {
          "addr": 0,
          "city": 1,
          "level_0": 183,
          "level_1": 47,
          "name": 0
         },
         {
          "addr": 0,
          "city": 1,
          "level_0": 183,
          "level_1": 55,
          "name": 0
         },
         {
          "addr": 0,
          "city": 1,
          "level_0": 183,
          "level_1": 57,
          "name": 0
         },
         {
          "addr": 0,
          "city": 1,
          "level_0": 183,
          "level_1": 67,
          "name": 0
         },
         {
          "addr": 0,
          "city": 1,
          "level_0": 183,
          "level_1": 71,
          "name": 0
         },
         {
          "addr": 0,
          "city": 1,
          "level_0": 184,
          "level_1": 7,
          "name": 0
         },
         {
          "addr": 0,
          "city": 1,
          "level_0": 184,
          "level_1": 12,
          "name": 0
         },
         {
          "addr": 0,
          "city": 1,
          "level_0": 184,
          "level_1": 20,
          "name": 0
         },
         {
          "addr": 0,
          "city": 1,
          "level_0": 184,
          "level_1": 27,
          "name": 0
         },
         {
          "addr": 0,
          "city": 1,
          "level_0": 184,
          "level_1": 47,
          "name": 0
         },
         {
          "addr": 0,
          "city": 1,
          "level_0": 184,
          "level_1": 55,
          "name": 0
         },
         {
          "addr": 0,
          "city": 1,
          "level_0": 184,
          "level_1": 57,
          "name": 0
         },
         {
          "addr": 0,
          "city": 1,
          "level_0": 184,
          "level_1": 67,
          "name": 0
         },
         {
          "addr": 0,
          "city": 1,
          "level_0": 184,
          "level_1": 71,
          "name": 0
         },
         {
          "addr": 0,
          "city": 1,
          "level_0": 185,
          "level_1": 7,
          "name": 0
         },
         {
          "addr": 0,
          "city": 1,
          "level_0": 185,
          "level_1": 12,
          "name": 0
         },
         {
          "addr": 0,
          "city": 1,
          "level_0": 185,
          "level_1": 20,
          "name": 0
         },
         {
          "addr": 0,
          "city": 1,
          "level_0": 185,
          "level_1": 27,
          "name": 0
         },
         {
          "addr": 0,
          "city": 1,
          "level_0": 185,
          "level_1": 47,
          "name": 0
         },
         {
          "addr": 0,
          "city": 1,
          "level_0": 185,
          "level_1": 55,
          "name": 0
         },
         {
          "addr": 0,
          "city": 1,
          "level_0": 185,
          "level_1": 57,
          "name": 0
         },
         {
          "addr": 0,
          "city": 1,
          "level_0": 185,
          "level_1": 67,
          "name": 0
         },
         {
          "addr": 0,
          "city": 1,
          "level_0": 185,
          "level_1": 71,
          "name": 0
         },
         {
          "addr": 0,
          "city": 1,
          "level_0": 186,
          "level_1": 7,
          "name": 0
         },
         {
          "addr": 0,
          "city": 1,
          "level_0": 186,
          "level_1": 12,
          "name": 0
         },
         {
          "addr": 0,
          "city": 1,
          "level_0": 186,
          "level_1": 20,
          "name": 0
         },
         {
          "addr": 0,
          "city": 1,
          "level_0": 186,
          "level_1": 27,
          "name": 0
         },
         {
          "addr": 0,
          "city": 1,
          "level_0": 186,
          "level_1": 47,
          "name": 0
         },
         {
          "addr": 0,
          "city": 1,
          "level_0": 186,
          "level_1": 55,
          "name": 0
         },
         {
          "addr": 0,
          "city": 1,
          "level_0": 186,
          "level_1": 57,
          "name": 0
         },
         {
          "addr": 0,
          "city": 1,
          "level_0": 186,
          "level_1": 67,
          "name": 0
         },
         {
          "addr": 0,
          "city": 1,
          "level_0": 186,
          "level_1": 71,
          "name": 0
         },
         {
          "addr": 0,
          "city": 1,
          "level_0": 187,
          "level_1": 7,
          "name": 0
         },
         {
          "addr": 0,
          "city": 1,
          "level_0": 187,
          "level_1": 12,
          "name": 0
         },
         {
          "addr": 0,
          "city": 1,
          "level_0": 187,
          "level_1": 20,
          "name": 0
         },
         {
          "addr": 0,
          "city": 1,
          "level_0": 187,
          "level_1": 27,
          "name": 0
         },
         {
          "addr": 0,
          "city": 1,
          "level_0": 187,
          "level_1": 47,
          "name": 0
         },
         {
          "addr": 0,
          "city": 1,
          "level_0": 187,
          "level_1": 55,
          "name": 0
         },
         {
          "addr": 0,
          "city": 1,
          "level_0": 187,
          "level_1": 57,
          "name": 0
         },
         {
          "addr": 0,
          "city": 1,
          "level_0": 187,
          "level_1": 67,
          "name": 0
         },
         {
          "addr": 0,
          "city": 1,
          "level_0": 187,
          "level_1": 71,
          "name": 0
         },
         {
          "addr": 0,
          "city": 1,
          "level_0": 188,
          "level_1": 7,
          "name": 0
         },
         {
          "addr": 0,
          "city": 1,
          "level_0": 188,
          "level_1": 12,
          "name": 0
         },
         {
          "addr": 0,
          "city": 1,
          "level_0": 188,
          "level_1": 20,
          "name": 0
         },
         {
          "addr": 0,
          "city": 1,
          "level_0": 188,
          "level_1": 27,
          "name": 0
         },
         {
          "addr": 0,
          "city": 1,
          "level_0": 188,
          "level_1": 47,
          "name": 0
         },
         {
          "addr": 0,
          "city": 1,
          "level_0": 188,
          "level_1": 55,
          "name": 0
         },
         {
          "addr": 0,
          "city": 1,
          "level_0": 188,
          "level_1": 57,
          "name": 0
         },
         {
          "addr": 0,
          "city": 1,
          "level_0": 188,
          "level_1": 67,
          "name": 0
         },
         {
          "addr": 0,
          "city": 1,
          "level_0": 188,
          "level_1": 71,
          "name": 0
         },
         {
          "addr": 0,
          "city": 1,
          "level_0": 189,
          "level_1": 7,
          "name": 0
         },
         {
          "addr": 0,
          "city": 1,
          "level_0": 189,
          "level_1": 12,
          "name": 0
         },
         {
          "addr": 0,
          "city": 1,
          "level_0": 189,
          "level_1": 20,
          "name": 0
         },
         {
          "addr": 0,
          "city": 1,
          "level_0": 189,
          "level_1": 27,
          "name": 0
         },
         {
          "addr": 0,
          "city": 1,
          "level_0": 189,
          "level_1": 47,
          "name": 0
         },
         {
          "addr": 0,
          "city": 1,
          "level_0": 189,
          "level_1": 55,
          "name": 0
         },
         {
          "addr": 0,
          "city": 1,
          "level_0": 189,
          "level_1": 57,
          "name": 0
         },
         {
          "addr": 0,
          "city": 1,
          "level_0": 189,
          "level_1": 67,
          "name": 0
         },
         {
          "addr": 0,
          "city": 1,
          "level_0": 189,
          "level_1": 71,
          "name": 0
         },
         {
          "addr": 0,
          "city": 1,
          "level_0": 190,
          "level_1": 7,
          "name": 0
         },
         {
          "addr": 0,
          "city": 1,
          "level_0": 190,
          "level_1": 12,
          "name": 0
         },
         {
          "addr": 0,
          "city": 1,
          "level_0": 190,
          "level_1": 20,
          "name": 0
         },
         {
          "addr": 0,
          "city": 1,
          "level_0": 190,
          "level_1": 27,
          "name": 0
         },
         {
          "addr": 0,
          "city": 1,
          "level_0": 190,
          "level_1": 47,
          "name": 0
         },
         {
          "addr": 0,
          "city": 1,
          "level_0": 190,
          "level_1": 55,
          "name": 0
         },
         {
          "addr": 0,
          "city": 1,
          "level_0": 190,
          "level_1": 57,
          "name": 0
         },
         {
          "addr": 0,
          "city": 1,
          "level_0": 190,
          "level_1": 67,
          "name": 0
         },
         {
          "addr": 0,
          "city": 1,
          "level_0": 190,
          "level_1": 71,
          "name": 0
         },
         {
          "addr": 0,
          "city": 1,
          "level_0": 191,
          "level_1": 7,
          "name": 0
         },
         {
          "addr": 0,
          "city": 1,
          "level_0": 191,
          "level_1": 12,
          "name": 0
         },
         {
          "addr": 0,
          "city": 1,
          "level_0": 191,
          "level_1": 20,
          "name": 0
         },
         {
          "addr": 0,
          "city": 1,
          "level_0": 191,
          "level_1": 27,
          "name": 0
         },
         {
          "addr": 0,
          "city": 1,
          "level_0": 191,
          "level_1": 47,
          "name": 0
         },
         {
          "addr": 0,
          "city": 1,
          "level_0": 191,
          "level_1": 55,
          "name": 0
         },
         {
          "addr": 0,
          "city": 1,
          "level_0": 191,
          "level_1": 57,
          "name": 0
         },
         {
          "addr": 0,
          "city": 1,
          "level_0": 191,
          "level_1": 67,
          "name": 0
         },
         {
          "addr": 0,
          "city": 1,
          "level_0": 191,
          "level_1": 71,
          "name": 0
         },
         {
          "addr": 0,
          "city": 1,
          "level_0": 192,
          "level_1": 7,
          "name": 0
         },
         {
          "addr": 0,
          "city": 1,
          "level_0": 192,
          "level_1": 12,
          "name": 0
         },
         {
          "addr": 0,
          "city": 1,
          "level_0": 192,
          "level_1": 20,
          "name": 0
         },
         {
          "addr": 0,
          "city": 1,
          "level_0": 192,
          "level_1": 27,
          "name": 0
         },
         {
          "addr": 0,
          "city": 1,
          "level_0": 192,
          "level_1": 47,
          "name": 0
         },
         {
          "addr": 0,
          "city": 1,
          "level_0": 192,
          "level_1": 55,
          "name": 0
         },
         {
          "addr": 0,
          "city": 1,
          "level_0": 192,
          "level_1": 57,
          "name": 0
         },
         {
          "addr": 0,
          "city": 1,
          "level_0": 192,
          "level_1": 67,
          "name": 0
         },
         {
          "addr": 0,
          "city": 1,
          "level_0": 192,
          "level_1": 71,
          "name": 0
         },
         {
          "addr": 0,
          "city": 1,
          "level_0": 193,
          "level_1": 7,
          "name": 0
         },
         {
          "addr": 0,
          "city": 1,
          "level_0": 193,
          "level_1": 12,
          "name": 0
         },
         {
          "addr": 0,
          "city": 1,
          "level_0": 193,
          "level_1": 20,
          "name": 0
         },
         {
          "addr": 0,
          "city": 1,
          "level_0": 193,
          "level_1": 27,
          "name": 0
         },
         {
          "addr": 0,
          "city": 1,
          "level_0": 193,
          "level_1": 47,
          "name": 0
         },
         {
          "addr": 0,
          "city": 1,
          "level_0": 193,
          "level_1": 55,
          "name": 0
         },
         {
          "addr": 0,
          "city": 1,
          "level_0": 193,
          "level_1": 57,
          "name": 0
         },
         {
          "addr": 0,
          "city": 1,
          "level_0": 193,
          "level_1": 67,
          "name": 0
         },
         {
          "addr": 0,
          "city": 1,
          "level_0": 193,
          "level_1": 71,
          "name": 0
         },
         {
          "addr": 0,
          "city": 1,
          "level_0": 194,
          "level_1": 7,
          "name": 0
         },
         {
          "addr": 0,
          "city": 1,
          "level_0": 194,
          "level_1": 12,
          "name": 0
         },
         {
          "addr": 0,
          "city": 1,
          "level_0": 194,
          "level_1": 20,
          "name": 0
         },
         {
          "addr": 0,
          "city": 1,
          "level_0": 194,
          "level_1": 27,
          "name": 0
         },
         {
          "addr": 0,
          "city": 1,
          "level_0": 194,
          "level_1": 47,
          "name": 0
         },
         {
          "addr": 1,
          "city": 1,
          "level_0": 194,
          "level_1": 55,
          "name": 0
         },
         {
          "addr": 0,
          "city": 1,
          "level_0": 194,
          "level_1": 57,
          "name": 0
         },
         {
          "addr": 0,
          "city": 1,
          "level_0": 194,
          "level_1": 67,
          "name": 0
         },
         {
          "addr": 0,
          "city": 1,
          "level_0": 194,
          "level_1": 71,
          "name": 0
         },
         {
          "addr": 0,
          "city": 1,
          "level_0": 195,
          "level_1": 7,
          "name": 0
         },
         {
          "addr": 0,
          "city": 1,
          "level_0": 195,
          "level_1": 12,
          "name": 0
         },
         {
          "addr": 0,
          "city": 1,
          "level_0": 195,
          "level_1": 20,
          "name": 0
         },
         {
          "addr": 0,
          "city": 1,
          "level_0": 195,
          "level_1": 27,
          "name": 0
         },
         {
          "addr": 0,
          "city": 1,
          "level_0": 195,
          "level_1": 47,
          "name": 0
         },
         {
          "addr": 0,
          "city": 1,
          "level_0": 195,
          "level_1": 55,
          "name": 0
         },
         {
          "addr": 0,
          "city": 1,
          "level_0": 195,
          "level_1": 57,
          "name": 0
         },
         {
          "addr": 0,
          "city": 1,
          "level_0": 195,
          "level_1": 67,
          "name": 0
         },
         {
          "addr": 0,
          "city": 1,
          "level_0": 195,
          "level_1": 71,
          "name": 0
         },
         {
          "addr": 0,
          "city": 1,
          "level_0": 196,
          "level_1": 7,
          "name": 0
         },
         {
          "addr": 0,
          "city": 1,
          "level_0": 196,
          "level_1": 12,
          "name": 0
         },
         {
          "addr": 0,
          "city": 1,
          "level_0": 196,
          "level_1": 20,
          "name": 0
         },
         {
          "addr": 0,
          "city": 1,
          "level_0": 196,
          "level_1": 27,
          "name": 0
         },
         {
          "addr": 0,
          "city": 1,
          "level_0": 196,
          "level_1": 47,
          "name": 0
         },
         {
          "addr": 0,
          "city": 1,
          "level_0": 196,
          "level_1": 55,
          "name": 0
         },
         {
          "addr": 0,
          "city": 1,
          "level_0": 196,
          "level_1": 57,
          "name": 0
         },
         {
          "addr": 0,
          "city": 1,
          "level_0": 196,
          "level_1": 67,
          "name": 0
         },
         {
          "addr": 0,
          "city": 1,
          "level_0": 196,
          "level_1": 71,
          "name": 0
         },
         {
          "addr": 0,
          "city": 1,
          "level_0": 197,
          "level_1": 7,
          "name": 0
         },
         {
          "addr": 0,
          "city": 1,
          "level_0": 197,
          "level_1": 12,
          "name": 0
         },
         {
          "addr": 0,
          "city": 1,
          "level_0": 197,
          "level_1": 20,
          "name": 0
         },
         {
          "addr": 0,
          "city": 1,
          "level_0": 197,
          "level_1": 27,
          "name": 0
         },
         {
          "addr": 0,
          "city": 1,
          "level_0": 197,
          "level_1": 47,
          "name": 0
         },
         {
          "addr": 0,
          "city": 1,
          "level_0": 197,
          "level_1": 55,
          "name": 0
         },
         {
          "addr": 0,
          "city": 1,
          "level_0": 197,
          "level_1": 57,
          "name": 0
         },
         {
          "addr": 0,
          "city": 1,
          "level_0": 197,
          "level_1": 67,
          "name": 0
         },
         {
          "addr": 0,
          "city": 1,
          "level_0": 197,
          "level_1": 71,
          "name": 0
         },
         {
          "addr": 0,
          "city": 1,
          "level_0": 198,
          "level_1": 7,
          "name": 0
         },
         {
          "addr": 0,
          "city": 1,
          "level_0": 198,
          "level_1": 12,
          "name": 0
         },
         {
          "addr": 0,
          "city": 1,
          "level_0": 198,
          "level_1": 20,
          "name": 0
         },
         {
          "addr": 0,
          "city": 1,
          "level_0": 198,
          "level_1": 27,
          "name": 0
         },
         {
          "addr": 0,
          "city": 1,
          "level_0": 198,
          "level_1": 47,
          "name": 0
         },
         {
          "addr": 0,
          "city": 1,
          "level_0": 198,
          "level_1": 55,
          "name": 0
         },
         {
          "addr": 0,
          "city": 1,
          "level_0": 198,
          "level_1": 57,
          "name": 0
         },
         {
          "addr": 0,
          "city": 1,
          "level_0": 198,
          "level_1": 67,
          "name": 0
         },
         {
          "addr": 0,
          "city": 1,
          "level_0": 198,
          "level_1": 71,
          "name": 0
         },
         {
          "addr": 1,
          "city": 1,
          "level_0": 199,
          "level_1": 7,
          "name": 0
         },
         {
          "addr": 0,
          "city": 1,
          "level_0": 199,
          "level_1": 12,
          "name": 0
         },
         {
          "addr": 0,
          "city": 1,
          "level_0": 199,
          "level_1": 20,
          "name": 0
         },
         {
          "addr": 0,
          "city": 1,
          "level_0": 199,
          "level_1": 27,
          "name": 0
         },
         {
          "addr": 0,
          "city": 1,
          "level_0": 199,
          "level_1": 47,
          "name": 0
         },
         {
          "addr": 0,
          "city": 1,
          "level_0": 199,
          "level_1": 55,
          "name": 0
         },
         {
          "addr": 0,
          "city": 1,
          "level_0": 199,
          "level_1": 57,
          "name": 0
         },
         {
          "addr": 0,
          "city": 1,
          "level_0": 199,
          "level_1": 67,
          "name": 0
         },
         {
          "addr": 0,
          "city": 1,
          "level_0": 199,
          "level_1": 71,
          "name": 0
         },
         {
          "addr": 0,
          "city": 1,
          "level_0": 200,
          "level_1": 7,
          "name": 0
         },
         {
          "addr": 0,
          "city": 1,
          "level_0": 200,
          "level_1": 12,
          "name": 0
         },
         {
          "addr": 0,
          "city": 1,
          "level_0": 200,
          "level_1": 20,
          "name": 0
         },
         {
          "addr": 0,
          "city": 1,
          "level_0": 200,
          "level_1": 27,
          "name": 0
         },
         {
          "addr": 0,
          "city": 1,
          "level_0": 200,
          "level_1": 47,
          "name": 0
         },
         {
          "addr": 0,
          "city": 1,
          "level_0": 200,
          "level_1": 55,
          "name": 0
         },
         {
          "addr": 0,
          "city": 1,
          "level_0": 200,
          "level_1": 57,
          "name": 0
         },
         {
          "addr": 0,
          "city": 1,
          "level_0": 200,
          "level_1": 67,
          "name": 0
         },
         {
          "addr": 0,
          "city": 1,
          "level_0": 200,
          "level_1": 71,
          "name": 0
         },
         {
          "addr": 0,
          "city": 1,
          "level_0": 201,
          "level_1": 7,
          "name": 0
         },
         {
          "addr": 0,
          "city": 1,
          "level_0": 201,
          "level_1": 12,
          "name": 0
         },
         {
          "addr": 0,
          "city": 1,
          "level_0": 201,
          "level_1": 20,
          "name": 0
         },
         {
          "addr": 1,
          "city": 1,
          "level_0": 201,
          "level_1": 27,
          "name": 0
         },
         {
          "addr": 0,
          "city": 1,
          "level_0": 201,
          "level_1": 47,
          "name": 0
         },
         {
          "addr": 0,
          "city": 1,
          "level_0": 201,
          "level_1": 55,
          "name": 0
         },
         {
          "addr": 0,
          "city": 1,
          "level_0": 201,
          "level_1": 57,
          "name": 0
         },
         {
          "addr": 0,
          "city": 1,
          "level_0": 201,
          "level_1": 67,
          "name": 0
         },
         {
          "addr": 0,
          "city": 1,
          "level_0": 201,
          "level_1": 71,
          "name": 0
         },
         {
          "addr": 0,
          "city": 1,
          "level_0": 202,
          "level_1": 7,
          "name": 0
         },
         {
          "addr": 0,
          "city": 1,
          "level_0": 202,
          "level_1": 12,
          "name": 0
         },
         {
          "addr": 0,
          "city": 1,
          "level_0": 202,
          "level_1": 20,
          "name": 0
         },
         {
          "addr": 0,
          "city": 1,
          "level_0": 202,
          "level_1": 27,
          "name": 0
         },
         {
          "addr": 0,
          "city": 1,
          "level_0": 202,
          "level_1": 47,
          "name": 0
         },
         {
          "addr": 0,
          "city": 1,
          "level_0": 202,
          "level_1": 55,
          "name": 0
         },
         {
          "addr": 0,
          "city": 1,
          "level_0": 202,
          "level_1": 57,
          "name": 0
         },
         {
          "addr": 0,
          "city": 1,
          "level_0": 202,
          "level_1": 67,
          "name": 0
         },
         {
          "addr": 0,
          "city": 1,
          "level_0": 202,
          "level_1": 71,
          "name": 0
         },
         {
          "addr": 0,
          "city": 1,
          "level_0": 203,
          "level_1": 7,
          "name": 0
         },
         {
          "addr": 0,
          "city": 1,
          "level_0": 203,
          "level_1": 12,
          "name": 0
         },
         {
          "addr": 0,
          "city": 1,
          "level_0": 203,
          "level_1": 20,
          "name": 0
         },
         {
          "addr": 0,
          "city": 1,
          "level_0": 203,
          "level_1": 27,
          "name": 0
         },
         {
          "addr": 0,
          "city": 1,
          "level_0": 203,
          "level_1": 47,
          "name": 0
         },
         {
          "addr": 0,
          "city": 1,
          "level_0": 203,
          "level_1": 55,
          "name": 0
         },
         {
          "addr": 0,
          "city": 1,
          "level_0": 203,
          "level_1": 57,
          "name": 0
         },
         {
          "addr": 0,
          "city": 1,
          "level_0": 203,
          "level_1": 67,
          "name": 0
         },
         {
          "addr": 0,
          "city": 1,
          "level_0": 203,
          "level_1": 71,
          "name": 0
         },
         {
          "addr": 0,
          "city": 1,
          "level_0": 204,
          "level_1": 7,
          "name": 0
         },
         {
          "addr": 0,
          "city": 1,
          "level_0": 204,
          "level_1": 12,
          "name": 0
         },
         {
          "addr": 0,
          "city": 1,
          "level_0": 204,
          "level_1": 20,
          "name": 0
         },
         {
          "addr": 0,
          "city": 1,
          "level_0": 204,
          "level_1": 27,
          "name": 0
         },
         {
          "addr": 0,
          "city": 1,
          "level_0": 204,
          "level_1": 47,
          "name": 0
         },
         {
          "addr": 0,
          "city": 1,
          "level_0": 204,
          "level_1": 55,
          "name": 0
         },
         {
          "addr": 0,
          "city": 1,
          "level_0": 204,
          "level_1": 57,
          "name": 0
         },
         {
          "addr": 0,
          "city": 1,
          "level_0": 204,
          "level_1": 67,
          "name": 0
         },
         {
          "addr": 0,
          "city": 1,
          "level_0": 204,
          "level_1": 71,
          "name": 0
         },
         {
          "addr": 0,
          "city": 1,
          "level_0": 205,
          "level_1": 7,
          "name": 0
         },
         {
          "addr": 0,
          "city": 1,
          "level_0": 205,
          "level_1": 12,
          "name": 0
         },
         {
          "addr": 0,
          "city": 1,
          "level_0": 205,
          "level_1": 20,
          "name": 0
         },
         {
          "addr": 0,
          "city": 1,
          "level_0": 205,
          "level_1": 27,
          "name": 0
         },
         {
          "addr": 0,
          "city": 1,
          "level_0": 205,
          "level_1": 47,
          "name": 0
         },
         {
          "addr": 0,
          "city": 1,
          "level_0": 205,
          "level_1": 55,
          "name": 0
         },
         {
          "addr": 0,
          "city": 1,
          "level_0": 205,
          "level_1": 57,
          "name": 0
         },
         {
          "addr": 0,
          "city": 1,
          "level_0": 205,
          "level_1": 67,
          "name": 0
         },
         {
          "addr": 0,
          "city": 1,
          "level_0": 205,
          "level_1": 71,
          "name": 0
         },
         {
          "addr": 0,
          "city": 1,
          "level_0": 206,
          "level_1": 7,
          "name": 0
         },
         {
          "addr": 0,
          "city": 1,
          "level_0": 206,
          "level_1": 12,
          "name": 0
         },
         {
          "addr": 0,
          "city": 1,
          "level_0": 206,
          "level_1": 20,
          "name": 0
         },
         {
          "addr": 0,
          "city": 1,
          "level_0": 206,
          "level_1": 27,
          "name": 0
         },
         {
          "addr": 0,
          "city": 1,
          "level_0": 206,
          "level_1": 47,
          "name": 0
         },
         {
          "addr": 0,
          "city": 1,
          "level_0": 206,
          "level_1": 55,
          "name": 0
         },
         {
          "addr": 0,
          "city": 1,
          "level_0": 206,
          "level_1": 57,
          "name": 0
         },
         {
          "addr": 0,
          "city": 1,
          "level_0": 206,
          "level_1": 67,
          "name": 0
         },
         {
          "addr": 0,
          "city": 1,
          "level_0": 206,
          "level_1": 71,
          "name": 0
         },
         {
          "addr": 0,
          "city": 1,
          "level_0": 207,
          "level_1": 7,
          "name": 0
         },
         {
          "addr": 0,
          "city": 1,
          "level_0": 207,
          "level_1": 12,
          "name": 0
         },
         {
          "addr": 0,
          "city": 1,
          "level_0": 207,
          "level_1": 20,
          "name": 0
         },
         {
          "addr": 0,
          "city": 1,
          "level_0": 207,
          "level_1": 27,
          "name": 0
         },
         {
          "addr": 0,
          "city": 1,
          "level_0": 207,
          "level_1": 47,
          "name": 0
         },
         {
          "addr": 0,
          "city": 1,
          "level_0": 207,
          "level_1": 55,
          "name": 0
         },
         {
          "addr": 0,
          "city": 1,
          "level_0": 207,
          "level_1": 57,
          "name": 0
         },
         {
          "addr": 0,
          "city": 1,
          "level_0": 207,
          "level_1": 67,
          "name": 0
         },
         {
          "addr": 0,
          "city": 1,
          "level_0": 207,
          "level_1": 71,
          "name": 0
         },
         {
          "addr": 0,
          "city": 1,
          "level_0": 208,
          "level_1": 7,
          "name": 0
         },
         {
          "addr": 0,
          "city": 1,
          "level_0": 208,
          "level_1": 12,
          "name": 0
         },
         {
          "addr": 0,
          "city": 1,
          "level_0": 208,
          "level_1": 20,
          "name": 0
         },
         {
          "addr": 0,
          "city": 1,
          "level_0": 208,
          "level_1": 27,
          "name": 0
         },
         {
          "addr": 0,
          "city": 1,
          "level_0": 208,
          "level_1": 47,
          "name": 0
         },
         {
          "addr": 0,
          "city": 1,
          "level_0": 208,
          "level_1": 55,
          "name": 0
         },
         {
          "addr": 0,
          "city": 1,
          "level_0": 208,
          "level_1": 57,
          "name": 0
         },
         {
          "addr": 1,
          "city": 1,
          "level_0": 208,
          "level_1": 67,
          "name": 0
         },
         {
          "addr": 0,
          "city": 1,
          "level_0": 208,
          "level_1": 71,
          "name": 0
         },
         {
          "addr": 0,
          "city": 1,
          "level_0": 209,
          "level_1": 7,
          "name": 0
         },
         {
          "addr": 0,
          "city": 1,
          "level_0": 209,
          "level_1": 12,
          "name": 0
         },
         {
          "addr": 0,
          "city": 1,
          "level_0": 209,
          "level_1": 20,
          "name": 0
         },
         {
          "addr": 0,
          "city": 1,
          "level_0": 209,
          "level_1": 27,
          "name": 0
         },
         {
          "addr": 0,
          "city": 1,
          "level_0": 209,
          "level_1": 47,
          "name": 0
         },
         {
          "addr": 0,
          "city": 1,
          "level_0": 209,
          "level_1": 55,
          "name": 0
         },
         {
          "addr": 0,
          "city": 1,
          "level_0": 209,
          "level_1": 57,
          "name": 0
         },
         {
          "addr": 0,
          "city": 1,
          "level_0": 209,
          "level_1": 67,
          "name": 0
         },
         {
          "addr": 0,
          "city": 1,
          "level_0": 209,
          "level_1": 71,
          "name": 0
         },
         {
          "addr": 0,
          "city": 1,
          "level_0": 210,
          "level_1": 7,
          "name": 0
         },
         {
          "addr": 0,
          "city": 1,
          "level_0": 210,
          "level_1": 12,
          "name": 0
         },
         {
          "addr": 0,
          "city": 1,
          "level_0": 210,
          "level_1": 20,
          "name": 0
         },
         {
          "addr": 0,
          "city": 1,
          "level_0": 210,
          "level_1": 27,
          "name": 0
         },
         {
          "addr": 0,
          "city": 1,
          "level_0": 210,
          "level_1": 47,
          "name": 0
         },
         {
          "addr": 0,
          "city": 1,
          "level_0": 210,
          "level_1": 55,
          "name": 0
         },
         {
          "addr": 0,
          "city": 1,
          "level_0": 210,
          "level_1": 57,
          "name": 0
         },
         {
          "addr": 0,
          "city": 1,
          "level_0": 210,
          "level_1": 67,
          "name": 0
         },
         {
          "addr": 0,
          "city": 1,
          "level_0": 210,
          "level_1": 71,
          "name": 0
         },
         {
          "addr": 0,
          "city": 1,
          "level_0": 211,
          "level_1": 7,
          "name": 0
         },
         {
          "addr": 0,
          "city": 1,
          "level_0": 211,
          "level_1": 12,
          "name": 0
         },
         {
          "addr": 0,
          "city": 1,
          "level_0": 211,
          "level_1": 20,
          "name": 0
         },
         {
          "addr": 0,
          "city": 1,
          "level_0": 211,
          "level_1": 27,
          "name": 0
         },
         {
          "addr": 0,
          "city": 1,
          "level_0": 211,
          "level_1": 47,
          "name": 0
         },
         {
          "addr": 0,
          "city": 1,
          "level_0": 211,
          "level_1": 55,
          "name": 0
         },
         {
          "addr": 0,
          "city": 1,
          "level_0": 211,
          "level_1": 57,
          "name": 0
         },
         {
          "addr": 0,
          "city": 1,
          "level_0": 211,
          "level_1": 67,
          "name": 0
         },
         {
          "addr": 0,
          "city": 1,
          "level_0": 211,
          "level_1": 71,
          "name": 0
         },
         {
          "addr": 0,
          "city": 1,
          "level_0": 212,
          "level_1": 7,
          "name": 0
         },
         {
          "addr": 0,
          "city": 1,
          "level_0": 212,
          "level_1": 12,
          "name": 0
         },
         {
          "addr": 0,
          "city": 1,
          "level_0": 212,
          "level_1": 20,
          "name": 0
         },
         {
          "addr": 0,
          "city": 1,
          "level_0": 212,
          "level_1": 27,
          "name": 0
         },
         {
          "addr": 0,
          "city": 1,
          "level_0": 212,
          "level_1": 47,
          "name": 0
         },
         {
          "addr": 0,
          "city": 1,
          "level_0": 212,
          "level_1": 55,
          "name": 0
         },
         {
          "addr": 0,
          "city": 1,
          "level_0": 212,
          "level_1": 57,
          "name": 0
         },
         {
          "addr": 0,
          "city": 1,
          "level_0": 212,
          "level_1": 67,
          "name": 0
         },
         {
          "addr": 0,
          "city": 1,
          "level_0": 212,
          "level_1": 71,
          "name": 0
         },
         {
          "addr": 0,
          "city": 1,
          "level_0": 213,
          "level_1": 7,
          "name": 0
         },
         {
          "addr": 0,
          "city": 1,
          "level_0": 213,
          "level_1": 12,
          "name": 0
         },
         {
          "addr": 0,
          "city": 1,
          "level_0": 213,
          "level_1": 20,
          "name": 0
         },
         {
          "addr": 0,
          "city": 1,
          "level_0": 213,
          "level_1": 27,
          "name": 0
         },
         {
          "addr": 0,
          "city": 1,
          "level_0": 213,
          "level_1": 47,
          "name": 0
         },
         {
          "addr": 0,
          "city": 1,
          "level_0": 213,
          "level_1": 55,
          "name": 0
         },
         {
          "addr": 0,
          "city": 1,
          "level_0": 213,
          "level_1": 57,
          "name": 0
         },
         {
          "addr": 0,
          "city": 1,
          "level_0": 213,
          "level_1": 67,
          "name": 0
         },
         {
          "addr": 0,
          "city": 1,
          "level_0": 213,
          "level_1": 71,
          "name": 0
         },
         {
          "addr": 0,
          "city": 1,
          "level_0": 214,
          "level_1": 7,
          "name": 0
         },
         {
          "addr": 0,
          "city": 1,
          "level_0": 214,
          "level_1": 12,
          "name": 0
         },
         {
          "addr": 0,
          "city": 1,
          "level_0": 214,
          "level_1": 20,
          "name": 0
         },
         {
          "addr": 0,
          "city": 1,
          "level_0": 214,
          "level_1": 27,
          "name": 0
         },
         {
          "addr": 0,
          "city": 1,
          "level_0": 214,
          "level_1": 47,
          "name": 0
         },
         {
          "addr": 0,
          "city": 1,
          "level_0": 214,
          "level_1": 55,
          "name": 0
         },
         {
          "addr": 0,
          "city": 1,
          "level_0": 214,
          "level_1": 57,
          "name": 0
         },
         {
          "addr": 0,
          "city": 1,
          "level_0": 214,
          "level_1": 67,
          "name": 0
         },
         {
          "addr": 0,
          "city": 1,
          "level_0": 214,
          "level_1": 71,
          "name": 0
         },
         {
          "addr": 0,
          "city": 1,
          "level_0": 215,
          "level_1": 7,
          "name": 0
         },
         {
          "addr": 0,
          "city": 1,
          "level_0": 215,
          "level_1": 12,
          "name": 0
         },
         {
          "addr": 0,
          "city": 1,
          "level_0": 215,
          "level_1": 20,
          "name": 0
         },
         {
          "addr": 0,
          "city": 1,
          "level_0": 215,
          "level_1": 27,
          "name": 0
         },
         {
          "addr": 0,
          "city": 1,
          "level_0": 215,
          "level_1": 47,
          "name": 0
         },
         {
          "addr": 0,
          "city": 1,
          "level_0": 215,
          "level_1": 55,
          "name": 0
         },
         {
          "addr": 0,
          "city": 1,
          "level_0": 215,
          "level_1": 57,
          "name": 0
         },
         {
          "addr": 0,
          "city": 1,
          "level_0": 215,
          "level_1": 67,
          "name": 0
         },
         {
          "addr": 0,
          "city": 1,
          "level_0": 215,
          "level_1": 71,
          "name": 0
         },
         {
          "addr": 0,
          "city": 1,
          "level_0": 216,
          "level_1": 7,
          "name": 0
         },
         {
          "addr": 0,
          "city": 1,
          "level_0": 216,
          "level_1": 12,
          "name": 0
         },
         {
          "addr": 0,
          "city": 1,
          "level_0": 216,
          "level_1": 20,
          "name": 0
         },
         {
          "addr": 0,
          "city": 1,
          "level_0": 216,
          "level_1": 27,
          "name": 0
         },
         {
          "addr": 0,
          "city": 1,
          "level_0": 216,
          "level_1": 47,
          "name": 0
         },
         {
          "addr": 0,
          "city": 1,
          "level_0": 216,
          "level_1": 55,
          "name": 0
         },
         {
          "addr": 0,
          "city": 1,
          "level_0": 216,
          "level_1": 57,
          "name": 0
         },
         {
          "addr": 0,
          "city": 1,
          "level_0": 216,
          "level_1": 67,
          "name": 0
         },
         {
          "addr": 0,
          "city": 1,
          "level_0": 216,
          "level_1": 71,
          "name": 0
         },
         {
          "addr": 0,
          "city": 1,
          "level_0": 217,
          "level_1": 7,
          "name": 0
         },
         {
          "addr": 0,
          "city": 1,
          "level_0": 217,
          "level_1": 12,
          "name": 0
         },
         {
          "addr": 0,
          "city": 1,
          "level_0": 217,
          "level_1": 20,
          "name": 0
         },
         {
          "addr": 0,
          "city": 1,
          "level_0": 217,
          "level_1": 27,
          "name": 0
         },
         {
          "addr": 0,
          "city": 1,
          "level_0": 217,
          "level_1": 47,
          "name": 0
         },
         {
          "addr": 0,
          "city": 1,
          "level_0": 217,
          "level_1": 55,
          "name": 0
         },
         {
          "addr": 0,
          "city": 1,
          "level_0": 217,
          "level_1": 57,
          "name": 0
         },
         {
          "addr": 0,
          "city": 1,
          "level_0": 217,
          "level_1": 67,
          "name": 0
         },
         {
          "addr": 0,
          "city": 1,
          "level_0": 217,
          "level_1": 71,
          "name": 0
         },
         {
          "addr": 0,
          "city": 1,
          "level_0": 218,
          "level_1": 7,
          "name": 0
         },
         {
          "addr": 0,
          "city": 1,
          "level_0": 218,
          "level_1": 12,
          "name": 0
         },
         {
          "addr": 0,
          "city": 1,
          "level_0": 218,
          "level_1": 20,
          "name": 0
         },
         {
          "addr": 0,
          "city": 1,
          "level_0": 218,
          "level_1": 27,
          "name": 0
         },
         {
          "addr": 0,
          "city": 1,
          "level_0": 218,
          "level_1": 47,
          "name": 0
         },
         {
          "addr": 0,
          "city": 1,
          "level_0": 218,
          "level_1": 55,
          "name": 0
         },
         {
          "addr": 0,
          "city": 1,
          "level_0": 218,
          "level_1": 57,
          "name": 0
         },
         {
          "addr": 0,
          "city": 1,
          "level_0": 218,
          "level_1": 67,
          "name": 0
         },
         {
          "addr": 0,
          "city": 1,
          "level_0": 218,
          "level_1": 71,
          "name": 0
         },
         {
          "addr": 0,
          "city": 1,
          "level_0": 219,
          "level_1": 7,
          "name": 0
         },
         {
          "addr": 0,
          "city": 1,
          "level_0": 219,
          "level_1": 12,
          "name": 0
         },
         {
          "addr": 0,
          "city": 1,
          "level_0": 219,
          "level_1": 20,
          "name": 0
         },
         {
          "addr": 0,
          "city": 1,
          "level_0": 219,
          "level_1": 27,
          "name": 0
         },
         {
          "addr": 0,
          "city": 1,
          "level_0": 219,
          "level_1": 47,
          "name": 0
         },
         {
          "addr": 0,
          "city": 1,
          "level_0": 219,
          "level_1": 55,
          "name": 0
         },
         {
          "addr": 0,
          "city": 1,
          "level_0": 219,
          "level_1": 57,
          "name": 0
         },
         {
          "addr": 0,
          "city": 1,
          "level_0": 219,
          "level_1": 67,
          "name": 0
         },
         {
          "addr": 0,
          "city": 1,
          "level_0": 219,
          "level_1": 71,
          "name": 0
         },
         {
          "addr": 0,
          "city": 1,
          "level_0": 220,
          "level_1": 7,
          "name": 0
         },
         {
          "addr": 0,
          "city": 1,
          "level_0": 220,
          "level_1": 12,
          "name": 0
         },
         {
          "addr": 0,
          "city": 1,
          "level_0": 220,
          "level_1": 20,
          "name": 0
         },
         {
          "addr": 1,
          "city": 1,
          "level_0": 220,
          "level_1": 27,
          "name": 0
         },
         {
          "addr": 0,
          "city": 1,
          "level_0": 220,
          "level_1": 47,
          "name": 0
         },
         {
          "addr": 0,
          "city": 1,
          "level_0": 220,
          "level_1": 55,
          "name": 0
         },
         {
          "addr": 0,
          "city": 1,
          "level_0": 220,
          "level_1": 57,
          "name": 0
         },
         {
          "addr": 0,
          "city": 1,
          "level_0": 220,
          "level_1": 67,
          "name": 0
         },
         {
          "addr": 0,
          "city": 1,
          "level_0": 220,
          "level_1": 71,
          "name": 0
         },
         {
          "addr": 0,
          "city": 1,
          "level_0": 221,
          "level_1": 7,
          "name": 0
         },
         {
          "addr": 0,
          "city": 1,
          "level_0": 221,
          "level_1": 12,
          "name": 0
         },
         {
          "addr": 0,
          "city": 1,
          "level_0": 221,
          "level_1": 20,
          "name": 0
         },
         {
          "addr": 0,
          "city": 1,
          "level_0": 221,
          "level_1": 27,
          "name": 0
         },
         {
          "addr": 0,
          "city": 1,
          "level_0": 221,
          "level_1": 47,
          "name": 0
         },
         {
          "addr": 0,
          "city": 1,
          "level_0": 221,
          "level_1": 55,
          "name": 0
         },
         {
          "addr": 0,
          "city": 1,
          "level_0": 221,
          "level_1": 57,
          "name": 0
         },
         {
          "addr": 0,
          "city": 1,
          "level_0": 221,
          "level_1": 67,
          "name": 0
         },
         {
          "addr": 0,
          "city": 1,
          "level_0": 221,
          "level_1": 71,
          "name": 0
         },
         {
          "addr": 0,
          "city": 1,
          "level_0": 222,
          "level_1": 7,
          "name": 0
         },
         {
          "addr": 0,
          "city": 1,
          "level_0": 222,
          "level_1": 12,
          "name": 0
         },
         {
          "addr": 0,
          "city": 1,
          "level_0": 222,
          "level_1": 20,
          "name": 0
         },
         {
          "addr": 0,
          "city": 1,
          "level_0": 222,
          "level_1": 27,
          "name": 0
         },
         {
          "addr": 0,
          "city": 1,
          "level_0": 222,
          "level_1": 47,
          "name": 0
         },
         {
          "addr": 0,
          "city": 1,
          "level_0": 222,
          "level_1": 55,
          "name": 0
         },
         {
          "addr": 0,
          "city": 1,
          "level_0": 222,
          "level_1": 57,
          "name": 0
         },
         {
          "addr": 0,
          "city": 1,
          "level_0": 222,
          "level_1": 67,
          "name": 0
         },
         {
          "addr": 0,
          "city": 1,
          "level_0": 222,
          "level_1": 71,
          "name": 0
         },
         {
          "addr": 0,
          "city": 1,
          "level_0": 223,
          "level_1": 7,
          "name": 0
         },
         {
          "addr": 0,
          "city": 1,
          "level_0": 223,
          "level_1": 12,
          "name": 0
         },
         {
          "addr": 0,
          "city": 1,
          "level_0": 223,
          "level_1": 20,
          "name": 0
         },
         {
          "addr": 0,
          "city": 1,
          "level_0": 223,
          "level_1": 27,
          "name": 0
         },
         {
          "addr": 0,
          "city": 1,
          "level_0": 223,
          "level_1": 47,
          "name": 0
         },
         {
          "addr": 0,
          "city": 1,
          "level_0": 223,
          "level_1": 55,
          "name": 0
         },
         {
          "addr": 0,
          "city": 1,
          "level_0": 223,
          "level_1": 57,
          "name": 0
         },
         {
          "addr": 0,
          "city": 1,
          "level_0": 223,
          "level_1": 67,
          "name": 0
         },
         {
          "addr": 0,
          "city": 1,
          "level_0": 223,
          "level_1": 71,
          "name": 0
         },
         {
          "addr": 0,
          "city": 1,
          "level_0": 224,
          "level_1": 7,
          "name": 0
         },
         {
          "addr": 0,
          "city": 1,
          "level_0": 224,
          "level_1": 12,
          "name": 0
         },
         {
          "addr": 0,
          "city": 1,
          "level_0": 224,
          "level_1": 20,
          "name": 0
         },
         {
          "addr": 0,
          "city": 1,
          "level_0": 224,
          "level_1": 27,
          "name": 0
         },
         {
          "addr": 0,
          "city": 1,
          "level_0": 224,
          "level_1": 47,
          "name": 0
         },
         {
          "addr": 0,
          "city": 1,
          "level_0": 224,
          "level_1": 55,
          "name": 0
         },
         {
          "addr": 0,
          "city": 1,
          "level_0": 224,
          "level_1": 57,
          "name": 0
         },
         {
          "addr": 0,
          "city": 1,
          "level_0": 224,
          "level_1": 67,
          "name": 0
         },
         {
          "addr": 0,
          "city": 1,
          "level_0": 224,
          "level_1": 71,
          "name": 0
         },
         {
          "addr": 0,
          "city": 1,
          "level_0": 225,
          "level_1": 7,
          "name": 0
         },
         {
          "addr": 0,
          "city": 1,
          "level_0": 225,
          "level_1": 12,
          "name": 0
         },
         {
          "addr": 0,
          "city": 1,
          "level_0": 225,
          "level_1": 20,
          "name": 0
         },
         {
          "addr": 0,
          "city": 1,
          "level_0": 225,
          "level_1": 27,
          "name": 0
         },
         {
          "addr": 0,
          "city": 1,
          "level_0": 225,
          "level_1": 47,
          "name": 0
         },
         {
          "addr": 0,
          "city": 1,
          "level_0": 225,
          "level_1": 55,
          "name": 0
         },
         {
          "addr": 0,
          "city": 1,
          "level_0": 225,
          "level_1": 57,
          "name": 0
         },
         {
          "addr": 0,
          "city": 1,
          "level_0": 225,
          "level_1": 67,
          "name": 0
         },
         {
          "addr": 0,
          "city": 1,
          "level_0": 225,
          "level_1": 71,
          "name": 0
         },
         {
          "addr": 0,
          "city": 1,
          "level_0": 226,
          "level_1": 7,
          "name": 0
         },
         {
          "addr": 0,
          "city": 1,
          "level_0": 226,
          "level_1": 12,
          "name": 0
         },
         {
          "addr": 0,
          "city": 1,
          "level_0": 226,
          "level_1": 20,
          "name": 0
         },
         {
          "addr": 0,
          "city": 1,
          "level_0": 226,
          "level_1": 27,
          "name": 0
         },
         {
          "addr": 0,
          "city": 1,
          "level_0": 226,
          "level_1": 47,
          "name": 0
         },
         {
          "addr": 0,
          "city": 1,
          "level_0": 226,
          "level_1": 55,
          "name": 0
         },
         {
          "addr": 0,
          "city": 1,
          "level_0": 226,
          "level_1": 57,
          "name": 0
         },
         {
          "addr": 0,
          "city": 1,
          "level_0": 226,
          "level_1": 67,
          "name": 0
         },
         {
          "addr": 0,
          "city": 1,
          "level_0": 226,
          "level_1": 71,
          "name": 0
         },
         {
          "addr": 0,
          "city": 1,
          "level_0": 227,
          "level_1": 7,
          "name": 0
         },
         {
          "addr": 0,
          "city": 1,
          "level_0": 227,
          "level_1": 12,
          "name": 0
         },
         {
          "addr": 0,
          "city": 1,
          "level_0": 227,
          "level_1": 20,
          "name": 0
         },
         {
          "addr": 0,
          "city": 1,
          "level_0": 227,
          "level_1": 27,
          "name": 0
         },
         {
          "addr": 0,
          "city": 1,
          "level_0": 227,
          "level_1": 47,
          "name": 0
         },
         {
          "addr": 0,
          "city": 1,
          "level_0": 227,
          "level_1": 55,
          "name": 0
         },
         {
          "addr": 0,
          "city": 1,
          "level_0": 227,
          "level_1": 57,
          "name": 0
         },
         {
          "addr": 0,
          "city": 1,
          "level_0": 227,
          "level_1": 67,
          "name": 0
         },
         {
          "addr": 0,
          "city": 1,
          "level_0": 227,
          "level_1": 71,
          "name": 0
         },
         {
          "addr": 0,
          "city": 1,
          "level_0": 228,
          "level_1": 7,
          "name": 0
         },
         {
          "addr": 0,
          "city": 1,
          "level_0": 228,
          "level_1": 12,
          "name": 0
         },
         {
          "addr": 0,
          "city": 1,
          "level_0": 228,
          "level_1": 20,
          "name": 0
         },
         {
          "addr": 0,
          "city": 1,
          "level_0": 228,
          "level_1": 27,
          "name": 0
         },
         {
          "addr": 0,
          "city": 1,
          "level_0": 228,
          "level_1": 47,
          "name": 0
         },
         {
          "addr": 0,
          "city": 1,
          "level_0": 228,
          "level_1": 55,
          "name": 0
         },
         {
          "addr": 0,
          "city": 1,
          "level_0": 228,
          "level_1": 57,
          "name": 0
         },
         {
          "addr": 0,
          "city": 1,
          "level_0": 228,
          "level_1": 67,
          "name": 0
         },
         {
          "addr": 0,
          "city": 1,
          "level_0": 228,
          "level_1": 71,
          "name": 0
         },
         {
          "addr": 0,
          "city": 1,
          "level_0": 229,
          "level_1": 7,
          "name": 0
         },
         {
          "addr": 0,
          "city": 1,
          "level_0": 229,
          "level_1": 12,
          "name": 0
         },
         {
          "addr": 0,
          "city": 1,
          "level_0": 229,
          "level_1": 20,
          "name": 0
         },
         {
          "addr": 0,
          "city": 1,
          "level_0": 229,
          "level_1": 27,
          "name": 0
         },
         {
          "addr": 0,
          "city": 1,
          "level_0": 229,
          "level_1": 47,
          "name": 0
         },
         {
          "addr": 0,
          "city": 1,
          "level_0": 229,
          "level_1": 55,
          "name": 0
         },
         {
          "addr": 0,
          "city": 1,
          "level_0": 229,
          "level_1": 57,
          "name": 0
         },
         {
          "addr": 0,
          "city": 1,
          "level_0": 229,
          "level_1": 67,
          "name": 0
         },
         {
          "addr": 0,
          "city": 1,
          "level_0": 229,
          "level_1": 71,
          "name": 0
         },
         {
          "addr": 0,
          "city": 1,
          "level_0": 230,
          "level_1": 7,
          "name": 0
         },
         {
          "addr": 0,
          "city": 1,
          "level_0": 230,
          "level_1": 12,
          "name": 0
         },
         {
          "addr": 0,
          "city": 1,
          "level_0": 230,
          "level_1": 20,
          "name": 0
         },
         {
          "addr": 0,
          "city": 1,
          "level_0": 230,
          "level_1": 27,
          "name": 0
         },
         {
          "addr": 0,
          "city": 1,
          "level_0": 230,
          "level_1": 47,
          "name": 0
         },
         {
          "addr": 0,
          "city": 1,
          "level_0": 230,
          "level_1": 55,
          "name": 0
         },
         {
          "addr": 0,
          "city": 1,
          "level_0": 230,
          "level_1": 57,
          "name": 0
         },
         {
          "addr": 0,
          "city": 1,
          "level_0": 230,
          "level_1": 67,
          "name": 0
         },
         {
          "addr": 0,
          "city": 1,
          "level_0": 230,
          "level_1": 71,
          "name": 0
         },
         {
          "addr": 0,
          "city": 1,
          "level_0": 231,
          "level_1": 7,
          "name": 0
         },
         {
          "addr": 0,
          "city": 1,
          "level_0": 231,
          "level_1": 12,
          "name": 0
         },
         {
          "addr": 0,
          "city": 1,
          "level_0": 231,
          "level_1": 20,
          "name": 0
         },
         {
          "addr": 0,
          "city": 1,
          "level_0": 231,
          "level_1": 27,
          "name": 0
         },
         {
          "addr": 0,
          "city": 1,
          "level_0": 231,
          "level_1": 47,
          "name": 0
         },
         {
          "addr": 0,
          "city": 1,
          "level_0": 231,
          "level_1": 55,
          "name": 0
         },
         {
          "addr": 0,
          "city": 1,
          "level_0": 231,
          "level_1": 57,
          "name": 0
         },
         {
          "addr": 0,
          "city": 1,
          "level_0": 231,
          "level_1": 67,
          "name": 0
         },
         {
          "addr": 0,
          "city": 1,
          "level_0": 231,
          "level_1": 71,
          "name": 0
         },
         {
          "addr": 0,
          "city": 1,
          "level_0": 232,
          "level_1": 7,
          "name": 0
         },
         {
          "addr": 0,
          "city": 1,
          "level_0": 232,
          "level_1": 12,
          "name": 0
         },
         {
          "addr": 0,
          "city": 1,
          "level_0": 232,
          "level_1": 20,
          "name": 0
         },
         {
          "addr": 0,
          "city": 1,
          "level_0": 232,
          "level_1": 27,
          "name": 0
         },
         {
          "addr": 0,
          "city": 1,
          "level_0": 232,
          "level_1": 47,
          "name": 0
         },
         {
          "addr": 0,
          "city": 1,
          "level_0": 232,
          "level_1": 55,
          "name": 0
         },
         {
          "addr": 0,
          "city": 1,
          "level_0": 232,
          "level_1": 57,
          "name": 0
         },
         {
          "addr": 0,
          "city": 1,
          "level_0": 232,
          "level_1": 67,
          "name": 0
         },
         {
          "addr": 0,
          "city": 1,
          "level_0": 232,
          "level_1": 71,
          "name": 0
         },
         {
          "addr": 0,
          "city": 1,
          "level_0": 233,
          "level_1": 7,
          "name": 0
         },
         {
          "addr": 0,
          "city": 1,
          "level_0": 233,
          "level_1": 12,
          "name": 0
         },
         {
          "addr": 0,
          "city": 1,
          "level_0": 233,
          "level_1": 20,
          "name": 0
         },
         {
          "addr": 0,
          "city": 1,
          "level_0": 233,
          "level_1": 27,
          "name": 0
         },
         {
          "addr": 0,
          "city": 1,
          "level_0": 233,
          "level_1": 47,
          "name": 0
         },
         {
          "addr": 0,
          "city": 1,
          "level_0": 233,
          "level_1": 55,
          "name": 0
         },
         {
          "addr": 0,
          "city": 1,
          "level_0": 233,
          "level_1": 57,
          "name": 0
         },
         {
          "addr": 0,
          "city": 1,
          "level_0": 233,
          "level_1": 67,
          "name": 0
         },
         {
          "addr": 0,
          "city": 1,
          "level_0": 233,
          "level_1": 71,
          "name": 0
         },
         {
          "addr": 0,
          "city": 1,
          "level_0": 234,
          "level_1": 7,
          "name": 0
         },
         {
          "addr": 0,
          "city": 1,
          "level_0": 234,
          "level_1": 12,
          "name": 0
         },
         {
          "addr": 0,
          "city": 1,
          "level_0": 234,
          "level_1": 20,
          "name": 0
         },
         {
          "addr": 0,
          "city": 1,
          "level_0": 234,
          "level_1": 27,
          "name": 0
         },
         {
          "addr": 0,
          "city": 1,
          "level_0": 234,
          "level_1": 47,
          "name": 0
         },
         {
          "addr": 0,
          "city": 1,
          "level_0": 234,
          "level_1": 55,
          "name": 0
         },
         {
          "addr": 0,
          "city": 1,
          "level_0": 234,
          "level_1": 57,
          "name": 0
         },
         {
          "addr": 0,
          "city": 1,
          "level_0": 234,
          "level_1": 67,
          "name": 0
         },
         {
          "addr": 0,
          "city": 1,
          "level_0": 234,
          "level_1": 71,
          "name": 0
         },
         {
          "addr": 0,
          "city": 1,
          "level_0": 235,
          "level_1": 7,
          "name": 0
         },
         {
          "addr": 0,
          "city": 1,
          "level_0": 235,
          "level_1": 12,
          "name": 0
         },
         {
          "addr": 0,
          "city": 1,
          "level_0": 235,
          "level_1": 20,
          "name": 0
         },
         {
          "addr": 0,
          "city": 1,
          "level_0": 235,
          "level_1": 27,
          "name": 0
         },
         {
          "addr": 0,
          "city": 1,
          "level_0": 235,
          "level_1": 47,
          "name": 0
         },
         {
          "addr": 0,
          "city": 1,
          "level_0": 235,
          "level_1": 55,
          "name": 0
         },
         {
          "addr": 0,
          "city": 1,
          "level_0": 235,
          "level_1": 57,
          "name": 0
         },
         {
          "addr": 0,
          "city": 1,
          "level_0": 235,
          "level_1": 67,
          "name": 0
         },
         {
          "addr": 0,
          "city": 1,
          "level_0": 235,
          "level_1": 71,
          "name": 0
         },
         {
          "addr": 0,
          "city": 1,
          "level_0": 236,
          "level_1": 7,
          "name": 0
         },
         {
          "addr": 0,
          "city": 1,
          "level_0": 236,
          "level_1": 12,
          "name": 0
         },
         {
          "addr": 0,
          "city": 1,
          "level_0": 236,
          "level_1": 20,
          "name": 0
         },
         {
          "addr": 0,
          "city": 1,
          "level_0": 236,
          "level_1": 27,
          "name": 0
         },
         {
          "addr": 0,
          "city": 1,
          "level_0": 236,
          "level_1": 47,
          "name": 0
         },
         {
          "addr": 0,
          "city": 1,
          "level_0": 236,
          "level_1": 55,
          "name": 0
         },
         {
          "addr": 0,
          "city": 1,
          "level_0": 236,
          "level_1": 57,
          "name": 0
         },
         {
          "addr": 0,
          "city": 1,
          "level_0": 236,
          "level_1": 67,
          "name": 0
         },
         {
          "addr": 0,
          "city": 1,
          "level_0": 236,
          "level_1": 71,
          "name": 0
         },
         {
          "addr": 0,
          "city": 1,
          "level_0": 237,
          "level_1": 7,
          "name": 0
         },
         {
          "addr": 0,
          "city": 1,
          "level_0": 237,
          "level_1": 12,
          "name": 0
         },
         {
          "addr": 0,
          "city": 1,
          "level_0": 237,
          "level_1": 20,
          "name": 0
         },
         {
          "addr": 0,
          "city": 1,
          "level_0": 237,
          "level_1": 27,
          "name": 0
         },
         {
          "addr": 0,
          "city": 1,
          "level_0": 237,
          "level_1": 47,
          "name": 0
         },
         {
          "addr": 0,
          "city": 1,
          "level_0": 237,
          "level_1": 55,
          "name": 0
         },
         {
          "addr": 0,
          "city": 1,
          "level_0": 237,
          "level_1": 57,
          "name": 0
         },
         {
          "addr": 0,
          "city": 1,
          "level_0": 237,
          "level_1": 67,
          "name": 0
         },
         {
          "addr": 0,
          "city": 1,
          "level_0": 237,
          "level_1": 71,
          "name": 0
         },
         {
          "addr": 0,
          "city": 1,
          "level_0": 238,
          "level_1": 7,
          "name": 0
         },
         {
          "addr": 0,
          "city": 1,
          "level_0": 238,
          "level_1": 12,
          "name": 0
         },
         {
          "addr": 0,
          "city": 1,
          "level_0": 238,
          "level_1": 20,
          "name": 0
         },
         {
          "addr": 0,
          "city": 1,
          "level_0": 238,
          "level_1": 27,
          "name": 0
         },
         {
          "addr": 0,
          "city": 1,
          "level_0": 238,
          "level_1": 47,
          "name": 0
         },
         {
          "addr": 0,
          "city": 1,
          "level_0": 238,
          "level_1": 55,
          "name": 0
         },
         {
          "addr": 0,
          "city": 1,
          "level_0": 238,
          "level_1": 57,
          "name": 0
         },
         {
          "addr": 0,
          "city": 1,
          "level_0": 238,
          "level_1": 67,
          "name": 0
         },
         {
          "addr": 0,
          "city": 1,
          "level_0": 238,
          "level_1": 71,
          "name": 0
         },
         {
          "addr": 0,
          "city": 1,
          "level_0": 239,
          "level_1": 7,
          "name": 0
         },
         {
          "addr": 0,
          "city": 1,
          "level_0": 239,
          "level_1": 12,
          "name": 0
         },
         {
          "addr": 0,
          "city": 1,
          "level_0": 239,
          "level_1": 20,
          "name": 0
         },
         {
          "addr": 0,
          "city": 1,
          "level_0": 239,
          "level_1": 27,
          "name": 0
         },
         {
          "addr": 0,
          "city": 1,
          "level_0": 239,
          "level_1": 47,
          "name": 0
         },
         {
          "addr": 0,
          "city": 1,
          "level_0": 239,
          "level_1": 55,
          "name": 0
         },
         {
          "addr": 0,
          "city": 1,
          "level_0": 239,
          "level_1": 57,
          "name": 0
         },
         {
          "addr": 1,
          "city": 1,
          "level_0": 239,
          "level_1": 67,
          "name": 0
         },
         {
          "addr": 0,
          "city": 1,
          "level_0": 239,
          "level_1": 71,
          "name": 0
         },
         {
          "addr": 0,
          "city": 1,
          "level_0": 240,
          "level_1": 7,
          "name": 0
         },
         {
          "addr": 0,
          "city": 1,
          "level_0": 240,
          "level_1": 12,
          "name": 0
         },
         {
          "addr": 0,
          "city": 1,
          "level_0": 240,
          "level_1": 20,
          "name": 0
         },
         {
          "addr": 0,
          "city": 1,
          "level_0": 240,
          "level_1": 27,
          "name": 0
         },
         {
          "addr": 0,
          "city": 1,
          "level_0": 240,
          "level_1": 47,
          "name": 0
         },
         {
          "addr": 0,
          "city": 1,
          "level_0": 240,
          "level_1": 55,
          "name": 0
         },
         {
          "addr": 0,
          "city": 1,
          "level_0": 240,
          "level_1": 57,
          "name": 0
         },
         {
          "addr": 0,
          "city": 1,
          "level_0": 240,
          "level_1": 67,
          "name": 0
         },
         {
          "addr": 0,
          "city": 1,
          "level_0": 240,
          "level_1": 71,
          "name": 0
         },
         {
          "addr": 0,
          "city": 1,
          "level_0": 241,
          "level_1": 7,
          "name": 0
         },
         {
          "addr": 0,
          "city": 1,
          "level_0": 241,
          "level_1": 12,
          "name": 0
         },
         {
          "addr": 0,
          "city": 1,
          "level_0": 241,
          "level_1": 20,
          "name": 0
         },
         {
          "addr": 0,
          "city": 1,
          "level_0": 241,
          "level_1": 27,
          "name": 0
         },
         {
          "addr": 0,
          "city": 1,
          "level_0": 241,
          "level_1": 47,
          "name": 0
         },
         {
          "addr": 0,
          "city": 1,
          "level_0": 241,
          "level_1": 55,
          "name": 0
         },
         {
          "addr": 0,
          "city": 1,
          "level_0": 241,
          "level_1": 57,
          "name": 0
         },
         {
          "addr": 0,
          "city": 1,
          "level_0": 241,
          "level_1": 67,
          "name": 0
         },
         {
          "addr": 0,
          "city": 1,
          "level_0": 241,
          "level_1": 71,
          "name": 0
         },
         {
          "addr": 0,
          "city": 1,
          "level_0": 242,
          "level_1": 7,
          "name": 0
         },
         {
          "addr": 0,
          "city": 1,
          "level_0": 242,
          "level_1": 12,
          "name": 0
         },
         {
          "addr": 0,
          "city": 1,
          "level_0": 242,
          "level_1": 20,
          "name": 0
         },
         {
          "addr": 0,
          "city": 1,
          "level_0": 242,
          "level_1": 27,
          "name": 0
         },
         {
          "addr": 0,
          "city": 1,
          "level_0": 242,
          "level_1": 47,
          "name": 0
         },
         {
          "addr": 0,
          "city": 1,
          "level_0": 242,
          "level_1": 55,
          "name": 0
         },
         {
          "addr": 0,
          "city": 1,
          "level_0": 242,
          "level_1": 57,
          "name": 0
         },
         {
          "addr": 0,
          "city": 1,
          "level_0": 242,
          "level_1": 67,
          "name": 0
         },
         {
          "addr": 0,
          "city": 1,
          "level_0": 242,
          "level_1": 71,
          "name": 0
         },
         {
          "addr": 0,
          "city": 1,
          "level_0": 243,
          "level_1": 7,
          "name": 0
         },
         {
          "addr": 0,
          "city": 1,
          "level_0": 243,
          "level_1": 12,
          "name": 0
         },
         {
          "addr": 0,
          "city": 1,
          "level_0": 243,
          "level_1": 20,
          "name": 0
         },
         {
          "addr": 0,
          "city": 1,
          "level_0": 243,
          "level_1": 27,
          "name": 0
         },
         {
          "addr": 0,
          "city": 1,
          "level_0": 243,
          "level_1": 47,
          "name": 0
         },
         {
          "addr": 0,
          "city": 1,
          "level_0": 243,
          "level_1": 55,
          "name": 0
         },
         {
          "addr": 0,
          "city": 1,
          "level_0": 243,
          "level_1": 57,
          "name": 0
         },
         {
          "addr": 0,
          "city": 1,
          "level_0": 243,
          "level_1": 67,
          "name": 0
         },
         {
          "addr": 0,
          "city": 1,
          "level_0": 243,
          "level_1": 71,
          "name": 0
         },
         {
          "addr": 0,
          "city": 1,
          "level_0": 244,
          "level_1": 7,
          "name": 0
         },
         {
          "addr": 0,
          "city": 1,
          "level_0": 244,
          "level_1": 12,
          "name": 0
         },
         {
          "addr": 0,
          "city": 1,
          "level_0": 244,
          "level_1": 20,
          "name": 0
         },
         {
          "addr": 0,
          "city": 1,
          "level_0": 244,
          "level_1": 27,
          "name": 0
         },
         {
          "addr": 1,
          "city": 1,
          "level_0": 244,
          "level_1": 47,
          "name": 0
         },
         {
          "addr": 0,
          "city": 1,
          "level_0": 244,
          "level_1": 55,
          "name": 0
         },
         {
          "addr": 0,
          "city": 1,
          "level_0": 244,
          "level_1": 57,
          "name": 0
         },
         {
          "addr": 0,
          "city": 1,
          "level_0": 244,
          "level_1": 67,
          "name": 0
         },
         {
          "addr": 1,
          "city": 1,
          "level_0": 244,
          "level_1": 71,
          "name": 0
         },
         {
          "addr": 0,
          "city": 1,
          "level_0": 245,
          "level_1": 7,
          "name": 0
         },
         {
          "addr": 0,
          "city": 1,
          "level_0": 245,
          "level_1": 12,
          "name": 0
         },
         {
          "addr": 0,
          "city": 1,
          "level_0": 245,
          "level_1": 20,
          "name": 0
         },
         {
          "addr": 0,
          "city": 1,
          "level_0": 245,
          "level_1": 27,
          "name": 0
         },
         {
          "addr": 0,
          "city": 1,
          "level_0": 245,
          "level_1": 47,
          "name": 0
         },
         {
          "addr": 0,
          "city": 1,
          "level_0": 245,
          "level_1": 55,
          "name": 0
         },
         {
          "addr": 0,
          "city": 1,
          "level_0": 245,
          "level_1": 57,
          "name": 0
         },
         {
          "addr": 0,
          "city": 1,
          "level_0": 245,
          "level_1": 67,
          "name": 0
         },
         {
          "addr": 0,
          "city": 1,
          "level_0": 245,
          "level_1": 71,
          "name": 0
         },
         {
          "addr": 0,
          "city": 1,
          "level_0": 246,
          "level_1": 7,
          "name": 0
         },
         {
          "addr": 0,
          "city": 1,
          "level_0": 246,
          "level_1": 12,
          "name": 0
         },
         {
          "addr": 0,
          "city": 1,
          "level_0": 246,
          "level_1": 20,
          "name": 0
         },
         {
          "addr": 0,
          "city": 1,
          "level_0": 246,
          "level_1": 27,
          "name": 0
         },
         {
          "addr": 0,
          "city": 1,
          "level_0": 246,
          "level_1": 47,
          "name": 0
         },
         {
          "addr": 0,
          "city": 1,
          "level_0": 246,
          "level_1": 55,
          "name": 0
         },
         {
          "addr": 0,
          "city": 1,
          "level_0": 246,
          "level_1": 57,
          "name": 0
         },
         {
          "addr": 0,
          "city": 1,
          "level_0": 246,
          "level_1": 67,
          "name": 0
         },
         {
          "addr": 0,
          "city": 1,
          "level_0": 246,
          "level_1": 71,
          "name": 0
         },
         {
          "addr": 0,
          "city": 1,
          "level_0": 247,
          "level_1": 7,
          "name": 0
         },
         {
          "addr": 0,
          "city": 1,
          "level_0": 247,
          "level_1": 12,
          "name": 0
         },
         {
          "addr": 0,
          "city": 1,
          "level_0": 247,
          "level_1": 20,
          "name": 0
         },
         {
          "addr": 0,
          "city": 1,
          "level_0": 247,
          "level_1": 27,
          "name": 0
         },
         {
          "addr": 0,
          "city": 1,
          "level_0": 247,
          "level_1": 47,
          "name": 0
         },
         {
          "addr": 0,
          "city": 1,
          "level_0": 247,
          "level_1": 55,
          "name": 0
         },
         {
          "addr": 0,
          "city": 1,
          "level_0": 247,
          "level_1": 57,
          "name": 0
         },
         {
          "addr": 0,
          "city": 1,
          "level_0": 247,
          "level_1": 67,
          "name": 0
         },
         {
          "addr": 0,
          "city": 1,
          "level_0": 247,
          "level_1": 71,
          "name": 0
         }
        ],
        "schema": {
         "fields": [
          {
           "name": "level_0",
           "type": "integer"
          },
          {
           "name": "level_1",
           "type": "integer"
          },
          {
           "name": "city",
           "type": "integer"
          },
          {
           "name": "name",
           "type": "number"
          },
          {
           "name": "addr",
           "type": "number"
          }
         ],
         "pandas_version": "0.20.0",
         "primaryKey": [
          "level_0",
          "level_1"
         ]
        }
       },
       "total_rows": 2047
      },
      "text/html": [
       "<div>\n",
       "<style scoped>\n",
       "    .dataframe tbody tr th:only-of-type {\n",
       "        vertical-align: middle;\n",
       "    }\n",
       "\n",
       "    .dataframe tbody tr th {\n",
       "        vertical-align: top;\n",
       "    }\n",
       "\n",
       "    .dataframe thead th {\n",
       "        text-align: right;\n",
       "    }\n",
       "</style>\n",
       "<table border=\"1\" class=\"dataframe\">\n",
       "  <thead>\n",
       "    <tr style=\"text-align: right;\">\n",
       "      <th></th>\n",
       "      <th></th>\n",
       "      <th>city</th>\n",
       "      <th>name</th>\n",
       "      <th>addr</th>\n",
       "    </tr>\n",
       "  </thead>\n",
       "  <tbody>\n",
       "    <tr>\n",
       "      <th rowspan=\"5\" valign=\"top\">0</th>\n",
       "      <th>3</th>\n",
       "      <td>1</td>\n",
       "      <td>0.0</td>\n",
       "      <td>0.0</td>\n",
       "    </tr>\n",
       "    <tr>\n",
       "      <th>26</th>\n",
       "      <td>1</td>\n",
       "      <td>0.0</td>\n",
       "      <td>0.0</td>\n",
       "    </tr>\n",
       "    <tr>\n",
       "      <th>40</th>\n",
       "      <td>1</td>\n",
       "      <td>1.0</td>\n",
       "      <td>1.0</td>\n",
       "    </tr>\n",
       "    <tr>\n",
       "      <th>43</th>\n",
       "      <td>1</td>\n",
       "      <td>0.0</td>\n",
       "      <td>0.0</td>\n",
       "    </tr>\n",
       "    <tr>\n",
       "      <th>50</th>\n",
       "      <td>1</td>\n",
       "      <td>0.0</td>\n",
       "      <td>0.0</td>\n",
       "    </tr>\n",
       "    <tr>\n",
       "      <th>...</th>\n",
       "      <th>...</th>\n",
       "      <td>...</td>\n",
       "      <td>...</td>\n",
       "      <td>...</td>\n",
       "    </tr>\n",
       "    <tr>\n",
       "      <th rowspan=\"5\" valign=\"top\">247</th>\n",
       "      <th>47</th>\n",
       "      <td>1</td>\n",
       "      <td>0.0</td>\n",
       "      <td>0.0</td>\n",
       "    </tr>\n",
       "    <tr>\n",
       "      <th>55</th>\n",
       "      <td>1</td>\n",
       "      <td>0.0</td>\n",
       "      <td>0.0</td>\n",
       "    </tr>\n",
       "    <tr>\n",
       "      <th>57</th>\n",
       "      <td>1</td>\n",
       "      <td>0.0</td>\n",
       "      <td>0.0</td>\n",
       "    </tr>\n",
       "    <tr>\n",
       "      <th>67</th>\n",
       "      <td>1</td>\n",
       "      <td>0.0</td>\n",
       "      <td>0.0</td>\n",
       "    </tr>\n",
       "    <tr>\n",
       "      <th>71</th>\n",
       "      <td>1</td>\n",
       "      <td>0.0</td>\n",
       "      <td>0.0</td>\n",
       "    </tr>\n",
       "  </tbody>\n",
       "</table>\n",
       "<p>2047 rows × 3 columns</p>\n",
       "</div>"
      ],
      "text/plain": [
       "        city  name  addr\n",
       "0   3      1   0.0   0.0\n",
       "    26     1   0.0   0.0\n",
       "    40     1   1.0   1.0\n",
       "    43     1   0.0   0.0\n",
       "    50     1   0.0   0.0\n",
       "...      ...   ...   ...\n",
       "247 47     1   0.0   0.0\n",
       "    55     1   0.0   0.0\n",
       "    57     1   0.0   0.0\n",
       "    67     1   0.0   0.0\n",
       "    71     1   0.0   0.0\n",
       "\n",
       "[2047 rows x 3 columns]"
      ]
     },
     "execution_count": 25,
     "metadata": {},
     "output_type": "execute_result"
    }
   ],
   "source": [
    "# Let's check it with recordlinkage\n",
    "# import recordlinkage (if not already done so)\n",
    "\n",
    "indexer = recordlinkage.Index()\n",
    "indexer.block('city')\n",
    "full_pairs = indexer.index(restaurants, restaurants_new)\n",
    "\n",
    "#Comparison\n",
    "compare_cl = recordlinkage.Compare()\n",
    "compare_cl.exact('city', 'city', label='city')\n",
    "compare_cl.string('name', 'name', threshold=0.8, label='name')\n",
    "compare_cl.string('addr', 'addr', threshold=0.8, label='addr')\n",
    "\n",
    "potential_matches = compare_cl.compute(full_pairs, restaurants, restaurants_new)\n",
    "\n",
    "potential_matches"
   ]
  },
  {
   "cell_type": "markdown",
   "id": "27f177cf-0853-4fb9-bef6-df93810a51e4",
   "metadata": {},
   "source": [
    "We have a lot of potential matches. Let's narrow those down. As indicated above, the more 1s, the more likely it is a duplicate. So let's find the potential duplicates that have a 1 in all three comparison columns. "
   ]
  },
  {
   "cell_type": "code",
   "execution_count": null,
   "id": "0e4e51ff-5f35-414e-8f84-4af247fd2571",
   "metadata": {},
   "outputs": [
    {
     "data": {
      "application/com.datacamp.data-table.v1+json": {
       "is_truncated": false,
       "table": {
        "data": [
         {
          "addr": 1,
          "city": 1,
          "level_0": 0,
          "level_1": 40,
          "name": 1
         },
         {
          "addr": 1,
          "city": 1,
          "level_0": 2,
          "level_1": 74,
          "name": 1
         },
         {
          "addr": 1,
          "city": 1,
          "level_0": 4,
          "level_1": 53,
          "name": 1
         },
         {
          "addr": 1,
          "city": 1,
          "level_0": 5,
          "level_1": 65,
          "name": 1
         },
         {
          "addr": 1,
          "city": 1,
          "level_0": 6,
          "level_1": 73,
          "name": 1
         },
         {
          "addr": 1,
          "city": 1,
          "level_0": 8,
          "level_1": 43,
          "name": 1
         },
         {
          "addr": 1,
          "city": 1,
          "level_0": 9,
          "level_1": 50,
          "name": 1
         },
         {
          "addr": 1,
          "city": 1,
          "level_0": 10,
          "level_1": 75,
          "name": 1
         },
         {
          "addr": 1,
          "city": 1,
          "level_0": 12,
          "level_1": 26,
          "name": 1
         },
         {
          "addr": 1,
          "city": 1,
          "level_0": 1,
          "level_1": 28,
          "name": 1
         },
         {
          "addr": 1,
          "city": 1,
          "level_0": 3,
          "level_1": 1,
          "name": 1
         },
         {
          "addr": 1,
          "city": 1,
          "level_0": 7,
          "level_1": 79,
          "name": 1
         },
         {
          "addr": 1,
          "city": 1,
          "level_0": 11,
          "level_1": 21,
          "name": 1
         },
         {
          "addr": 1,
          "city": 1,
          "level_0": 13,
          "level_1": 7,
          "name": 1
         },
         {
          "addr": 1,
          "city": 1,
          "level_0": 14,
          "level_1": 67,
          "name": 1
         },
         {
          "addr": 1,
          "city": 1,
          "level_0": 15,
          "level_1": 55,
          "name": 1
         },
         {
          "addr": 1,
          "city": 1,
          "level_0": 16,
          "level_1": 57,
          "name": 1
         },
         {
          "addr": 1,
          "city": 1,
          "level_0": 17,
          "level_1": 12,
          "name": 1
         },
         {
          "addr": 1,
          "city": 1,
          "level_0": 18,
          "level_1": 71,
          "name": 1
         },
         {
          "addr": 1,
          "city": 1,
          "level_0": 19,
          "level_1": 47,
          "name": 1
         },
         {
          "addr": 1,
          "city": 1,
          "level_0": 20,
          "level_1": 20,
          "name": 1
         },
         {
          "addr": 1,
          "city": 1,
          "level_0": 21,
          "level_1": 27,
          "name": 1
         }
        ],
        "schema": {
         "fields": [
          {
           "name": "level_0",
           "type": "integer"
          },
          {
           "name": "level_1",
           "type": "integer"
          },
          {
           "name": "city",
           "type": "integer"
          },
          {
           "name": "name",
           "type": "number"
          },
          {
           "name": "addr",
           "type": "number"
          }
         ],
         "pandas_version": "0.20.0",
         "primaryKey": [
          "level_0",
          "level_1"
         ]
        }
       },
       "total_rows": 22
      },
      "text/html": [
       "<div>\n",
       "<style scoped>\n",
       "    .dataframe tbody tr th:only-of-type {\n",
       "        vertical-align: middle;\n",
       "    }\n",
       "\n",
       "    .dataframe tbody tr th {\n",
       "        vertical-align: top;\n",
       "    }\n",
       "\n",
       "    .dataframe thead th {\n",
       "        text-align: right;\n",
       "    }\n",
       "</style>\n",
       "<table border=\"1\" class=\"dataframe\">\n",
       "  <thead>\n",
       "    <tr style=\"text-align: right;\">\n",
       "      <th></th>\n",
       "      <th></th>\n",
       "      <th>city</th>\n",
       "      <th>name</th>\n",
       "      <th>addr</th>\n",
       "    </tr>\n",
       "  </thead>\n",
       "  <tbody>\n",
       "    <tr>\n",
       "      <th>0</th>\n",
       "      <th>40</th>\n",
       "      <td>1</td>\n",
       "      <td>1.0</td>\n",
       "      <td>1.0</td>\n",
       "    </tr>\n",
       "    <tr>\n",
       "      <th>2</th>\n",
       "      <th>74</th>\n",
       "      <td>1</td>\n",
       "      <td>1.0</td>\n",
       "      <td>1.0</td>\n",
       "    </tr>\n",
       "    <tr>\n",
       "      <th>4</th>\n",
       "      <th>53</th>\n",
       "      <td>1</td>\n",
       "      <td>1.0</td>\n",
       "      <td>1.0</td>\n",
       "    </tr>\n",
       "    <tr>\n",
       "      <th>5</th>\n",
       "      <th>65</th>\n",
       "      <td>1</td>\n",
       "      <td>1.0</td>\n",
       "      <td>1.0</td>\n",
       "    </tr>\n",
       "    <tr>\n",
       "      <th>6</th>\n",
       "      <th>73</th>\n",
       "      <td>1</td>\n",
       "      <td>1.0</td>\n",
       "      <td>1.0</td>\n",
       "    </tr>\n",
       "    <tr>\n",
       "      <th>8</th>\n",
       "      <th>43</th>\n",
       "      <td>1</td>\n",
       "      <td>1.0</td>\n",
       "      <td>1.0</td>\n",
       "    </tr>\n",
       "    <tr>\n",
       "      <th>9</th>\n",
       "      <th>50</th>\n",
       "      <td>1</td>\n",
       "      <td>1.0</td>\n",
       "      <td>1.0</td>\n",
       "    </tr>\n",
       "    <tr>\n",
       "      <th>10</th>\n",
       "      <th>75</th>\n",
       "      <td>1</td>\n",
       "      <td>1.0</td>\n",
       "      <td>1.0</td>\n",
       "    </tr>\n",
       "    <tr>\n",
       "      <th>12</th>\n",
       "      <th>26</th>\n",
       "      <td>1</td>\n",
       "      <td>1.0</td>\n",
       "      <td>1.0</td>\n",
       "    </tr>\n",
       "    <tr>\n",
       "      <th>1</th>\n",
       "      <th>28</th>\n",
       "      <td>1</td>\n",
       "      <td>1.0</td>\n",
       "      <td>1.0</td>\n",
       "    </tr>\n",
       "    <tr>\n",
       "      <th>3</th>\n",
       "      <th>1</th>\n",
       "      <td>1</td>\n",
       "      <td>1.0</td>\n",
       "      <td>1.0</td>\n",
       "    </tr>\n",
       "    <tr>\n",
       "      <th>7</th>\n",
       "      <th>79</th>\n",
       "      <td>1</td>\n",
       "      <td>1.0</td>\n",
       "      <td>1.0</td>\n",
       "    </tr>\n",
       "    <tr>\n",
       "      <th>11</th>\n",
       "      <th>21</th>\n",
       "      <td>1</td>\n",
       "      <td>1.0</td>\n",
       "      <td>1.0</td>\n",
       "    </tr>\n",
       "    <tr>\n",
       "      <th>13</th>\n",
       "      <th>7</th>\n",
       "      <td>1</td>\n",
       "      <td>1.0</td>\n",
       "      <td>1.0</td>\n",
       "    </tr>\n",
       "    <tr>\n",
       "      <th>14</th>\n",
       "      <th>67</th>\n",
       "      <td>1</td>\n",
       "      <td>1.0</td>\n",
       "      <td>1.0</td>\n",
       "    </tr>\n",
       "    <tr>\n",
       "      <th>15</th>\n",
       "      <th>55</th>\n",
       "      <td>1</td>\n",
       "      <td>1.0</td>\n",
       "      <td>1.0</td>\n",
       "    </tr>\n",
       "    <tr>\n",
       "      <th>16</th>\n",
       "      <th>57</th>\n",
       "      <td>1</td>\n",
       "      <td>1.0</td>\n",
       "      <td>1.0</td>\n",
       "    </tr>\n",
       "    <tr>\n",
       "      <th>17</th>\n",
       "      <th>12</th>\n",
       "      <td>1</td>\n",
       "      <td>1.0</td>\n",
       "      <td>1.0</td>\n",
       "    </tr>\n",
       "    <tr>\n",
       "      <th>18</th>\n",
       "      <th>71</th>\n",
       "      <td>1</td>\n",
       "      <td>1.0</td>\n",
       "      <td>1.0</td>\n",
       "    </tr>\n",
       "    <tr>\n",
       "      <th>19</th>\n",
       "      <th>47</th>\n",
       "      <td>1</td>\n",
       "      <td>1.0</td>\n",
       "      <td>1.0</td>\n",
       "    </tr>\n",
       "    <tr>\n",
       "      <th>20</th>\n",
       "      <th>20</th>\n",
       "      <td>1</td>\n",
       "      <td>1.0</td>\n",
       "      <td>1.0</td>\n",
       "    </tr>\n",
       "    <tr>\n",
       "      <th>21</th>\n",
       "      <th>27</th>\n",
       "      <td>1</td>\n",
       "      <td>1.0</td>\n",
       "      <td>1.0</td>\n",
       "    </tr>\n",
       "  </tbody>\n",
       "</table>\n",
       "</div>"
      ],
      "text/plain": [
       "       city  name  addr\n",
       "0  40     1   1.0   1.0\n",
       "2  74     1   1.0   1.0\n",
       "4  53     1   1.0   1.0\n",
       "5  65     1   1.0   1.0\n",
       "6  73     1   1.0   1.0\n",
       "8  43     1   1.0   1.0\n",
       "9  50     1   1.0   1.0\n",
       "10 75     1   1.0   1.0\n",
       "12 26     1   1.0   1.0\n",
       "1  28     1   1.0   1.0\n",
       "3  1      1   1.0   1.0\n",
       "7  79     1   1.0   1.0\n",
       "11 21     1   1.0   1.0\n",
       "13 7      1   1.0   1.0\n",
       "14 67     1   1.0   1.0\n",
       "15 55     1   1.0   1.0\n",
       "16 57     1   1.0   1.0\n",
       "17 12     1   1.0   1.0\n",
       "18 71     1   1.0   1.0\n",
       "19 47     1   1.0   1.0\n",
       "20 20     1   1.0   1.0\n",
       "21 27     1   1.0   1.0"
      ]
     },
     "execution_count": 27,
     "metadata": {},
     "output_type": "execute_result"
    }
   ],
   "source": [
    "matches = potential_matches[potential_matches.sum(axis = 1) == 3]\n",
    "matches"
   ]
  },
  {
   "cell_type": "markdown",
   "id": "1660a60d-8a8a-4478-96d2-15a0f9a10f29",
   "metadata": {},
   "source": [
    "At this point, we can see that we have 22 duplicates. If you want to continue to merge without the duplicates then clean as we did above, the code for the merge is below. I will not go through the cleaning again. You will need to reset the index after the merge."
   ]
  },
  {
   "cell_type": "code",
   "execution_count": null,
   "id": "8710b412-6dd5-4cd3-bb61-0230bf3f8636",
   "metadata": {},
   "outputs": [
    {
     "name": "stdout",
     "output_type": "stream",
     "text": [
      "<class 'pandas.core.frame.DataFrame'>\n",
      "Int64Index: 396 entries, 0 to 81\n",
      "Data columns (total 5 columns):\n",
      " #   Column  Non-Null Count  Dtype \n",
      "---  ------  --------------  ----- \n",
      " 0   name    396 non-null    object\n",
      " 1   addr    396 non-null    object\n",
      " 2   city    396 non-null    object\n",
      " 3   phone   396 non-null    int64 \n",
      " 4   type    396 non-null    object\n",
      "dtypes: int64(1), object(4)\n",
      "memory usage: 18.6+ KB\n"
     ]
    }
   ],
   "source": [
    "duplicate_rows = matches.index.get_level_values(1)\n",
    "rest_new_dups = restaurants_new[restaurants_new.index.isin(duplicate_rows)]\n",
    "rest_new_new = restaurants_new[~restaurants_new.index.isin(duplicate_rows)]\n",
    "df_new = restaurants.append(rest_new_new)\n",
    "df_new.reset_index()\n",
    "df_new.info() # We should have 396 rows of data."
   ]
  },
  {
   "cell_type": "code",
   "execution_count": null,
   "id": "9ba621e9",
   "metadata": {},
   "outputs": [],
   "source": [
    "# Let's admire our work from the first example\n",
    "df.head()"
   ]
  },
  {
   "cell_type": "markdown",
   "id": "c5b27599",
   "metadata": {},
   "source": [
    "## Conclusion\n",
    "This tutorial covered joining data then removing duplicates, removing duplicates then joining data, cleaning up some categories and changing strings to title case. This also completes my little series on cleaning data in Pandas. If you have not seen the other three, please check out either my GitHub or Medium page. As always, I do receive any monetary value for sharing writing and sharing these tutorials on Medium, nor will I ever. I do this to solidify what I have learned and hopefully help a few people out along the way. As a reminder, I feel cleaning data is the single most important step to great analysis, as the old saying goes \"garbage in, garbage out\". Take your time, make sure that you are thorough. While you are cleaning, you will become more familar with the data and potentially help to fix your organization's data problems as you do it."
   ]
  }
 ],
 "metadata": {
  "colab": {
   "name": "Welcome to DataCamp Workspaces.ipynb",
   "provenance": []
  },
  "editor": "DataCamp Workspace",
  "kernelspec": {
   "display_name": "Python 3 (ipykernel)",
   "language": "python",
   "name": "python3"
  },
  "language_info": {
   "codemirror_mode": {
    "name": "ipython",
    "version": 3
   },
   "file_extension": ".py",
   "mimetype": "text/x-python",
   "name": "python",
   "nbconvert_exporter": "python",
   "pygments_lexer": "ipython3",
   "version": "3.8.10"
  }
 },
 "nbformat": 4,
 "nbformat_minor": 5
}
